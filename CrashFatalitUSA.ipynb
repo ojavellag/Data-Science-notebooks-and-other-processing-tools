{
  "cells": [
    {
      "metadata": {
        "_cell_guid": "558d2bc1-50ef-48eb-b829-e2bf42170424",
        "_uuid": "4f6bbfeb861491c681e1a4598d2aaaa6c9fd3b77"
      },
      "cell_type": "markdown",
      "source": "## Let's start exploring people's behavior on roads during 2016"
    },
    {
      "metadata": {
        "_cell_guid": "182531a1-aa52-4541-98ba-782eba0767d0",
        "_uuid": "1cfdc49037b672c865cbb6deab24055de5398071",
        "trusted": false,
        "collapsed": true
      },
      "cell_type": "code",
      "source": "import bq_helper as bqh\n\ntraff_info = bqh.BigQueryHelper(active_project=\"bigquery-public-data\",\n                                dataset_name=\"nhtsa_traffic_fatalities\")\ntraff_info.head(\"accident_2015\",10)",
      "execution_count": null,
      "outputs": []
    },
    {
      "metadata": {
        "_cell_guid": "d2302d0a-3cde-420e-ab90-70bceb608c64",
        "_uuid": "765c392fa56824c890c932149440c962d266dd3b"
      },
      "cell_type": "markdown",
      "source": "1. ### Now, let's check the day(s) of the week with more accidents"
    },
    {
      "metadata": {
        "_cell_guid": "7cbf3248-f790-49c4-b40f-9ce84c937f08",
        "_uuid": "1c68379707984f299303d72d4062dd77add6d32c",
        "trusted": false,
        "collapsed": true
      },
      "cell_type": "code",
      "source": "query1 = \"\"\"SELECT COUNT(consecutive_number),EXTRACT(DAYOFWEEK FROM timestamp_of_crash)\n            FROM `bigquery-public-data.nhtsa_traffic_fatalities.accident_2016`\n            GROUP BY EXTRACT(DAYOFWEEK FROM timestamp_of_crash)\n            ORDER BY COUNT(consecutive_number) DESC\n        \"\"\"\n\nworse_days = traff_info.query_to_pandas_safe(query1)\nworse_days.head()\n",
      "execution_count": null,
      "outputs": []
    },
    {
      "metadata": {
        "_cell_guid": "afecbf8d-e8ec-4e79-b9e0-8f82234b97a2",
        "_uuid": "28fa45d6f76390dc55527b4c92226812c6518c94",
        "trusted": false,
        "collapsed": true
      },
      "cell_type": "code",
      "source": "import matplotlib.pyplot as plt\n\nplt.bar(worse_days.f1_,worse_days.f0_)\nplt.title(\"accidents ranked by day\")\n",
      "execution_count": null,
      "outputs": []
    },
    {
      "metadata": {
        "_cell_guid": "b171be37-cdad-4446-9556-a64f339a5d7a",
        "_uuid": "c310b8c4ac9448ba08f0b3b6eb0421d6b8f47227"
      },
      "cell_type": "markdown",
      "source": "## ** Now, we will do our job for day 3.."
    },
    {
      "metadata": {
        "_cell_guid": "aa87825c-6a36-4e35-901e-569e3eaa5359",
        "_uuid": "ed1875a9cbe4b541267abd9a06aec4478ce63138"
      },
      "cell_type": "markdown",
      "source": " ##  Which hours of the day do the most accidents occur during?"
    },
    {
      "metadata": {
        "_cell_guid": "3d601db0-47ed-4dcd-8711-7089bf0e7f17",
        "_uuid": "474c42f4b14cac8604668ee9d382e800149746b4",
        "trusted": false,
        "collapsed": true
      },
      "cell_type": "code",
      "source": "query2 = \"\"\"SELECT COUNT(consecutive_number),\n                    EXTRACT(HOUR FROM timestamp_of_crash)\n            FROM `bigquery-public-data.nhtsa_traffic_fatalities.accident_2016`\n            GROUP BY EXTRACT(HOUR FROM timestamp_of_crash)\n            ORDER BY COUNT(consecutive_number) DESC\n        \"\"\"\nworse_hour = traff_info.query_to_pandas_safe(query2)\nworse_hour.head()",
      "execution_count": null,
      "outputs": []
    },
    {
      "metadata": {
        "_cell_guid": "628ed557-6ad5-4052-8a5d-2fb14b1ec4f3",
        "_uuid": "6e5d5bfde505044a50c4697da7a79c2c855740f4"
      },
      "cell_type": "markdown",
      "source": "**Now let's make a graph  of the results**"
    },
    {
      "metadata": {
        "_cell_guid": "02117de3-8175-4087-acd2-02b39398b215",
        "_uuid": "4ccd16956b6deee984ac83268187b97b6821e592",
        "trusted": false,
        "collapsed": true
      },
      "cell_type": "code",
      "source": "import matplotlib.pyplot as plt\nplt.bar(worse_hour.f1_,worse_hour.f0_)\nplt.title(\"fatalities in 2016 ranked by \\n hour of the day\")",
      "execution_count": null,
      "outputs": []
    },
    {
      "metadata": {
        "_cell_guid": "20b9c4d1-9ce7-4414-b4dd-1cbb875d20ed",
        "_uuid": "b7048cf231ae109b9a771798ad068922b3ce9859"
      },
      "cell_type": "markdown",
      "source": "## **No let's analyze the number of hit and runs per state **"
    },
    {
      "metadata": {
        "_cell_guid": "086f9918-167f-48a0-b2f6-9f267d638e2f",
        "_uuid": "c12e258fec4c8f9fc6ee03cbec4f7e7742e427a9",
        "scrolled": true,
        "trusted": false,
        "collapsed": true
      },
      "cell_type": "code",
      "source": "traff_info.head(\"vehicle_2016\")",
      "execution_count": null,
      "outputs": []
    },
    {
      "metadata": {
        "_cell_guid": "f78d2eaf-a474-46f7-b8e9-bc0279f68eca",
        "_uuid": "da2a3c6c663170ba0374ec5fb07222c95e234fe9"
      },
      "cell_type": "markdown",
      "source": "*our query needs to identify those accidents in which the condition happened per state*****"
    },
    {
      "metadata": {
        "_cell_guid": "48221ac3-bf2b-4db3-8359-a43d3feac1c7",
        "_uuid": "dd5c192b87b921ecdd0f751475eaaa7904809dca",
        "trusted": false,
        "collapsed": true
      },
      "cell_type": "code",
      "source": "query4 = \"\"\"SELECT registration_state_name,COUNT(hit_and_run)\n            FROM `bigquery-public-data.nhtsa_traffic_fatalities.vehicle_2016` \n            WHERE hit_and_run  = \"Yes\"\n            GROUP BY registration_state_name            \n            ORDER BY COUNT(hit_and_run) DESC\n            \n           \"\"\"\nhr_per_state = traff_info.query_to_pandas_safe(query4)\nhr_per_state.head(100)",
      "execution_count": null,
      "outputs": []
    },
    {
      "metadata": {
        "_cell_guid": "ba068ca5-779b-4e0f-b96c-2de72be6a38e",
        "_uuid": "2c303f0c126af1b0233d2b43e306f6c02d65efa0",
        "collapsed": true,
        "trusted": false
      },
      "cell_type": "code",
      "source": "",
      "execution_count": null,
      "outputs": []
    }
  ],
  "metadata": {
    "kernelspec": {
      "display_name": "Python 3",
      "language": "python",
      "name": "python3"
    },
    "language_info": {
      "name": "python",
      "codemirror_mode": {
        "name": "ipython",
        "version": 3
      },
      "nbconvert_exporter": "python",
      "file_extension": ".py",
      "mimetype": "text/x-python",
      "pygments_lexer": "ipython3",
      "version": "3.6.4"
    }
  },
  "nbformat": 4,
  "nbformat_minor": 1
}