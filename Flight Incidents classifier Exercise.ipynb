{
 "cells": [
  {
   "cell_type": "markdown",
   "metadata": {},
   "source": [
    "# A classifier for incident reports"
   ]
  },
  {
   "cell_type": "markdown",
   "metadata": {
    "colab_type": "text",
    "id": "IHNWmxYt_nXv"
   },
   "source": [
    "![image alt >](https://www.skycop.com/media/list-of-flight-incidents-and-strikes-in-2019.jpg)\n",
    "\n",
    "<img src=\"https://static.designboom.com/wp-content/uploads/2017/02/pearsonlloyd-lufthansa-A350-economy-class-cabin-interiors-designboom-02.jpg\" width=300 height=300>\n",
    "\n",
    "<!-- <img src=\"https://static.designboom.com/wp-content/uploads/2017/02/pearsonlloyd-lufthansa-A350-economy-class-cabin-interiors-designboom-02.jpg\" width=300 height=300> -->\n",
    "\n",
    "\n",
    "\n",
    "\n",
    "## Objective: \n",
    "With the provided data set, <span style=\"color:blue\"> <em>**propose an accurate incident classification system**</em></span> based on the data included in every incident report.\n"
   ]
  },
  {
   "cell_type": "code",
   "execution_count": 5,
   "metadata": {
    "colab": {
     "base_uri": "https://localhost:8080/",
     "height": 34
    },
    "colab_type": "code",
    "id": "fqWp615h_nXy",
    "outputId": "9afae568-2b97-4bd6-c1b1-876951c05c95"
   },
   "outputs": [
    {
     "name": "stderr",
     "output_type": "stream",
     "text": [
      "Python 3.5.6 :: Anaconda, Inc.\n"
     ]
    }
   ],
   "source": [
    "!python -V"
   ]
  },
  {
   "cell_type": "code",
   "execution_count": 6,
   "metadata": {
    "colab": {
     "base_uri": "https://localhost:8080/",
     "height": 34
    },
    "colab_type": "code",
    "id": "G_rZ-MOk_nX5",
    "outputId": "ead0f41d-b5f5-44a1-8027-c3da2276a04d"
   },
   "outputs": [
    {
     "name": "stderr",
     "output_type": "stream",
     "text": [
      "Using TensorFlow backend.\n"
     ]
    }
   ],
   "source": [
    "import io\n",
    "import sklearn as skl\n",
    "import keras\n",
    "import pandas as pd\n",
    "import re\n",
    "import numpy as np\n",
    "import matplotlib.pyplot as plt\n",
    "from nltk.corpus import stopwords\n",
    "from nltk.stem import PorterStemmer\n",
    "from sklearn.feature_extraction.text import TfidfVectorizer,\\\n",
    "     CountVectorizer,TfidfTransformer\n",
    "from sklearn.pipeline import Pipeline\n",
    "from sklearn.metrics import classification_report, confusion_matrix\n",
    "from sklearn.model_selection import train_test_split\n",
    "from sklearn.feature_selection import SelectKBest, chi2\n",
    "from sklearn.naive_bayes import GaussianNB\n",
    "from sklearn.model_selection import cross_validate\n",
    "\n",
    "\n",
    "from sqlite3 import Error\n",
    "from sklearn.ensemble import RandomForestClassifier\n",
    "import sqlite3\n",
    "import pickle\n",
    "%matplotlib inline"
   ]
  },
  {
   "cell_type": "code",
   "execution_count": 7,
   "metadata": {},
   "outputs": [
    {
     "name": "stdout",
     "output_type": "stream",
     "text": [
      " Volume in drive C is Local Disk\n",
      " Volume Serial Number is 4CBC-7ADE\n",
      "\n",
      " Directory of C:\\Users\\AC228227\\Documents\\IATA_challenge\\IATA_challenge\n",
      "\n",
      "06/14/2019  05:16 PM    <DIR>          .\n",
      "06/14/2019  05:16 PM    <DIR>          ..\n",
      "06/11/2019  05:33 PM    <DIR>          .ipynb_checkpoints\n",
      "06/11/2019  05:26 PM        16,064,847 Dataset_deidentified_20K.csv\n",
      "06/11/2019  05:26 PM         7,674,343 Dataset_deidentified_20K.xlsx\n",
      "06/11/2019  05:26 PM             3,890 IATA_Incident_classification.ipynb\n",
      "06/14/2019  05:16 PM            64,580 IATA_Incident_classification_local.ipynb\n",
      "06/11/2019  05:26 PM               690 IATA_Setup.txt\n",
      "06/12/2019  02:46 PM       320,011,325 RandomForest.pickle\n",
      "               6 File(s)    343,819,675 bytes\n",
      "               3 Dir(s)  445,054,869,504 bytes free\n"
     ]
    }
   ],
   "source": [
    "!dir ."
   ]
  },
  {
   "cell_type": "code",
   "execution_count": 8,
   "metadata": {
    "colab": {
     "base_uri": "https://localhost:8080/",
     "height": 34
    },
    "colab_type": "code",
    "id": "aPB-G5ZtERAf",
    "outputId": "efc6477a-49b8-4af0-f7af-8576ee34c1b8"
   },
   "outputs": [
    {
     "data": {
      "text/plain": [
       "'./Dataset_deidentified_20K.csv'"
      ]
     },
     "execution_count": 8,
     "metadata": {},
     "output_type": "execute_result"
    }
   ],
   "source": [
    "# input_dir = \"/content/drive/My Drive/IATA_Datathon/\"\n",
    "\n",
    "input_dir =\"./\"\n",
    "input_file = input_dir+\"Dataset_deidentified_20K.csv\"\n",
    "\n",
    "raw_df  = pd.read_csv(input_file)\n",
    "input_file\n",
    "\n"
   ]
  },
  {
   "cell_type": "markdown",
   "metadata": {
    "colab_type": "text",
    "id": "ZXSxWW73_nX-"
   },
   "source": [
    "## Dataset schema"
   ]
  },
  {
   "cell_type": "code",
   "execution_count": 9,
   "metadata": {
    "colab": {
     "base_uri": "https://localhost:8080/",
     "height": 824
    },
    "colab_type": "code",
    "id": "4aOvE05U_nX_",
    "outputId": "873bd6bf-3ecd-4a8a-8042-d1575071dc8a"
   },
   "outputs": [
    {
     "data": {
      "text/html": [
       "<div>\n",
       "<style scoped>\n",
       "    .dataframe tbody tr th:only-of-type {\n",
       "        vertical-align: middle;\n",
       "    }\n",
       "\n",
       "    .dataframe tbody tr th {\n",
       "        vertical-align: top;\n",
       "    }\n",
       "\n",
       "    .dataframe thead th {\n",
       "        text-align: right;\n",
       "    }\n",
       "</style>\n",
       "<table border=\"1\" class=\"dataframe\">\n",
       "  <thead>\n",
       "    <tr style=\"text-align: right;\">\n",
       "      <th></th>\n",
       "      <th>type</th>\n",
       "    </tr>\n",
       "  </thead>\n",
       "  <tbody>\n",
       "    <tr>\n",
       "      <th>Report ID</th>\n",
       "      <td>int64</td>\n",
       "    </tr>\n",
       "    <tr>\n",
       "      <th>EventTitle</th>\n",
       "      <td>object</td>\n",
       "    </tr>\n",
       "    <tr>\n",
       "      <th>Summary</th>\n",
       "      <td>object</td>\n",
       "    </tr>\n",
       "    <tr>\n",
       "      <th>Altitude Deviation</th>\n",
       "      <td>int64</td>\n",
       "    </tr>\n",
       "    <tr>\n",
       "      <th>Birdstrike</th>\n",
       "      <td>int64</td>\n",
       "    </tr>\n",
       "    <tr>\n",
       "      <th>Deep Landing</th>\n",
       "      <td>int64</td>\n",
       "    </tr>\n",
       "    <tr>\n",
       "      <th>EGPWS</th>\n",
       "      <td>int64</td>\n",
       "    </tr>\n",
       "    <tr>\n",
       "      <th>Hard/Heavy Landing</th>\n",
       "      <td>int64</td>\n",
       "    </tr>\n",
       "    <tr>\n",
       "      <th>Runway/Taxiway Incursion</th>\n",
       "      <td>int64</td>\n",
       "    </tr>\n",
       "    <tr>\n",
       "      <th>Rejected Take Off</th>\n",
       "      <td>int64</td>\n",
       "    </tr>\n",
       "    <tr>\n",
       "      <th>Stall Warning</th>\n",
       "      <td>int64</td>\n",
       "    </tr>\n",
       "    <tr>\n",
       "      <th>TCAS</th>\n",
       "      <td>int64</td>\n",
       "    </tr>\n",
       "    <tr>\n",
       "      <th>Unstable Approach</th>\n",
       "      <td>int64</td>\n",
       "    </tr>\n",
       "    <tr>\n",
       "      <th>Cabin Fire/Smoke/Fumes</th>\n",
       "      <td>int64</td>\n",
       "    </tr>\n",
       "    <tr>\n",
       "      <th>Inadvertant Slide Deployment</th>\n",
       "      <td>int64</td>\n",
       "    </tr>\n",
       "    <tr>\n",
       "      <th>Passenger and Cabin Crew Injury</th>\n",
       "      <td>int64</td>\n",
       "    </tr>\n",
       "    <tr>\n",
       "      <th>Rapid Deplaning and Evacuation</th>\n",
       "      <td>int64</td>\n",
       "    </tr>\n",
       "    <tr>\n",
       "      <th>Turbulence</th>\n",
       "      <td>int64</td>\n",
       "    </tr>\n",
       "    <tr>\n",
       "      <th>Brakes and Steering</th>\n",
       "      <td>int64</td>\n",
       "    </tr>\n",
       "    <tr>\n",
       "      <th>Cabin Pressurization</th>\n",
       "      <td>int64</td>\n",
       "    </tr>\n",
       "    <tr>\n",
       "      <th>Engine Surge and Stall</th>\n",
       "      <td>int64</td>\n",
       "    </tr>\n",
       "    <tr>\n",
       "      <th>Engine Shutdown</th>\n",
       "      <td>int64</td>\n",
       "    </tr>\n",
       "    <tr>\n",
       "      <th>Flight Controls</th>\n",
       "      <td>int64</td>\n",
       "    </tr>\n",
       "    <tr>\n",
       "      <th>ATC Service Standard</th>\n",
       "      <td>int64</td>\n",
       "    </tr>\n",
       "    <tr>\n",
       "      <th>Security</th>\n",
       "      <td>int64</td>\n",
       "    </tr>\n",
       "  </tbody>\n",
       "</table>\n",
       "</div>"
      ],
      "text/plain": [
       "                                   type\n",
       "Report ID                         int64\n",
       "EventTitle                       object\n",
       "Summary                          object\n",
       "Altitude Deviation                int64\n",
       "Birdstrike                        int64\n",
       "Deep Landing                      int64\n",
       "EGPWS                             int64\n",
       "Hard/Heavy Landing                int64\n",
       "Runway/Taxiway Incursion          int64\n",
       "Rejected Take Off                 int64\n",
       "Stall Warning                     int64\n",
       "TCAS                              int64\n",
       "Unstable Approach                 int64\n",
       "Cabin Fire/Smoke/Fumes            int64\n",
       "Inadvertant Slide Deployment      int64\n",
       "Passenger and Cabin Crew Injury   int64\n",
       "Rapid Deplaning and Evacuation    int64\n",
       "Turbulence                        int64\n",
       "Brakes and Steering               int64\n",
       "Cabin Pressurization              int64\n",
       "Engine Surge and Stall            int64\n",
       "Engine Shutdown                   int64\n",
       "Flight Controls                   int64\n",
       "ATC Service Standard              int64\n",
       "Security                          int64"
      ]
     },
     "execution_count": 9,
     "metadata": {},
     "output_type": "execute_result"
    }
   ],
   "source": [
    "types_df = pd.DataFrame(raw_df.dtypes, columns=[\"type\"])\n",
    "types_df"
   ]
  },
  {
   "cell_type": "code",
   "execution_count": 10,
   "metadata": {
    "colab": {
     "base_uri": "https://localhost:8080/",
     "height": 683
    },
    "colab_type": "code",
    "id": "jJ5I2PmJ_nYB",
    "outputId": "e47910bd-c70e-4df8-f18c-be9dd5de6156"
   },
   "outputs": [
    {
     "data": {
      "text/html": [
       "<div>\n",
       "<style scoped>\n",
       "    .dataframe tbody tr th:only-of-type {\n",
       "        vertical-align: middle;\n",
       "    }\n",
       "\n",
       "    .dataframe tbody tr th {\n",
       "        vertical-align: top;\n",
       "    }\n",
       "\n",
       "    .dataframe thead th {\n",
       "        text-align: right;\n",
       "    }\n",
       "</style>\n",
       "<table border=\"1\" class=\"dataframe\">\n",
       "  <thead>\n",
       "    <tr style=\"text-align: right;\">\n",
       "      <th></th>\n",
       "      <th>Report ID</th>\n",
       "      <th>EventTitle</th>\n",
       "      <th>Summary</th>\n",
       "      <th>Altitude Deviation</th>\n",
       "      <th>Birdstrike</th>\n",
       "      <th>Deep Landing</th>\n",
       "      <th>EGPWS</th>\n",
       "      <th>Hard/Heavy Landing</th>\n",
       "      <th>Runway/Taxiway Incursion</th>\n",
       "      <th>Rejected Take Off</th>\n",
       "      <th>...</th>\n",
       "      <th>Passenger and Cabin Crew Injury</th>\n",
       "      <th>Rapid Deplaning and Evacuation</th>\n",
       "      <th>Turbulence</th>\n",
       "      <th>Brakes and Steering</th>\n",
       "      <th>Cabin Pressurization</th>\n",
       "      <th>Engine Surge and Stall</th>\n",
       "      <th>Engine Shutdown</th>\n",
       "      <th>Flight Controls</th>\n",
       "      <th>ATC Service Standard</th>\n",
       "      <th>Security</th>\n",
       "    </tr>\n",
       "  </thead>\n",
       "  <tbody>\n",
       "    <tr>\n",
       "      <th>0</th>\n",
       "      <td>0</td>\n",
       "      <td>LOW ENERGY WARNING</td>\n",
       "      <td>during visual approach at rho runway 25, at 14...</td>\n",
       "      <td>0</td>\n",
       "      <td>0</td>\n",
       "      <td>0</td>\n",
       "      <td>0</td>\n",
       "      <td>0</td>\n",
       "      <td>0</td>\n",
       "      <td>0</td>\n",
       "      <td>...</td>\n",
       "      <td>0</td>\n",
       "      <td>0</td>\n",
       "      <td>0</td>\n",
       "      <td>0</td>\n",
       "      <td>0</td>\n",
       "      <td>0</td>\n",
       "      <td>0</td>\n",
       "      <td>0</td>\n",
       "      <td>0</td>\n",
       "      <td>0</td>\n",
       "    </tr>\n",
       "    <tr>\n",
       "      <th>1</th>\n",
       "      <td>1</td>\n",
       "      <td>Engines fluctuations in cruise.</td>\n",
       "      <td>engines fluctuations in cruise. levelling off ...</td>\n",
       "      <td>0</td>\n",
       "      <td>0</td>\n",
       "      <td>0</td>\n",
       "      <td>0</td>\n",
       "      <td>0</td>\n",
       "      <td>0</td>\n",
       "      <td>0</td>\n",
       "      <td>...</td>\n",
       "      <td>0</td>\n",
       "      <td>0</td>\n",
       "      <td>0</td>\n",
       "      <td>0</td>\n",
       "      <td>0</td>\n",
       "      <td>1</td>\n",
       "      <td>0</td>\n",
       "      <td>0</td>\n",
       "      <td>0</td>\n",
       "      <td>0</td>\n",
       "    </tr>\n",
       "    <tr>\n",
       "      <th>2</th>\n",
       "      <td>2</td>\n",
       "      <td>Door 1L slide bustle deployed onto jetty</td>\n",
       "      <td>** please see also incident no 980802, which d...</td>\n",
       "      <td>0</td>\n",
       "      <td>0</td>\n",
       "      <td>0</td>\n",
       "      <td>0</td>\n",
       "      <td>0</td>\n",
       "      <td>0</td>\n",
       "      <td>0</td>\n",
       "      <td>...</td>\n",
       "      <td>0</td>\n",
       "      <td>1</td>\n",
       "      <td>0</td>\n",
       "      <td>0</td>\n",
       "      <td>0</td>\n",
       "      <td>0</td>\n",
       "      <td>0</td>\n",
       "      <td>0</td>\n",
       "      <td>0</td>\n",
       "      <td>0</td>\n",
       "    </tr>\n",
       "    <tr>\n",
       "      <th>3</th>\n",
       "      <td>3</td>\n",
       "      <td>LONG LANDING RWY 21 - PER</td>\n",
       "      <td>qpilot: Touchdown Approx 2500 (**** submitted ...</td>\n",
       "      <td>0</td>\n",
       "      <td>0</td>\n",
       "      <td>1</td>\n",
       "      <td>0</td>\n",
       "      <td>0</td>\n",
       "      <td>0</td>\n",
       "      <td>0</td>\n",
       "      <td>...</td>\n",
       "      <td>0</td>\n",
       "      <td>0</td>\n",
       "      <td>0</td>\n",
       "      <td>0</td>\n",
       "      <td>0</td>\n",
       "      <td>0</td>\n",
       "      <td>0</td>\n",
       "      <td>0</td>\n",
       "      <td>0</td>\n",
       "      <td>0</td>\n",
       "    </tr>\n",
       "    <tr>\n",
       "      <th>4</th>\n",
       "      <td>4</td>\n",
       "      <td>BIRD STRIKE</td>\n",
       "      <td>la base smr reporta condicion 2 por impacto de...</td>\n",
       "      <td>0</td>\n",
       "      <td>1</td>\n",
       "      <td>0</td>\n",
       "      <td>0</td>\n",
       "      <td>0</td>\n",
       "      <td>0</td>\n",
       "      <td>0</td>\n",
       "      <td>...</td>\n",
       "      <td>0</td>\n",
       "      <td>0</td>\n",
       "      <td>0</td>\n",
       "      <td>0</td>\n",
       "      <td>0</td>\n",
       "      <td>0</td>\n",
       "      <td>0</td>\n",
       "      <td>0</td>\n",
       "      <td>0</td>\n",
       "      <td>0</td>\n",
       "    </tr>\n",
       "  </tbody>\n",
       "</table>\n",
       "<p>5 rows × 25 columns</p>\n",
       "</div>"
      ],
      "text/plain": [
       "   Report ID                                EventTitle  \\\n",
       "0          0                        LOW ENERGY WARNING   \n",
       "1          1           Engines fluctuations in cruise.   \n",
       "2          2  Door 1L slide bustle deployed onto jetty   \n",
       "3          3                 LONG LANDING RWY 21 - PER   \n",
       "4          4                               BIRD STRIKE   \n",
       "\n",
       "                                             Summary  Altitude Deviation  \\\n",
       "0  during visual approach at rho runway 25, at 14...                   0   \n",
       "1  engines fluctuations in cruise. levelling off ...                   0   \n",
       "2  ** please see also incident no 980802, which d...                   0   \n",
       "3  qpilot: Touchdown Approx 2500 (**** submitted ...                   0   \n",
       "4  la base smr reporta condicion 2 por impacto de...                   0   \n",
       "\n",
       "   Birdstrike  Deep Landing  EGPWS  Hard/Heavy Landing  \\\n",
       "0           0             0      0                   0   \n",
       "1           0             0      0                   0   \n",
       "2           0             0      0                   0   \n",
       "3           0             1      0                   0   \n",
       "4           1             0      0                   0   \n",
       "\n",
       "   Runway/Taxiway Incursion  Rejected Take Off  ...  \\\n",
       "0                         0                  0  ...   \n",
       "1                         0                  0  ...   \n",
       "2                         0                  0  ...   \n",
       "3                         0                  0  ...   \n",
       "4                         0                  0  ...   \n",
       "\n",
       "   Passenger and Cabin Crew Injury  Rapid Deplaning and Evacuation  \\\n",
       "0                                0                               0   \n",
       "1                                0                               0   \n",
       "2                                0                               1   \n",
       "3                                0                               0   \n",
       "4                                0                               0   \n",
       "\n",
       "   Turbulence  Brakes and Steering  Cabin Pressurization  \\\n",
       "0           0                    0                     0   \n",
       "1           0                    0                     0   \n",
       "2           0                    0                     0   \n",
       "3           0                    0                     0   \n",
       "4           0                    0                     0   \n",
       "\n",
       "   Engine Surge and Stall  Engine Shutdown  Flight Controls  \\\n",
       "0                       0                0                0   \n",
       "1                       1                0                0   \n",
       "2                       0                0                0   \n",
       "3                       0                0                0   \n",
       "4                       0                0                0   \n",
       "\n",
       "   ATC Service Standard  Security  \n",
       "0                     0         0  \n",
       "1                     0         0  \n",
       "2                     0         0  \n",
       "3                     0         0  \n",
       "4                     0         0  \n",
       "\n",
       "[5 rows x 25 columns]"
      ]
     },
     "execution_count": 10,
     "metadata": {},
     "output_type": "execute_result"
    }
   ],
   "source": [
    "raw_df.head()"
   ]
  },
  {
   "cell_type": "markdown",
   "metadata": {
    "colab_type": "text",
    "id": "rdGaN-1Qts98"
   },
   "source": [
    "## Getting category names"
   ]
  },
  {
   "cell_type": "code",
   "execution_count": 11,
   "metadata": {
    "colab": {},
    "colab_type": "code",
    "id": "h0pjy03xpkf_"
   },
   "outputs": [],
   "source": [
    "categ_names = list(raw_df.columns.values)\n",
    "del categ_names[0:3]\n",
    "# categ_names\n"
   ]
  },
  {
   "cell_type": "markdown",
   "metadata": {
    "colab_type": "text",
    "id": "ARO8fe3JxYHS"
   },
   "source": [
    "## ***Counting records by Category***"
   ]
  },
  {
   "cell_type": "code",
   "execution_count": 12,
   "metadata": {
    "colab": {},
    "colab_type": "code",
    "id": "A8wxBlmZsHCx"
   },
   "outputs": [],
   "source": [
    "stat_categ=[]\n",
    "for categ in categ_names:\n",
    "    stat_categ.append((categ, raw_df[categ].sum()))\n",
    "    \n",
    "stat_categ = pd.DataFrame(stat_categ, columns=[\"category\",\"count\"]).sort_values(by=[\"count\"], ascending=False)  \n",
    "  "
   ]
  },
  {
   "cell_type": "code",
   "execution_count": 13,
   "metadata": {
    "colab": {
     "base_uri": "https://localhost:8080/",
     "height": 513
    },
    "colab_type": "code",
    "id": "C6xAFH_D_84b",
    "outputId": "d54ed548-1f98-4819-8498-9dddb50f3b8b"
   },
   "outputs": [
    {
     "data": {
      "text/plain": [
       "Text(0.5, 0, 'Category')"
      ]
     },
     "execution_count": 13,
     "metadata": {},
     "output_type": "execute_result"
    },
    {
     "data": {
      "image/png": "[encoded data removed]",
      "text/plain": [
       "<Figure size 576x360 with 1 Axes>"
      ]
     },
     "metadata": {
      "needs_background": "light"
     },
     "output_type": "display_data"
    }
   ],
   "source": [
    "stat_categ.plot(x='category', y='count', kind='bar', legend=False, grid=True, figsize=(8, 5))\n",
    "plt.ylabel('Nr. of records', fontsize=12)\n",
    "plt.xlabel('Category', fontsize=12)"
   ]
  },
  {
   "cell_type": "markdown",
   "metadata": {
    "colab_type": "text",
    "id": "xFfmxfUuTqh-"
   },
   "source": [
    "## Preparing the dataset for multi-class classification"
   ]
  },
  {
   "cell_type": "code",
   "execution_count": 14,
   "metadata": {
    "colab": {},
    "colab_type": "code",
    "id": "iHv2qeruAmpI"
   },
   "outputs": [],
   "source": [
    "a = pd.Series(list(raw_df[categ_names].idxmax(1)))\n",
    "a.rename(\"Category\",inplace=True)\n",
    "feats_df = pd.concat([raw_df[list(raw_df.columns.values)[1:3]],a],1) "
   ]
  },
  {
   "cell_type": "code",
   "execution_count": 15,
   "metadata": {
    "colab": {},
    "colab_type": "code",
    "id": "SAiVjodCCOkU"
   },
   "outputs": [],
   "source": [
    "feats_df[\"Categ_idx\"] = feats_df[\"Category\"].apply(categ_names.index)"
   ]
  },
  {
   "cell_type": "code",
   "execution_count": 16,
   "metadata": {
    "colab": {
     "base_uri": "https://localhost:8080/",
     "height": 142
    },
    "colab_type": "code",
    "id": "Z_uHWXUK4vdz",
    "outputId": "5cc2791b-ea90-4d80-8fbc-b4e8e152e647"
   },
   "outputs": [
    {
     "data": {
      "text/html": [
       "<div>\n",
       "<style scoped>\n",
       "    .dataframe tbody tr th:only-of-type {\n",
       "        vertical-align: middle;\n",
       "    }\n",
       "\n",
       "    .dataframe tbody tr th {\n",
       "        vertical-align: top;\n",
       "    }\n",
       "\n",
       "    .dataframe thead th {\n",
       "        text-align: right;\n",
       "    }\n",
       "</style>\n",
       "<table border=\"1\" class=\"dataframe\">\n",
       "  <thead>\n",
       "    <tr style=\"text-align: right;\">\n",
       "      <th></th>\n",
       "      <th>EventTitle</th>\n",
       "      <th>Summary</th>\n",
       "      <th>Category</th>\n",
       "      <th>Categ_idx</th>\n",
       "    </tr>\n",
       "  </thead>\n",
       "  <tbody>\n",
       "    <tr>\n",
       "      <th>0</th>\n",
       "      <td>LOW ENERGY WARNING</td>\n",
       "      <td>during visual approach at rho runway 25, at 14...</td>\n",
       "      <td>Stall Warning</td>\n",
       "      <td>7</td>\n",
       "    </tr>\n",
       "    <tr>\n",
       "      <th>1</th>\n",
       "      <td>Engines fluctuations in cruise.</td>\n",
       "      <td>engines fluctuations in cruise. levelling off ...</td>\n",
       "      <td>Engine Surge and Stall</td>\n",
       "      <td>17</td>\n",
       "    </tr>\n",
       "    <tr>\n",
       "      <th>2</th>\n",
       "      <td>Door 1L slide bustle deployed onto jetty</td>\n",
       "      <td>** please see also incident no 980802, which d...</td>\n",
       "      <td>Rapid Deplaning and Evacuation</td>\n",
       "      <td>13</td>\n",
       "    </tr>\n",
       "  </tbody>\n",
       "</table>\n",
       "</div>"
      ],
      "text/plain": [
       "                                 EventTitle  \\\n",
       "0                        LOW ENERGY WARNING   \n",
       "1           Engines fluctuations in cruise.   \n",
       "2  Door 1L slide bustle deployed onto jetty   \n",
       "\n",
       "                                             Summary  \\\n",
       "0  during visual approach at rho runway 25, at 14...   \n",
       "1  engines fluctuations in cruise. levelling off ...   \n",
       "2  ** please see also incident no 980802, which d...   \n",
       "\n",
       "                         Category  Categ_idx  \n",
       "0                   Stall Warning          7  \n",
       "1          Engine Surge and Stall         17  \n",
       "2  Rapid Deplaning and Evacuation         13  "
      ]
     },
     "execution_count": 16,
     "metadata": {},
     "output_type": "execute_result"
    }
   ],
   "source": [
    "feats_df.head(3)"
   ]
  },
  {
   "cell_type": "code",
   "execution_count": 17,
   "metadata": {
    "colab": {
     "base_uri": "https://localhost:8080/",
     "height": 343
    },
    "colab_type": "code",
    "id": "LHezkUgA5TLr",
    "outputId": "afb94409-baf0-4e2b-9414-496f34934ae6"
   },
   "outputs": [
    {
     "data": {
      "image/png": "[encoded data removed]",
      "text/plain": [
       "<Figure size 576x360 with 1 Axes>"
      ]
     },
     "metadata": {
      "needs_background": "light"
     },
     "output_type": "display_data"
    }
   ],
   "source": [
    "feats_df.groupby('Categ_idx').Summary.count().sort_values(ascending=False).plot(x='category', y='count', \n",
    "                                                                                kind='bar', legend=False, \n",
    "                                                                                grid=True, figsize=(8, 5))\n",
    "\n",
    "plt.ylabel('Nr. of records', fontsize=12)\n",
    "plt.xlabel('Category', fontsize=12)\n",
    "plt.show()"
   ]
  },
  {
   "cell_type": "code",
   "execution_count": 18,
   "metadata": {
    "colab": {
     "base_uri": "https://localhost:8080/",
     "height": 142
    },
    "colab_type": "code",
    "id": "3t-Bolhu8uu3",
    "outputId": "293e992c-c7d6-4227-ad97-45c90b1eb74b"
   },
   "outputs": [
    {
     "data": {
      "text/plain": [
       "0    during visual approach at rho runway 25, at 14...\n",
       "Name: Summary, dtype: object"
      ]
     },
     "execution_count": 18,
     "metadata": {},
     "output_type": "execute_result"
    }
   ],
   "source": [
    "feats_df.shape;\n",
    "feats_df['Summary'].head(1)"
   ]
  },
  {
   "cell_type": "code",
   "execution_count": 19,
   "metadata": {
    "colab": {
     "base_uri": "https://localhost:8080/",
     "height": 68
    },
    "colab_type": "code",
    "id": "-R7DRUQpHiEK",
    "outputId": "1ce2c050-d1f7-48c1-83d2-d71f3f18d0ac"
   },
   "outputs": [
    {
     "name": "stderr",
     "output_type": "stream",
     "text": [
      "[nltk_data] Error loading stopwords: <urlopen error [WinError 10060] A\n",
      "[nltk_data]     connection attempt failed because the connected party\n",
      "[nltk_data]     did not properly respond after a period of time, or\n",
      "[nltk_data]     established connection failed because connected host\n",
      "[nltk_data]     has failed to respond>\n"
     ]
    },
    {
     "data": {
      "text/plain": [
       "False"
      ]
     },
     "execution_count": 19,
     "metadata": {},
     "output_type": "execute_result"
    }
   ],
   "source": [
    "import nltk\n",
    "nltk.download(\"stopwords\")"
   ]
  },
  {
   "cell_type": "markdown",
   "metadata": {
    "colab_type": "text",
    "id": "AWa53B1sJwS9"
   },
   "source": []
  },
  {
   "cell_type": "code",
   "execution_count": 20,
   "metadata": {
    "colab": {},
    "colab_type": "code",
    "id": "4yrS4mOA9Y4b"
   },
   "outputs": [],
   "source": [
    "stemmer = PorterStemmer()\n",
    "words = stopwords.words(\"english\")\n",
    "feats_df['cleaned'] = (feats_df['EventTitle']+' '+feats_df['Summary']).apply(lambda x: \" \".join([stemmer.stem(i) for i in re.sub(\"[^a-zA-Z]\", \" \", str(x)).split() if i not in words]).lower())"
   ]
  },
  {
   "cell_type": "code",
   "execution_count": 21,
   "metadata": {
    "colab": {
     "base_uri": "https://localhost:8080/",
     "height": 193
    },
    "colab_type": "code",
    "id": "zzAOoFMaI4Cx",
    "outputId": "3e43897f-8b5b-45f0-a541-2b8d1486d661"
   },
   "outputs": [
    {
     "data": {
      "text/html": [
       "<div>\n",
       "<style scoped>\n",
       "    .dataframe tbody tr th:only-of-type {\n",
       "        vertical-align: middle;\n",
       "    }\n",
       "\n",
       "    .dataframe tbody tr th {\n",
       "        vertical-align: top;\n",
       "    }\n",
       "\n",
       "    .dataframe thead th {\n",
       "        text-align: right;\n",
       "    }\n",
       "</style>\n",
       "<table border=\"1\" class=\"dataframe\">\n",
       "  <thead>\n",
       "    <tr style=\"text-align: right;\">\n",
       "      <th></th>\n",
       "      <th>EventTitle</th>\n",
       "      <th>Summary</th>\n",
       "      <th>Category</th>\n",
       "      <th>Categ_idx</th>\n",
       "      <th>cleaned</th>\n",
       "    </tr>\n",
       "  </thead>\n",
       "  <tbody>\n",
       "    <tr>\n",
       "      <th>0</th>\n",
       "      <td>LOW ENERGY WARNING</td>\n",
       "      <td>during visual approach at rho runway 25, at 14...</td>\n",
       "      <td>Stall Warning</td>\n",
       "      <td>7</td>\n",
       "      <td>low energi warn visual approach rho runway ft ...</td>\n",
       "    </tr>\n",
       "    <tr>\n",
       "      <th>1</th>\n",
       "      <td>Engines fluctuations in cruise.</td>\n",
       "      <td>engines fluctuations in cruise. levelling off ...</td>\n",
       "      <td>Engine Surge and Stall</td>\n",
       "      <td>17</td>\n",
       "      <td>engin fluctuat cruis engin fluctuat cruis leve...</td>\n",
       "    </tr>\n",
       "    <tr>\n",
       "      <th>2</th>\n",
       "      <td>Door 1L slide bustle deployed onto jetty</td>\n",
       "      <td>** please see also incident no 980802, which d...</td>\n",
       "      <td>Rapid Deplaning and Evacuation</td>\n",
       "      <td>13</td>\n",
       "      <td>door l slide bustl deploy onto jetti pleas see...</td>\n",
       "    </tr>\n",
       "  </tbody>\n",
       "</table>\n",
       "</div>"
      ],
      "text/plain": [
       "                                 EventTitle  \\\n",
       "0                        LOW ENERGY WARNING   \n",
       "1           Engines fluctuations in cruise.   \n",
       "2  Door 1L slide bustle deployed onto jetty   \n",
       "\n",
       "                                             Summary  \\\n",
       "0  during visual approach at rho runway 25, at 14...   \n",
       "1  engines fluctuations in cruise. levelling off ...   \n",
       "2  ** please see also incident no 980802, which d...   \n",
       "\n",
       "                         Category  Categ_idx  \\\n",
       "0                   Stall Warning          7   \n",
       "1          Engine Surge and Stall         17   \n",
       "2  Rapid Deplaning and Evacuation         13   \n",
       "\n",
       "                                             cleaned  \n",
       "0  low energi warn visual approach rho runway ft ...  \n",
       "1  engin fluctuat cruis engin fluctuat cruis leve...  \n",
       "2  door l slide bustl deploy onto jetti pleas see...  "
      ]
     },
     "execution_count": 21,
     "metadata": {},
     "output_type": "execute_result"
    }
   ],
   "source": [
    "feats_df.head(3)"
   ]
  },
  {
   "cell_type": "code",
   "execution_count": 22,
   "metadata": {
    "colab": {
     "base_uri": "https://localhost:8080/",
     "height": 34
    },
    "colab_type": "code",
    "id": "6g6qsylALxYf",
    "outputId": "5cb9da3e-810a-4f78-82e4-aa1112057978"
   },
   "outputs": [
    {
     "data": {
      "text/plain": [
       "(20000, 36775)"
      ]
     },
     "execution_count": 22,
     "metadata": {},
     "output_type": "execute_result"
    }
   ],
   "source": [
    "\n",
    "#instantiate CountVectorizer()\n",
    "cv=CountVectorizer()\n",
    " \n",
    "# this steps generates word counts for the words in your docs\n",
    "word_count_vector=cv.fit_transform(feats_df['cleaned'])\n",
    "word_count_vector.shape"
   ]
  },
  {
   "cell_type": "code",
   "execution_count": 23,
   "metadata": {},
   "outputs": [],
   "source": [
    "vectorizer=TfidfVectorizer(min_df= 3, stop_words=\"english\", sublinear_tf=True, norm='l2', ngram_range=(1, 2))"
   ]
  },
  {
   "cell_type": "code",
   "execution_count": 24,
   "metadata": {
    "colab": {},
    "colab_type": "code",
    "id": "QmBGvPGYL42Q"
   },
   "outputs": [
    {
     "data": {
      "text/plain": [
       "(20000, 85165)"
      ]
     },
     "execution_count": 24,
     "metadata": {},
     "output_type": "execute_result"
    }
   ],
   "source": [
    "final_features = vectorizer.fit_transform(feats_df['cleaned']).toarray()\n",
    "final_features.shape"
   ]
  },
  {
   "cell_type": "code",
   "execution_count": 25,
   "metadata": {
    "colab": {
     "base_uri": "https://localhost:8080/",
     "height": 1969
    },
    "colab_type": "code",
    "id": "f7MUXC0bMWn7",
    "outputId": "fc9b1945-1210-41b2-be58-52094d9fb5ae"
   },
   "outputs": [],
   "source": [
    "# tfidf_transformer=TfidfTransformer(smooth_idf=True,use_idf=True)\n",
    "# tfidf_transformer.fit(word_count_vector)\n",
    "\n",
    "# # print idf values\n",
    "# df_idf = pd.DataFrame(tfidf_transformer.idf_, index=cv.get_feature_names(),columns=[\"tf_idf_weights\"])\n",
    " \n",
    "# # sort ascending\n",
    "# df_idf.sort_values(by=['tf_idf_weights'])"
   ]
  },
  {
   "cell_type": "markdown",
   "metadata": {
    "colab": {},
    "colab_type": "code",
    "id": "f9MvH--dI0Te"
   },
   "source": [
    "## Model pipeline implementation (random Forest) -first stand-alone implementation"
   ]
  },
  {
   "cell_type": "code",
   "execution_count": 26,
   "metadata": {},
   "outputs": [
    {
     "name": "stdout",
     "output_type": "stream",
     "text": [
      "              precision    recall  f1-score   support\n",
      "\n",
      "           0       0.75      0.82      0.78       323\n",
      "           1       0.90      0.94      0.92       320\n",
      "           2       0.92      0.94      0.93       314\n",
      "           3       0.80      0.88      0.84       346\n",
      "           4       0.83      0.87      0.85       287\n",
      "           5       0.77      0.93      0.84       280\n",
      "           6       0.71      0.83      0.77       264\n",
      "           7       0.92      0.85      0.88       295\n",
      "           8       0.83      0.97      0.90       270\n",
      "           9       0.68      0.72      0.70       277\n",
      "          10       0.78      0.98      0.87       301\n",
      "          11       0.81      0.95      0.88       154\n",
      "          12       0.80      0.84      0.82       319\n",
      "          13       0.71      0.29      0.41       118\n",
      "          14       0.72      0.69      0.71       285\n",
      "          15       0.85      0.85      0.85       320\n",
      "          16       0.92      0.85      0.88       277\n",
      "          17       0.82      0.74      0.78       291\n",
      "          18       0.78      0.76      0.77       267\n",
      "          19       0.77      0.63      0.70       312\n",
      "          20       0.62      0.23      0.33       214\n",
      "          21       0.82      0.65      0.72       166\n",
      "\n",
      "    accuracy                           0.80      6000\n",
      "   macro avg       0.80      0.78      0.78      6000\n",
      "weighted avg       0.80      0.80      0.80      6000\n",
      "\n",
      "[[265   0   0   4   2   2   0   2  14   5   0   0   2   0  12   0   0   0\n",
      "    1   2  12   0]\n",
      " [  0 302   0   0   4   0   4   0   0   2   0   0   3   0   1   0   0   1\n",
      "    1   0   1   1]\n",
      " [  0   2 294   1   2   1   1   0   0   8   0   0   0   0   1   2   0   0\n",
      "    0   0   0   2]\n",
      " [  3   1   1 305   0   0   2   2   1  12   0   0   1   0   9   0   1   0\n",
      "    0   5   1   2]\n",
      " [  0   3   5   3 249   0   0   0   0   4   7   0   2   1   2   2   2   2\n",
      "    3   0   0   2]\n",
      " [  2   1   0   1   2 259   2   0   2   1   2   0   1   1   1   1   0   0\n",
      "    1   0   3   0]\n",
      " [  1   5   0   7   2   3 220   1   2   0   2   0   1   1   0  10   1   3\n",
      "    1   4   0   0]\n",
      " [  2   0   0   4   0   1   1 252   0   3   1   0   0   0  15   2   0   9\n",
      "    1   3   1   0]\n",
      " [  0   0   0   1   0   0   0   0 263   3   0   0   0   0   1   0   0   1\n",
      "    0   0   1   0]\n",
      " [ 10   1  11  24   1   4   1   0   2 199   1   0   4   0   6   3   0   0\n",
      "    0   7   3   0]\n",
      " [  0   0   0   0   0   0   1   0   0   0 294   0   1   1   0   0   1   0\n",
      "    1   2   0   0]\n",
      " [  0   0   0   1   0   0   1   0   0   0   1 147   0   2   0   0   1   0\n",
      "    0   0   0   1]\n",
      " [  0   0   0   0   1   0   9   2   0   0   5   0 269   0  18   4   4   1\n",
      "    0   3   0   3]\n",
      " [  0   1   0   2   3   1   3   0   0   0  19  30  11  34   0   2   0   0\n",
      "    7   0   1   4]\n",
      " [ 12   1   3   9   3   0   0  13   2  20   2   0  14   0 198   0   1   0\n",
      "    0   5   2   0]\n",
      " [  0   1   1   1   2   5  15   0   1   1   1   0   6   0   0 271   2   0\n",
      "    3   9   0   1]\n",
      " [  0   1   0   3   7   2   3   0   0   3   0   1   3   1   0   4 235   2\n",
      "    5   2   1   4]\n",
      " [  0   2   0   0   7   3  21   0   0   0   8   0   1   1   0   4   0 216\n",
      "   26   1   0   1]\n",
      " [  0   6   0   0   5   4   4   0   0   0   3   1   0   3   0   3   3  26\n",
      "  202   5   1   1]\n",
      " [  4   7   3  13   8   5  14   3   1  17   7   1   0   1   5  11   2   2\n",
      "    7 198   2   1]\n",
      " [ 56   0   1   3   1  43   6   0  28  13   3   0   1   1   2   0   0   2\n",
      "    0   4  49   1]\n",
      " [  0   0   0   0   1   2   0   0   0   1  22   1  16   1   4   0   3   0\n",
      "    0   6   1 108]]\n"
     ]
    }
   ],
   "source": [
    "# this block is to split the dataset into training and testing set \n",
    "X = feats_df['cleaned']\n",
    "Y = feats_df['Categ_idx']\n",
    "X_train, X_test, y_train, y_test = train_test_split(X, Y, test_size=0.3)\n",
    "# instead of doing these steps one at a time, we can use a pipeline to complete them all at once\n",
    "pipeline = Pipeline([('vect', vectorizer),\n",
    "                     ('chi',  SelectKBest(chi2, k=10000)),\n",
    "                     ('clf', RandomForestClassifier(n_estimators=100, random_state=10))])\n",
    "# fitting our model and save it in a pickle for later use\n",
    "model = pipeline.fit(X_train, y_train)\n",
    "with open('RandomForest.pickle', 'wb') as f:\n",
    "    pickle.dump(model, f)\n",
    "ytest = np.array(y_test)\n",
    "# confusion matrix and classification report(precision, recall, F1-score)\n",
    "print(classification_report(ytest, model.predict(X_test)))\n",
    "print(confusion_matrix(ytest, model.predict(X_test)))"
   ]
  },
  {
   "cell_type": "code",
   "execution_count": 27,
   "metadata": {},
   "outputs": [
    {
     "data": {
      "text/plain": [
       "<bound method Pipeline.get_params of Pipeline(memory=None,\n",
       "         steps=[('vect',\n",
       "                 TfidfVectorizer(analyzer='word', binary=False,\n",
       "                                 decode_error='strict',\n",
       "                                 dtype=<class 'numpy.float64'>,\n",
       "                                 encoding='utf-8', input='content',\n",
       "                                 lowercase=True, max_df=1.0, max_features=None,\n",
       "                                 min_df=3, ngram_range=(1, 2), norm='l2',\n",
       "                                 preprocessor=None, smooth_idf=True,\n",
       "                                 stop_words='english', strip_accents=None,\n",
       "                                 sublinear_tf=True,\n",
       "                                 token_patter...\n",
       "                 RandomForestClassifier(bootstrap=True, class_weight=None,\n",
       "                                        criterion='gini', max_depth=None,\n",
       "                                        max_features='auto',\n",
       "                                        max_leaf_nodes=None,\n",
       "                                        min_impurity_decrease=0.0,\n",
       "                                        min_impurity_split=None,\n",
       "                                        min_samples_leaf=1, min_samples_split=2,\n",
       "                                        min_weight_fraction_leaf=0.0,\n",
       "                                        n_estimators=100, n_jobs=None,\n",
       "                                        oob_score=False, random_state=10,\n",
       "                                        verbose=0, warm_start=False))],\n",
       "         verbose=False)>"
      ]
     },
     "execution_count": 27,
     "metadata": {},
     "output_type": "execute_result"
    }
   ],
   "source": [
    "pipeline.get_params"
   ]
  },
  {
   "cell_type": "code",
   "execution_count": 28,
   "metadata": {},
   "outputs": [],
   "source": [
    "from sklearn.model_selection import cross_val_score, KFold\n",
    "from scipy.stats import sem\n",
    "\n",
    "def evaluate_cross_validation(clf, X, y, K):\n",
    "    # create a k-fold croos validation iterator of k=5 folds\n",
    "    cv = KFold(n_splits=K, shuffle=True, random_state=10)\n",
    "    # by default the score used is the one returned by score method of the estimator (accuracy)\n",
    "    scores = cross_val_score(clf, X, y, cv=cv)#, scoring='roc_auc')\n",
    "    print (scores)\n",
    "    print ((\"Mean score: {0:.3f} (+/-{1:.3f})\").format(np.mean(scores), sem(scores)))\n",
    "    \n",
    "    "
   ]
  },
  {
   "cell_type": "markdown",
   "metadata": {},
   "source": [
    "## Pipeline implementation for different models"
   ]
  },
  {
   "cell_type": "code",
   "execution_count": 29,
   "metadata": {},
   "outputs": [],
   "source": [
    "from sklearn.naive_bayes import MultinomialNB\n",
    "from sklearn.pipeline import Pipeline\n",
    "from sklearn.feature_extraction.text import TfidfVectorizer, HashingVectorizer, CountVectorizer\n",
    "\n",
    "clf_1 = Pipeline([\n",
    "    ('vect', CountVectorizer()),\n",
    "    ('chi',  SelectKBest(chi2, k=10000)),\n",
    "    ('clf', MultinomialNB()),\n",
    "])\n",
    "clf_2 = Pipeline([\n",
    "    ('vect', HashingVectorizer()),\n",
    "    ('chi',  SelectKBest(chi2, k=10000)),\n",
    "    ('clf', MultinomialNB()),\n",
    "])\n",
    "clf_3 = Pipeline([\n",
    "    ('vect', TfidfVectorizer()),\n",
    "    ('chi',  SelectKBest(chi2, k=10000)),\n",
    "    ('clf', MultinomialNB()),\n",
    "])\n",
    "clf_4 = Pipeline([\n",
    "    ('vect', TfidfVectorizer(\n",
    "                token_pattern=r\"\\b[a-z0-9_\\-\\.]+[a-z][a-z0-9_\\-\\.]+\\b\",\n",
    "    )),\n",
    "    ('clf', MultinomialNB()),\n",
    "])"
   ]
  },
  {
   "cell_type": "code",
   "execution_count": 30,
   "metadata": {},
   "outputs": [
    {
     "name": "stdout",
     "output_type": "stream",
     "text": [
      "[0.8225  0.8165  0.819   0.81525 0.82425]\n",
      "Mean score: 0.820 (+/-0.002)\n"
     ]
    }
   ],
   "source": [
    "evaluate_cross_validation(pipeline, feats_df[\"cleaned\"], feats_df[\"Category\"],5)"
   ]
  },
  {
   "cell_type": "markdown",
   "metadata": {},
   "source": [
    "## Evaluating effect of vectorization on the model performance using K-fold cross validation"
   ]
  },
  {
   "cell_type": "code",
   "execution_count": 31,
   "metadata": {},
   "outputs": [
    {
     "name": "stdout",
     "output_type": "stream",
     "text": [
      "[0.77675 0.78075 0.7675  0.76925 0.77975]\n",
      "Mean score: 0.775 (+/-0.003)\n",
      "[0.7615  0.76275 0.745   0.759   0.7625 ]\n",
      "Mean score: 0.758 (+/-0.003)\n",
      "[0.7525  0.74875 0.744   0.75425 0.758  ]\n",
      "Mean score: 0.751 (+/-0.002)\n",
      "[0.8225  0.8165  0.819   0.81525 0.82425]\n",
      "Mean score: 0.820 (+/-0.002)\n"
     ]
    }
   ],
   "source": [
    "clfs = [clf_1, clf_3, clf_4, pipeline]\n",
    "for clf in clfs:\n",
    "    evaluate_cross_validation(clf, feats_df[\"cleaned\"], feats_df[\"Category\"], 5)"
   ]
  },
  {
   "cell_type": "code",
   "execution_count": 32,
   "metadata": {},
   "outputs": [],
   "source": [
    "# list(zip(train[features], clf.feature_importances_))"
   ]
  },
  {
   "cell_type": "code",
   "execution_count": null,
   "metadata": {},
   "outputs": [],
   "source": []
  }
 ],
 "metadata": {
  "colab": {
   "collapsed_sections": [],
   "name": "IATA_Incident_classification_local.ipynb",
   "provenance": [],
   "toc_visible": true,
   "version": "0.3.2"
  },
  "kernelspec": {
   "display_name": "Python 3",
   "language": "python",
   "name": "python3"
  },
  "language_info": {
   "codemirror_mode": {
    "name": "ipython",
    "version": 3
   },
   "file_extension": ".py",
   "mimetype": "text/x-python",
   "name": "python",
   "nbconvert_exporter": "python",
   "pygments_lexer": "ipython3",
   "version": "3.5.6"
  }
 },
 "nbformat": 4,
 "nbformat_minor": 1
}
