{
 "cells": [
  {
   "cell_type": "markdown",
   "metadata": {
    "colab_type": "text",
    "id": "-jaJGQJQOu7r"
   },
   "source": []
  },
  {
   "cell_type": "markdown",
   "metadata": {
    "colab_type": "text",
    "id": "kh48M-_FOyq-"
   },
   "source": [
    "The following model is a two steps classification process.\n",
    "The first step consist of predicting if there will be a departure delay or a cancelation.\n",
    "The second step consist of predicting if there will be an arrival delay once the flight occurs.\n",
    "The goal of this two steps classification process is to leverage the information from the real time of departure in order to improve the classification of arrival delays.\n",
    "\n",
    "The results are far from good for the first step of the classification without using the weather data. Using this information would surely improve the model. However, we can see that the results of the second step are already satisfying without even using the weather data."
   ]
  },
  {
   "cell_type": "markdown",
   "metadata": {
    "colab_type": "text",
    "id": "uWZUEejrAZiq"
   },
   "source": [
    "# **Import Flight Data**"
   ]
  },
  {
   "cell_type": "code",
   "execution_count": 1,
   "metadata": {
    "colab": {},
    "colab_type": "code",
    "id": "eB8RS4IqBM1_"
   },
   "outputs": [],
   "source": [
    "import pandas as pd\n",
    "import numpy as np\n",
    "from datetime import datetime\n",
    "import matplotlib.pyplot as plt\n",
    "%matplotlib inline \n",
    "import random\n",
    "random.seed(348)\n",
    "\n",
    "flight_data   = pd.read_csv('departures_v2.csv', sep='\\t')\n",
    "#flight_data   = pd.read_csv('departures.csv', sep='\\t')\n",
    "#flight_data   = pd.read_csv('departures.txt', sep='\\t')\n"
   ]
  },
  {
   "cell_type": "code",
   "execution_count": 2,
   "metadata": {
    "colab": {
     "base_uri": "https://localhost:8080/",
     "height": 235
    },
    "colab_type": "code",
    "id": "An6JLt3it7KS",
    "outputId": "c85f67d0-56ed-4063-b30d-a6409df74c3c"
   },
   "outputs": [
    {
     "name": "stdout",
     "output_type": "stream",
     "text": [
      "Requirement already satisfied: seaborn in c:\\tools\\miniconda3\\lib\\site-packages (0.9.0)\n",
      "Requirement already satisfied: scipy>=0.14.0 in c:\\tools\\miniconda3\\lib\\site-packages (from seaborn) (1.3.0)\n",
      "Requirement already satisfied: numpy>=1.9.3 in c:\\tools\\miniconda3\\lib\\site-packages (from seaborn) (1.16.4)\n",
      "Requirement already satisfied: pandas>=0.15.2 in c:\\tools\\miniconda3\\lib\\site-packages (from seaborn) (0.25.1)\n",
      "Requirement already satisfied: matplotlib>=1.4.3 in c:\\tools\\miniconda3\\lib\\site-packages (from seaborn) (3.1.1)\n",
      "Requirement already satisfied: python-dateutil>=2.6.1 in c:\\tools\\miniconda3\\lib\\site-packages (from pandas>=0.15.2->seaborn) (2.8.0)\n",
      "Requirement already satisfied: pytz>=2017.2 in c:\\tools\\miniconda3\\lib\\site-packages (from pandas>=0.15.2->seaborn) (2019.2)\n",
      "Requirement already satisfied: kiwisolver>=1.0.1 in c:\\tools\\miniconda3\\lib\\site-packages (from matplotlib>=1.4.3->seaborn) (1.1.0)\n",
      "Requirement already satisfied: cycler>=0.10 in c:\\tools\\miniconda3\\lib\\site-packages (from matplotlib>=1.4.3->seaborn) (0.10.0)\n",
      "Requirement already satisfied: pyparsing!=2.0.4,!=2.1.2,!=2.1.6,>=2.0.1 in c:\\tools\\miniconda3\\lib\\site-packages (from matplotlib>=1.4.3->seaborn) (2.4.2)\n",
      "Requirement already satisfied: six>=1.5 in c:\\tools\\miniconda3\\lib\\site-packages (from python-dateutil>=2.6.1->pandas>=0.15.2->seaborn) (1.12.0)\n",
      "Requirement already satisfied: setuptools in c:\\tools\\miniconda3\\lib\\site-packages (from kiwisolver>=1.0.1->matplotlib>=1.4.3->seaborn) (41.0.0)\n"
     ]
    }
   ],
   "source": [
    "!pip install seaborn"
   ]
  },
  {
   "cell_type": "code",
   "execution_count": 3,
   "metadata": {
    "colab": {
     "base_uri": "https://localhost:8080/",
     "height": 545
    },
    "colab_type": "code",
    "id": "f4p-p77pHiGH",
    "outputId": "3d3bff01-8b6c-439c-f608-dbfc841c7aad"
   },
   "outputs": [
    {
     "name": "stdout",
     "output_type": "stream",
     "text": [
      "<class 'pandas.core.frame.DataFrame'>\n",
      "RangeIndex: 281604 entries, 0 to 281603\n",
      "Data columns (total 24 columns):\n",
      "mode                              281604 non-null object\n",
      "flight_number                     281604 non-null object\n",
      "callsign                          269291 non-null object\n",
      "aircraft_model_code               281459 non-null object\n",
      "aircraft_model_description        272507 non-null object\n",
      "aircraft_registration             272652 non-null object\n",
      "airline_name                      281604 non-null object\n",
      "airline_iata                      281604 non-null object\n",
      "airline_icao                      281604 non-null object\n",
      "flight_origin_code_iata           281604 non-null object\n",
      "flight_origin_code_icao           281507 non-null object\n",
      "flight_origin_name                281604 non-null object\n",
      "flight_origin_time_offset         281604 non-null int64\n",
      "flight_destination_code_iata      281604 non-null object\n",
      "flight_destination_code_icao      281493 non-null object\n",
      "flight_destination_name           281604 non-null object\n",
      "flight_destination_time_offset    281604 non-null int64\n",
      "flight_departure_scheduled        281604 non-null int64\n",
      "flight_departure_real             281604 non-null int64\n",
      "flight_arrival_scheduled          281604 non-null int64\n",
      "flight_arrival_real               281604 non-null int64\n",
      "flight_duration                   134710 non-null float64\n",
      "departure_status                  281604 non-null object\n",
      "arrival_status                    281604 non-null object\n",
      "dtypes: float64(1), int64(6), object(17)\n",
      "memory usage: 51.6+ MB\n"
     ]
    }
   ],
   "source": [
    "flight_data.info()"
   ]
  },
  {
   "cell_type": "code",
   "execution_count": 4,
   "metadata": {
    "colab": {
     "base_uri": "https://localhost:8080/",
     "height": 339
    },
    "colab_type": "code",
    "id": "dlIC-nhQIUzN",
    "outputId": "d635c6ac-0fcc-433e-c3e4-58852cdd484b"
   },
   "outputs": [
    {
     "data": {
      "text/html": [
       "<div>\n",
       "<style scoped>\n",
       "    .dataframe tbody tr th:only-of-type {\n",
       "        vertical-align: middle;\n",
       "    }\n",
       "\n",
       "    .dataframe tbody tr th {\n",
       "        vertical-align: top;\n",
       "    }\n",
       "\n",
       "    .dataframe thead th {\n",
       "        text-align: right;\n",
       "    }\n",
       "</style>\n",
       "<table border=\"1\" class=\"dataframe\">\n",
       "  <thead>\n",
       "    <tr style=\"text-align: right;\">\n",
       "      <th></th>\n",
       "      <th>mode</th>\n",
       "      <th>flight_number</th>\n",
       "      <th>callsign</th>\n",
       "      <th>aircraft_model_code</th>\n",
       "      <th>aircraft_model_description</th>\n",
       "      <th>aircraft_registration</th>\n",
       "      <th>airline_name</th>\n",
       "      <th>airline_iata</th>\n",
       "      <th>airline_icao</th>\n",
       "      <th>flight_origin_code_iata</th>\n",
       "      <th>...</th>\n",
       "      <th>flight_destination_code_icao</th>\n",
       "      <th>flight_destination_name</th>\n",
       "      <th>flight_destination_time_offset</th>\n",
       "      <th>flight_departure_scheduled</th>\n",
       "      <th>flight_departure_real</th>\n",
       "      <th>flight_arrival_scheduled</th>\n",
       "      <th>flight_arrival_real</th>\n",
       "      <th>flight_duration</th>\n",
       "      <th>departure_status</th>\n",
       "      <th>arrival_status</th>\n",
       "    </tr>\n",
       "  </thead>\n",
       "  <tbody>\n",
       "    <tr>\n",
       "      <th>0</th>\n",
       "      <td>arrivals</td>\n",
       "      <td>JL41</td>\n",
       "      <td>JAL41</td>\n",
       "      <td>B788</td>\n",
       "      <td>Boeing 787-8 Dreamliner</td>\n",
       "      <td>JA837J</td>\n",
       "      <td>Japan Airlines</td>\n",
       "      <td>JL</td>\n",
       "      <td>JAL</td>\n",
       "      <td>HND</td>\n",
       "      <td>...</td>\n",
       "      <td>EGLL</td>\n",
       "      <td>London Heathrow Airport</td>\n",
       "      <td>3600</td>\n",
       "      <td>1558284900</td>\n",
       "      <td>1558287066</td>\n",
       "      <td>1558329900</td>\n",
       "      <td>1558329002</td>\n",
       "      <td>41940.0</td>\n",
       "      <td>delayed</td>\n",
       "      <td>early arrival</td>\n",
       "    </tr>\n",
       "    <tr>\n",
       "      <th>1</th>\n",
       "      <td>arrivals</td>\n",
       "      <td>SA234</td>\n",
       "      <td>SAA234</td>\n",
       "      <td>A333</td>\n",
       "      <td>Airbus A330-343</td>\n",
       "      <td>ZS-SXK</td>\n",
       "      <td>South African Airways</td>\n",
       "      <td>SA</td>\n",
       "      <td>SAA</td>\n",
       "      <td>JNB</td>\n",
       "      <td>...</td>\n",
       "      <td>EGLL</td>\n",
       "      <td>London Heathrow Airport</td>\n",
       "      <td>3600</td>\n",
       "      <td>1558288800</td>\n",
       "      <td>1558289714</td>\n",
       "      <td>1558329900</td>\n",
       "      <td>1558329449</td>\n",
       "      <td>39720.0</td>\n",
       "      <td>ontime</td>\n",
       "      <td>early arrival</td>\n",
       "    </tr>\n",
       "    <tr>\n",
       "      <th>2</th>\n",
       "      <td>arrivals</td>\n",
       "      <td>QF1</td>\n",
       "      <td>QFA1</td>\n",
       "      <td>A388</td>\n",
       "      <td>Airbus A380-842</td>\n",
       "      <td>VH-OQA</td>\n",
       "      <td>Qantas</td>\n",
       "      <td>QF</td>\n",
       "      <td>QFA</td>\n",
       "      <td>SIN</td>\n",
       "      <td>...</td>\n",
       "      <td>EGLL</td>\n",
       "      <td>London Heathrow Airport</td>\n",
       "      <td>3600</td>\n",
       "      <td>1558281300</td>\n",
       "      <td>1558285951</td>\n",
       "      <td>1558329900</td>\n",
       "      <td>1558332793</td>\n",
       "      <td>46860.0</td>\n",
       "      <td>long delayed</td>\n",
       "      <td>delayed</td>\n",
       "    </tr>\n",
       "    <tr>\n",
       "      <th>3</th>\n",
       "      <td>arrivals</td>\n",
       "      <td>BI3</td>\n",
       "      <td>RBA003</td>\n",
       "      <td>B788</td>\n",
       "      <td>Boeing 787-8 Dreamliner</td>\n",
       "      <td>V8-DLD</td>\n",
       "      <td>Royal Brunei Airlines</td>\n",
       "      <td>BI</td>\n",
       "      <td>RBA</td>\n",
       "      <td>BWN</td>\n",
       "      <td>...</td>\n",
       "      <td>EGLL</td>\n",
       "      <td>London Heathrow Airport</td>\n",
       "      <td>3600</td>\n",
       "      <td>1558277700</td>\n",
       "      <td>1558278026</td>\n",
       "      <td>1558329900</td>\n",
       "      <td>1558329158</td>\n",
       "      <td>51120.0</td>\n",
       "      <td>ontime</td>\n",
       "      <td>early arrival</td>\n",
       "    </tr>\n",
       "    <tr>\n",
       "      <th>4</th>\n",
       "      <td>arrivals</td>\n",
       "      <td>VS4</td>\n",
       "      <td>VIR4C</td>\n",
       "      <td>A333</td>\n",
       "      <td>Airbus A330-343</td>\n",
       "      <td>G-VWAG</td>\n",
       "      <td>Virgin Atlantic</td>\n",
       "      <td>VS</td>\n",
       "      <td>VIR</td>\n",
       "      <td>JFK</td>\n",
       "      <td>...</td>\n",
       "      <td>EGLL</td>\n",
       "      <td>London Heathrow Airport</td>\n",
       "      <td>3600</td>\n",
       "      <td>1558303200</td>\n",
       "      <td>1558306094</td>\n",
       "      <td>1558329900</td>\n",
       "      <td>1558329337</td>\n",
       "      <td>23220.0</td>\n",
       "      <td>delayed</td>\n",
       "      <td>early arrival</td>\n",
       "    </tr>\n",
       "  </tbody>\n",
       "</table>\n",
       "<p>5 rows × 24 columns</p>\n",
       "</div>"
      ],
      "text/plain": [
       "       mode flight_number callsign aircraft_model_code  \\\n",
       "0  arrivals          JL41    JAL41                B788   \n",
       "1  arrivals         SA234   SAA234                A333   \n",
       "2  arrivals           QF1     QFA1                A388   \n",
       "3  arrivals           BI3   RBA003                B788   \n",
       "4  arrivals           VS4    VIR4C                A333   \n",
       "\n",
       "  aircraft_model_description aircraft_registration           airline_name  \\\n",
       "0    Boeing 787-8 Dreamliner                JA837J         Japan Airlines   \n",
       "1            Airbus A330-343                ZS-SXK  South African Airways   \n",
       "2            Airbus A380-842                VH-OQA                 Qantas   \n",
       "3    Boeing 787-8 Dreamliner                V8-DLD  Royal Brunei Airlines   \n",
       "4            Airbus A330-343                G-VWAG        Virgin Atlantic   \n",
       "\n",
       "  airline_iata airline_icao flight_origin_code_iata  ...  \\\n",
       "0           JL          JAL                     HND  ...   \n",
       "1           SA          SAA                     JNB  ...   \n",
       "2           QF          QFA                     SIN  ...   \n",
       "3           BI          RBA                     BWN  ...   \n",
       "4           VS          VIR                     JFK  ...   \n",
       "\n",
       "  flight_destination_code_icao  flight_destination_name  \\\n",
       "0                         EGLL  London Heathrow Airport   \n",
       "1                         EGLL  London Heathrow Airport   \n",
       "2                         EGLL  London Heathrow Airport   \n",
       "3                         EGLL  London Heathrow Airport   \n",
       "4                         EGLL  London Heathrow Airport   \n",
       "\n",
       "   flight_destination_time_offset flight_departure_scheduled  \\\n",
       "0                            3600                 1558284900   \n",
       "1                            3600                 1558288800   \n",
       "2                            3600                 1558281300   \n",
       "3                            3600                 1558277700   \n",
       "4                            3600                 1558303200   \n",
       "\n",
       "  flight_departure_real flight_arrival_scheduled  flight_arrival_real  \\\n",
       "0            1558287066               1558329900           1558329002   \n",
       "1            1558289714               1558329900           1558329449   \n",
       "2            1558285951               1558329900           1558332793   \n",
       "3            1558278026               1558329900           1558329158   \n",
       "4            1558306094               1558329900           1558329337   \n",
       "\n",
       "   flight_duration  departure_status  arrival_status  \n",
       "0          41940.0           delayed   early arrival  \n",
       "1          39720.0            ontime   early arrival  \n",
       "2          46860.0      long delayed         delayed  \n",
       "3          51120.0            ontime   early arrival  \n",
       "4          23220.0           delayed   early arrival  \n",
       "\n",
       "[5 rows x 24 columns]"
      ]
     },
     "execution_count": 4,
     "metadata": {},
     "output_type": "execute_result"
    }
   ],
   "source": [
    "flight_data.head()"
   ]
  },
  {
   "cell_type": "code",
   "execution_count": 5,
   "metadata": {
    "colab": {
     "base_uri": "https://localhost:8080/",
     "height": 54
    },
    "colab_type": "code",
    "id": "WRI_LkiPsJUC",
    "outputId": "fa814192-4fc4-4355-d890-ece7c8934e20"
   },
   "outputs": [
    {
     "data": {
      "text/plain": [
       "array(['delayed', 'ontime', 'long delayed', 'very long delayed',\n",
       "       'early departure', 'Flight Cancelled'], dtype=object)"
      ]
     },
     "execution_count": 5,
     "metadata": {},
     "output_type": "execute_result"
    }
   ],
   "source": [
    "flight_data['departure_status'].unique()"
   ]
  },
  {
   "cell_type": "code",
   "execution_count": 6,
   "metadata": {
    "colab": {
     "base_uri": "https://localhost:8080/",
     "height": 218
    },
    "colab_type": "code",
    "id": "jLqtfpNVsXgq",
    "outputId": "9ac39e5f-a545-468e-f5ef-7e7ff38e6877"
   },
   "outputs": [
    {
     "data": {
      "text/html": [
       "<div>\n",
       "<style scoped>\n",
       "    .dataframe tbody tr th:only-of-type {\n",
       "        vertical-align: middle;\n",
       "    }\n",
       "\n",
       "    .dataframe tbody tr th {\n",
       "        vertical-align: top;\n",
       "    }\n",
       "\n",
       "    .dataframe thead th {\n",
       "        text-align: right;\n",
       "    }\n",
       "</style>\n",
       "<table border=\"1\" class=\"dataframe\">\n",
       "  <thead>\n",
       "    <tr style=\"text-align: right;\">\n",
       "      <th></th>\n",
       "      <th>mode</th>\n",
       "      <th>flight_number</th>\n",
       "      <th>callsign</th>\n",
       "      <th>aircraft_model_code</th>\n",
       "      <th>aircraft_model_description</th>\n",
       "      <th>aircraft_registration</th>\n",
       "      <th>airline_name</th>\n",
       "      <th>airline_iata</th>\n",
       "      <th>airline_icao</th>\n",
       "      <th>flight_origin_code_iata</th>\n",
       "      <th>...</th>\n",
       "      <th>flight_destination_code_icao</th>\n",
       "      <th>flight_destination_name</th>\n",
       "      <th>flight_destination_time_offset</th>\n",
       "      <th>flight_departure_scheduled</th>\n",
       "      <th>flight_departure_real</th>\n",
       "      <th>flight_arrival_scheduled</th>\n",
       "      <th>flight_arrival_real</th>\n",
       "      <th>flight_duration</th>\n",
       "      <th>departure_status</th>\n",
       "      <th>arrival_status</th>\n",
       "    </tr>\n",
       "  </thead>\n",
       "  <tbody>\n",
       "    <tr>\n",
       "      <th>48</th>\n",
       "      <td>arrivals</td>\n",
       "      <td>LH922</td>\n",
       "      <td>NaN</td>\n",
       "      <td>A321</td>\n",
       "      <td>Airbus A321-131</td>\n",
       "      <td>D-AIRE</td>\n",
       "      <td>Lufthansa</td>\n",
       "      <td>LH</td>\n",
       "      <td>DLH</td>\n",
       "      <td>FRA</td>\n",
       "      <td>...</td>\n",
       "      <td>EGLL</td>\n",
       "      <td>London Heathrow Airport</td>\n",
       "      <td>3600</td>\n",
       "      <td>1558294200</td>\n",
       "      <td>-1</td>\n",
       "      <td>1558300200</td>\n",
       "      <td>-1</td>\n",
       "      <td>NaN</td>\n",
       "      <td>Flight Cancelled</td>\n",
       "      <td>Flight Cancelled</td>\n",
       "    </tr>\n",
       "    <tr>\n",
       "      <th>77</th>\n",
       "      <td>arrivals</td>\n",
       "      <td>EI184</td>\n",
       "      <td>NaN</td>\n",
       "      <td>A320</td>\n",
       "      <td>Airbus A320-214</td>\n",
       "      <td>EI-DVH</td>\n",
       "      <td>Aer Lingus</td>\n",
       "      <td>EI</td>\n",
       "      <td>EIN</td>\n",
       "      <td>DUB</td>\n",
       "      <td>...</td>\n",
       "      <td>EGLL</td>\n",
       "      <td>London Heathrow Airport</td>\n",
       "      <td>3600</td>\n",
       "      <td>1558293000</td>\n",
       "      <td>-1</td>\n",
       "      <td>1558297800</td>\n",
       "      <td>-1</td>\n",
       "      <td>NaN</td>\n",
       "      <td>Flight Cancelled</td>\n",
       "      <td>Flight Cancelled</td>\n",
       "    </tr>\n",
       "    <tr>\n",
       "      <th>103</th>\n",
       "      <td>arrivals</td>\n",
       "      <td>LH2482</td>\n",
       "      <td>NaN</td>\n",
       "      <td>319</td>\n",
       "      <td>NaN</td>\n",
       "      <td>NaN</td>\n",
       "      <td>Lufthansa</td>\n",
       "      <td>LH</td>\n",
       "      <td>DLH</td>\n",
       "      <td>MUC</td>\n",
       "      <td>...</td>\n",
       "      <td>EGLL</td>\n",
       "      <td>London Heathrow Airport</td>\n",
       "      <td>3600</td>\n",
       "      <td>1558287900</td>\n",
       "      <td>-1</td>\n",
       "      <td>1558295100</td>\n",
       "      <td>-1</td>\n",
       "      <td>NaN</td>\n",
       "      <td>Flight Cancelled</td>\n",
       "      <td>Flight Cancelled</td>\n",
       "    </tr>\n",
       "    <tr>\n",
       "      <th>192</th>\n",
       "      <td>arrivals</td>\n",
       "      <td>LH918</td>\n",
       "      <td>NaN</td>\n",
       "      <td>A20N</td>\n",
       "      <td>Airbus A320-271N</td>\n",
       "      <td>D-AINR</td>\n",
       "      <td>Lufthansa</td>\n",
       "      <td>LH</td>\n",
       "      <td>DLH</td>\n",
       "      <td>FRA</td>\n",
       "      <td>...</td>\n",
       "      <td>EGLL</td>\n",
       "      <td>London Heathrow Airport</td>\n",
       "      <td>3600</td>\n",
       "      <td>1558281600</td>\n",
       "      <td>-1</td>\n",
       "      <td>1558287600</td>\n",
       "      <td>-1</td>\n",
       "      <td>NaN</td>\n",
       "      <td>Flight Cancelled</td>\n",
       "      <td>Flight Cancelled</td>\n",
       "    </tr>\n",
       "    <tr>\n",
       "      <th>307</th>\n",
       "      <td>arrivals</td>\n",
       "      <td>LH910</td>\n",
       "      <td>NaN</td>\n",
       "      <td>A320</td>\n",
       "      <td>Airbus A320-214</td>\n",
       "      <td>D-AIWD</td>\n",
       "      <td>Lufthansa</td>\n",
       "      <td>LH</td>\n",
       "      <td>DLH</td>\n",
       "      <td>FRA</td>\n",
       "      <td>...</td>\n",
       "      <td>EGLL</td>\n",
       "      <td>London Heathrow Airport</td>\n",
       "      <td>3600</td>\n",
       "      <td>1558270800</td>\n",
       "      <td>-1</td>\n",
       "      <td>1558276800</td>\n",
       "      <td>-1</td>\n",
       "      <td>NaN</td>\n",
       "      <td>Flight Cancelled</td>\n",
       "      <td>Flight Cancelled</td>\n",
       "    </tr>\n",
       "  </tbody>\n",
       "</table>\n",
       "<p>5 rows × 24 columns</p>\n",
       "</div>"
      ],
      "text/plain": [
       "         mode flight_number callsign aircraft_model_code  \\\n",
       "48   arrivals         LH922      NaN                A321   \n",
       "77   arrivals         EI184      NaN                A320   \n",
       "103  arrivals        LH2482      NaN                 319   \n",
       "192  arrivals         LH918      NaN                A20N   \n",
       "307  arrivals         LH910      NaN                A320   \n",
       "\n",
       "    aircraft_model_description aircraft_registration airline_name  \\\n",
       "48             Airbus A321-131                D-AIRE    Lufthansa   \n",
       "77             Airbus A320-214                EI-DVH   Aer Lingus   \n",
       "103                        NaN                   NaN    Lufthansa   \n",
       "192           Airbus A320-271N                D-AINR    Lufthansa   \n",
       "307            Airbus A320-214                D-AIWD    Lufthansa   \n",
       "\n",
       "    airline_iata airline_icao flight_origin_code_iata  ...  \\\n",
       "48            LH          DLH                     FRA  ...   \n",
       "77            EI          EIN                     DUB  ...   \n",
       "103           LH          DLH                     MUC  ...   \n",
       "192           LH          DLH                     FRA  ...   \n",
       "307           LH          DLH                     FRA  ...   \n",
       "\n",
       "    flight_destination_code_icao  flight_destination_name  \\\n",
       "48                          EGLL  London Heathrow Airport   \n",
       "77                          EGLL  London Heathrow Airport   \n",
       "103                         EGLL  London Heathrow Airport   \n",
       "192                         EGLL  London Heathrow Airport   \n",
       "307                         EGLL  London Heathrow Airport   \n",
       "\n",
       "     flight_destination_time_offset flight_departure_scheduled  \\\n",
       "48                             3600                 1558294200   \n",
       "77                             3600                 1558293000   \n",
       "103                            3600                 1558287900   \n",
       "192                            3600                 1558281600   \n",
       "307                            3600                 1558270800   \n",
       "\n",
       "    flight_departure_real flight_arrival_scheduled  flight_arrival_real  \\\n",
       "48                     -1               1558300200                   -1   \n",
       "77                     -1               1558297800                   -1   \n",
       "103                    -1               1558295100                   -1   \n",
       "192                    -1               1558287600                   -1   \n",
       "307                    -1               1558276800                   -1   \n",
       "\n",
       "     flight_duration  departure_status    arrival_status  \n",
       "48               NaN  Flight Cancelled  Flight Cancelled  \n",
       "77               NaN  Flight Cancelled  Flight Cancelled  \n",
       "103              NaN  Flight Cancelled  Flight Cancelled  \n",
       "192              NaN  Flight Cancelled  Flight Cancelled  \n",
       "307              NaN  Flight Cancelled  Flight Cancelled  \n",
       "\n",
       "[5 rows x 24 columns]"
      ]
     },
     "execution_count": 6,
     "metadata": {},
     "output_type": "execute_result"
    }
   ],
   "source": [
    "flight_data[flight_data['departure_status'] == 'Flight Cancelled'].head()"
   ]
  },
  {
   "cell_type": "code",
   "execution_count": 7,
   "metadata": {
    "colab": {},
    "colab_type": "code",
    "id": "5Wt2q-FsYotw"
   },
   "outputs": [],
   "source": [
    "# Remove some rows, drop a column and modify one column\n",
    "depOnly_nan = flight_data[ ( flight_data['flight_departure_real'].isnull() ) & (~flight_data['flight_arrival_real'].isnull() ) ].index # Bad data, how can we not have real info for departure but for arrival?\n",
    "arrOnly_nan = flight_data[ (~flight_data['flight_departure_real'].isnull() ) & ( flight_data['flight_arrival_real'].isnull() ) ].index # Bad data, how can we have real info for departure but not for arrival? Crash or bad data!\n",
    "flight_data.drop(depOnly_nan, inplace=True)\n",
    "flight_data.drop(arrOnly_nan, inplace=True)\n",
    "flight_data.drop(['departure_status','arrival_status'], axis=1, inplace=True)\n",
    "flight_data['aircraft_registration'] = flight_data['aircraft_registration'].str.extract('([A-Za-z]+)\\-') # Only get the first letter in the registration code"
   ]
  },
  {
   "cell_type": "code",
   "execution_count": 8,
   "metadata": {
    "colab": {},
    "colab_type": "code",
    "id": "-GE64MJoJJMV"
   },
   "outputs": [],
   "source": [
    "flight_data.drop(['flight_duration'], axis=1, inplace=True)"
   ]
  },
  {
   "cell_type": "markdown",
   "metadata": {
    "colab_type": "text",
    "id": "oiw_nAi-U4ok"
   },
   "source": [
    "# Remove outliers"
   ]
  },
  {
   "cell_type": "code",
   "execution_count": 9,
   "metadata": {
    "colab": {},
    "colab_type": "code",
    "id": "csAWHu0AU-hj"
   },
   "outputs": [],
   "source": [
    "def remove_outlier(df_in, col_name):\n",
    "    q1 = df_in[col_name].quantile(0.25)\n",
    "    q3 = df_in[col_name].quantile(0.75)\n",
    "    iqr = q3-q1 #Interquartile range\n",
    "    fence_low  = q1-1.5*iqr\n",
    "    fence_high = q3+1.5*iqr\n",
    "    df_out = df_in.loc[(df_in[col_name] > fence_low) & (df_in[col_name] < fence_high)]\n",
    "    return df_out"
   ]
  },
  {
   "cell_type": "code",
   "execution_count": 10,
   "metadata": {
    "colab": {},
    "colab_type": "code",
    "id": "oH5sPDeVt7Kj"
   },
   "outputs": [],
   "source": [
    "# no_cancelations_df[\"delay_time\"].describe()"
   ]
  },
  {
   "cell_type": "code",
   "execution_count": 11,
   "metadata": {
    "colab": {
     "base_uri": "https://localhost:8080/",
     "height": 35
    },
    "colab_type": "code",
    "id": "32wWaNZeU7CD",
    "outputId": "61da0a4c-d819-4a45-ed51-8ac719865c03"
   },
   "outputs": [
    {
     "name": "stdout",
     "output_type": "stream",
     "text": [
      "281604\n"
     ]
    }
   ],
   "source": [
    "no_cancelations_df = flight_data[flight_data['flight_departure_real'] != -1 ]\n",
    "cancelations_df = flight_data[flight_data['flight_departure_real'] == -1 ]\n",
    "print( len(no_cancelations_df) + len(cancelations_df))"
   ]
  },
  {
   "cell_type": "code",
   "execution_count": 12,
   "metadata": {
    "colab": {
     "base_uri": "https://localhost:8080/",
     "height": 126
    },
    "colab_type": "code",
    "id": "EVqjLjC5UR9C",
    "outputId": "632fdfa8-6428-4b21-8ce1-6bd8ad457af2"
   },
   "outputs": [
    {
     "name": "stderr",
     "output_type": "stream",
     "text": [
      "C:\\tools\\miniconda3\\envs\\agifors\\lib\\site-packages\\ipykernel_launcher.py:1: SettingWithCopyWarning: \n",
      "A value is trying to be set on a copy of a slice from a DataFrame.\n",
      "Try using .loc[row_indexer,col_indexer] = value instead\n",
      "\n",
      "See the caveats in the documentation: http://pandas.pydata.org/pandas-docs/stable/user_guide/indexing.html#returning-a-view-versus-a-copy\n",
      "  \"\"\"Entry point for launching an IPython kernel.\n"
     ]
    }
   ],
   "source": [
    "no_cancelations_df['delay_time'] = no_cancelations_df['flight_departure_real'] - no_cancelations_df['flight_departure_scheduled']"
   ]
  },
  {
   "cell_type": "code",
   "execution_count": 13,
   "metadata": {
    "colab": {
     "base_uri": "https://localhost:8080/",
     "height": 339
    },
    "colab_type": "code",
    "id": "eWgzVuVHaqGC",
    "outputId": "8dc420cc-b8c0-4967-e928-4cef5c38b470"
   },
   "outputs": [
    {
     "data": {
      "text/html": [
       "<div>\n",
       "<style scoped>\n",
       "    .dataframe tbody tr th:only-of-type {\n",
       "        vertical-align: middle;\n",
       "    }\n",
       "\n",
       "    .dataframe tbody tr th {\n",
       "        vertical-align: top;\n",
       "    }\n",
       "\n",
       "    .dataframe thead th {\n",
       "        text-align: right;\n",
       "    }\n",
       "</style>\n",
       "<table border=\"1\" class=\"dataframe\">\n",
       "  <thead>\n",
       "    <tr style=\"text-align: right;\">\n",
       "      <th></th>\n",
       "      <th>mode</th>\n",
       "      <th>flight_number</th>\n",
       "      <th>callsign</th>\n",
       "      <th>aircraft_model_code</th>\n",
       "      <th>aircraft_model_description</th>\n",
       "      <th>aircraft_registration</th>\n",
       "      <th>airline_name</th>\n",
       "      <th>airline_iata</th>\n",
       "      <th>airline_icao</th>\n",
       "      <th>flight_origin_code_iata</th>\n",
       "      <th>...</th>\n",
       "      <th>flight_origin_time_offset</th>\n",
       "      <th>flight_destination_code_iata</th>\n",
       "      <th>flight_destination_code_icao</th>\n",
       "      <th>flight_destination_name</th>\n",
       "      <th>flight_destination_time_offset</th>\n",
       "      <th>flight_departure_scheduled</th>\n",
       "      <th>flight_departure_real</th>\n",
       "      <th>flight_arrival_scheduled</th>\n",
       "      <th>flight_arrival_real</th>\n",
       "      <th>delay_time</th>\n",
       "    </tr>\n",
       "  </thead>\n",
       "  <tbody>\n",
       "    <tr>\n",
       "      <th>0</th>\n",
       "      <td>arrivals</td>\n",
       "      <td>JL41</td>\n",
       "      <td>JAL41</td>\n",
       "      <td>B788</td>\n",
       "      <td>Boeing 787-8 Dreamliner</td>\n",
       "      <td>NaN</td>\n",
       "      <td>Japan Airlines</td>\n",
       "      <td>JL</td>\n",
       "      <td>JAL</td>\n",
       "      <td>HND</td>\n",
       "      <td>...</td>\n",
       "      <td>32400</td>\n",
       "      <td>LHR</td>\n",
       "      <td>EGLL</td>\n",
       "      <td>London Heathrow Airport</td>\n",
       "      <td>3600</td>\n",
       "      <td>1558284900</td>\n",
       "      <td>1558287066</td>\n",
       "      <td>1558329900</td>\n",
       "      <td>1558329002</td>\n",
       "      <td>2166</td>\n",
       "    </tr>\n",
       "    <tr>\n",
       "      <th>1</th>\n",
       "      <td>arrivals</td>\n",
       "      <td>SA234</td>\n",
       "      <td>SAA234</td>\n",
       "      <td>A333</td>\n",
       "      <td>Airbus A330-343</td>\n",
       "      <td>ZS</td>\n",
       "      <td>South African Airways</td>\n",
       "      <td>SA</td>\n",
       "      <td>SAA</td>\n",
       "      <td>JNB</td>\n",
       "      <td>...</td>\n",
       "      <td>7200</td>\n",
       "      <td>LHR</td>\n",
       "      <td>EGLL</td>\n",
       "      <td>London Heathrow Airport</td>\n",
       "      <td>3600</td>\n",
       "      <td>1558288800</td>\n",
       "      <td>1558289714</td>\n",
       "      <td>1558329900</td>\n",
       "      <td>1558329449</td>\n",
       "      <td>914</td>\n",
       "    </tr>\n",
       "    <tr>\n",
       "      <th>2</th>\n",
       "      <td>arrivals</td>\n",
       "      <td>QF1</td>\n",
       "      <td>QFA1</td>\n",
       "      <td>A388</td>\n",
       "      <td>Airbus A380-842</td>\n",
       "      <td>VH</td>\n",
       "      <td>Qantas</td>\n",
       "      <td>QF</td>\n",
       "      <td>QFA</td>\n",
       "      <td>SIN</td>\n",
       "      <td>...</td>\n",
       "      <td>28800</td>\n",
       "      <td>LHR</td>\n",
       "      <td>EGLL</td>\n",
       "      <td>London Heathrow Airport</td>\n",
       "      <td>3600</td>\n",
       "      <td>1558281300</td>\n",
       "      <td>1558285951</td>\n",
       "      <td>1558329900</td>\n",
       "      <td>1558332793</td>\n",
       "      <td>4651</td>\n",
       "    </tr>\n",
       "    <tr>\n",
       "      <th>3</th>\n",
       "      <td>arrivals</td>\n",
       "      <td>BI3</td>\n",
       "      <td>RBA003</td>\n",
       "      <td>B788</td>\n",
       "      <td>Boeing 787-8 Dreamliner</td>\n",
       "      <td>NaN</td>\n",
       "      <td>Royal Brunei Airlines</td>\n",
       "      <td>BI</td>\n",
       "      <td>RBA</td>\n",
       "      <td>BWN</td>\n",
       "      <td>...</td>\n",
       "      <td>28800</td>\n",
       "      <td>LHR</td>\n",
       "      <td>EGLL</td>\n",
       "      <td>London Heathrow Airport</td>\n",
       "      <td>3600</td>\n",
       "      <td>1558277700</td>\n",
       "      <td>1558278026</td>\n",
       "      <td>1558329900</td>\n",
       "      <td>1558329158</td>\n",
       "      <td>326</td>\n",
       "    </tr>\n",
       "    <tr>\n",
       "      <th>4</th>\n",
       "      <td>arrivals</td>\n",
       "      <td>VS4</td>\n",
       "      <td>VIR4C</td>\n",
       "      <td>A333</td>\n",
       "      <td>Airbus A330-343</td>\n",
       "      <td>G</td>\n",
       "      <td>Virgin Atlantic</td>\n",
       "      <td>VS</td>\n",
       "      <td>VIR</td>\n",
       "      <td>JFK</td>\n",
       "      <td>...</td>\n",
       "      <td>-14400</td>\n",
       "      <td>LHR</td>\n",
       "      <td>EGLL</td>\n",
       "      <td>London Heathrow Airport</td>\n",
       "      <td>3600</td>\n",
       "      <td>1558303200</td>\n",
       "      <td>1558306094</td>\n",
       "      <td>1558329900</td>\n",
       "      <td>1558329337</td>\n",
       "      <td>2894</td>\n",
       "    </tr>\n",
       "  </tbody>\n",
       "</table>\n",
       "<p>5 rows × 22 columns</p>\n",
       "</div>"
      ],
      "text/plain": [
       "       mode flight_number callsign aircraft_model_code  \\\n",
       "0  arrivals          JL41    JAL41                B788   \n",
       "1  arrivals         SA234   SAA234                A333   \n",
       "2  arrivals           QF1     QFA1                A388   \n",
       "3  arrivals           BI3   RBA003                B788   \n",
       "4  arrivals           VS4    VIR4C                A333   \n",
       "\n",
       "  aircraft_model_description aircraft_registration           airline_name  \\\n",
       "0    Boeing 787-8 Dreamliner                   NaN         Japan Airlines   \n",
       "1            Airbus A330-343                    ZS  South African Airways   \n",
       "2            Airbus A380-842                    VH                 Qantas   \n",
       "3    Boeing 787-8 Dreamliner                   NaN  Royal Brunei Airlines   \n",
       "4            Airbus A330-343                     G        Virgin Atlantic   \n",
       "\n",
       "  airline_iata airline_icao flight_origin_code_iata  ...  \\\n",
       "0           JL          JAL                     HND  ...   \n",
       "1           SA          SAA                     JNB  ...   \n",
       "2           QF          QFA                     SIN  ...   \n",
       "3           BI          RBA                     BWN  ...   \n",
       "4           VS          VIR                     JFK  ...   \n",
       "\n",
       "  flight_origin_time_offset flight_destination_code_iata  \\\n",
       "0                     32400                          LHR   \n",
       "1                      7200                          LHR   \n",
       "2                     28800                          LHR   \n",
       "3                     28800                          LHR   \n",
       "4                    -14400                          LHR   \n",
       "\n",
       "   flight_destination_code_icao  flight_destination_name  \\\n",
       "0                          EGLL  London Heathrow Airport   \n",
       "1                          EGLL  London Heathrow Airport   \n",
       "2                          EGLL  London Heathrow Airport   \n",
       "3                          EGLL  London Heathrow Airport   \n",
       "4                          EGLL  London Heathrow Airport   \n",
       "\n",
       "  flight_destination_time_offset flight_departure_scheduled  \\\n",
       "0                           3600                 1558284900   \n",
       "1                           3600                 1558288800   \n",
       "2                           3600                 1558281300   \n",
       "3                           3600                 1558277700   \n",
       "4                           3600                 1558303200   \n",
       "\n",
       "   flight_departure_real  flight_arrival_scheduled  flight_arrival_real  \\\n",
       "0             1558287066                1558329900           1558329002   \n",
       "1             1558289714                1558329900           1558329449   \n",
       "2             1558285951                1558329900           1558332793   \n",
       "3             1558278026                1558329900           1558329158   \n",
       "4             1558306094                1558329900           1558329337   \n",
       "\n",
       "   delay_time  \n",
       "0        2166  \n",
       "1         914  \n",
       "2        4651  \n",
       "3         326  \n",
       "4        2894  \n",
       "\n",
       "[5 rows x 22 columns]"
      ]
     },
     "execution_count": 13,
     "metadata": {},
     "output_type": "execute_result"
    }
   ],
   "source": [
    "no_cancelations_df.head()"
   ]
  },
  {
   "cell_type": "code",
   "execution_count": 14,
   "metadata": {
    "colab": {},
    "colab_type": "code",
    "id": "2PpMVk6SXqea"
   },
   "outputs": [],
   "source": [
    "no_cancelations_df_without_outliers = remove_outlier(no_cancelations_df, 'delay_time')"
   ]
  },
  {
   "cell_type": "code",
   "execution_count": 15,
   "metadata": {
    "colab": {},
    "colab_type": "code",
    "id": "T-4b31JlX7TS"
   },
   "outputs": [],
   "source": [
    "df_no_outliers = pd.concat([no_cancelations_df_without_outliers.drop('delay_time', axis=1), cancelations_df])"
   ]
  },
  {
   "cell_type": "code",
   "execution_count": 16,
   "metadata": {
    "colab": {
     "base_uri": "https://localhost:8080/",
     "height": 35
    },
    "colab_type": "code",
    "id": "9R0AXKdcYU7g",
    "outputId": "eca6be0d-1e31-48f0-c578-ba401a560893"
   },
   "outputs": [
    {
     "name": "stdout",
     "output_type": "stream",
     "text": [
      "258374 268871 245641 258374 12733\n"
     ]
    }
   ],
   "source": [
    "flight_data = df_no_outliers.sample(frac=1).reset_index(drop=True)\n",
    "print(len(flight_data), len(no_cancelations_df), len(no_cancelations_df_without_outliers), len(df_no_outliers), len(cancelations_df))"
   ]
  },
  {
   "cell_type": "code",
   "execution_count": 17,
   "metadata": {
    "colab": {
     "base_uri": "https://localhost:8080/",
     "height": 305
    },
    "colab_type": "code",
    "id": "SrgHsvNQcTcL",
    "outputId": "a0f419fc-d54a-4dd1-a7fb-d7662e1b2da9"
   },
   "outputs": [
    {
     "data": {
      "text/html": [
       "<div>\n",
       "<style scoped>\n",
       "    .dataframe tbody tr th:only-of-type {\n",
       "        vertical-align: middle;\n",
       "    }\n",
       "\n",
       "    .dataframe tbody tr th {\n",
       "        vertical-align: top;\n",
       "    }\n",
       "\n",
       "    .dataframe thead th {\n",
       "        text-align: right;\n",
       "    }\n",
       "</style>\n",
       "<table border=\"1\" class=\"dataframe\">\n",
       "  <thead>\n",
       "    <tr style=\"text-align: right;\">\n",
       "      <th></th>\n",
       "      <th>mode</th>\n",
       "      <th>flight_number</th>\n",
       "      <th>callsign</th>\n",
       "      <th>aircraft_model_code</th>\n",
       "      <th>aircraft_model_description</th>\n",
       "      <th>aircraft_registration</th>\n",
       "      <th>airline_name</th>\n",
       "      <th>airline_iata</th>\n",
       "      <th>airline_icao</th>\n",
       "      <th>flight_origin_code_iata</th>\n",
       "      <th>...</th>\n",
       "      <th>flight_origin_name</th>\n",
       "      <th>flight_origin_time_offset</th>\n",
       "      <th>flight_destination_code_iata</th>\n",
       "      <th>flight_destination_code_icao</th>\n",
       "      <th>flight_destination_name</th>\n",
       "      <th>flight_destination_time_offset</th>\n",
       "      <th>flight_departure_scheduled</th>\n",
       "      <th>flight_departure_real</th>\n",
       "      <th>flight_arrival_scheduled</th>\n",
       "      <th>flight_arrival_real</th>\n",
       "    </tr>\n",
       "  </thead>\n",
       "  <tbody>\n",
       "    <tr>\n",
       "      <th>0</th>\n",
       "      <td>arrivals</td>\n",
       "      <td>AF475</td>\n",
       "      <td>AFR475</td>\n",
       "      <td>B789</td>\n",
       "      <td>Boeing 787-9 Dreamliner</td>\n",
       "      <td>F</td>\n",
       "      <td>Air France</td>\n",
       "      <td>AF</td>\n",
       "      <td>AFR</td>\n",
       "      <td>PTY</td>\n",
       "      <td>...</td>\n",
       "      <td>Panama City Tocumen International Airport</td>\n",
       "      <td>-18000</td>\n",
       "      <td>CDG</td>\n",
       "      <td>LFPG</td>\n",
       "      <td>Paris Charles de Gaulle Airport</td>\n",
       "      <td>7200</td>\n",
       "      <td>1559350800</td>\n",
       "      <td>1559351531</td>\n",
       "      <td>1559388000</td>\n",
       "      <td>1559385938</td>\n",
       "    </tr>\n",
       "    <tr>\n",
       "      <th>1</th>\n",
       "      <td>arrivals</td>\n",
       "      <td>LH591</td>\n",
       "      <td>DLH591</td>\n",
       "      <td>A333</td>\n",
       "      <td>Airbus A330-343</td>\n",
       "      <td>D</td>\n",
       "      <td>Lufthansa</td>\n",
       "      <td>LH</td>\n",
       "      <td>DLH</td>\n",
       "      <td>NBO</td>\n",
       "      <td>...</td>\n",
       "      <td>Nairobi Jomo Kenyatta International Airport</td>\n",
       "      <td>10800</td>\n",
       "      <td>FRA</td>\n",
       "      <td>EDDF</td>\n",
       "      <td>Frankfurt Airport</td>\n",
       "      <td>7200</td>\n",
       "      <td>1558293900</td>\n",
       "      <td>1558294870</td>\n",
       "      <td>1558323600</td>\n",
       "      <td>1558322954</td>\n",
       "    </tr>\n",
       "    <tr>\n",
       "      <th>2</th>\n",
       "      <td>departures</td>\n",
       "      <td>U2895</td>\n",
       "      <td>EZY36JH</td>\n",
       "      <td>A319</td>\n",
       "      <td>Airbus A319-111</td>\n",
       "      <td>G</td>\n",
       "      <td>easyJet (UNICEF Livery)</td>\n",
       "      <td>U2</td>\n",
       "      <td>EZY</td>\n",
       "      <td>LGW</td>\n",
       "      <td>...</td>\n",
       "      <td>London Gatwick Airport</td>\n",
       "      <td>3600</td>\n",
       "      <td>JER</td>\n",
       "      <td>EGJJ</td>\n",
       "      <td>Jersey Airport</td>\n",
       "      <td>3600</td>\n",
       "      <td>1559664900</td>\n",
       "      <td>1559666740</td>\n",
       "      <td>1559668800</td>\n",
       "      <td>1559668924</td>\n",
       "    </tr>\n",
       "    <tr>\n",
       "      <th>3</th>\n",
       "      <td>departures</td>\n",
       "      <td>OA354</td>\n",
       "      <td>OAL4SR</td>\n",
       "      <td>A320</td>\n",
       "      <td>Airbus A320-232</td>\n",
       "      <td>SX</td>\n",
       "      <td>Aegean Airlines</td>\n",
       "      <td>A3</td>\n",
       "      <td>AEE</td>\n",
       "      <td>ATH</td>\n",
       "      <td>...</td>\n",
       "      <td>Athens Eleftherios Venizelos</td>\n",
       "      <td>10800</td>\n",
       "      <td>JTR</td>\n",
       "      <td>LGSR</td>\n",
       "      <td>Santorini Thira National Airport</td>\n",
       "      <td>10800</td>\n",
       "      <td>1559805000</td>\n",
       "      <td>1559806472</td>\n",
       "      <td>1559807700</td>\n",
       "      <td>1559808006</td>\n",
       "    </tr>\n",
       "    <tr>\n",
       "      <th>4</th>\n",
       "      <td>arrivals</td>\n",
       "      <td>DL722</td>\n",
       "      <td>DAL722</td>\n",
       "      <td>B752</td>\n",
       "      <td>Boeing 757-232</td>\n",
       "      <td>NaN</td>\n",
       "      <td>Delta Air Lines</td>\n",
       "      <td>DL</td>\n",
       "      <td>DAL</td>\n",
       "      <td>AUA</td>\n",
       "      <td>...</td>\n",
       "      <td>Oranjestad Queen Beatrix International Airport</td>\n",
       "      <td>-14400</td>\n",
       "      <td>JFK</td>\n",
       "      <td>KJFK</td>\n",
       "      <td>New York John F. Kennedy International Airport</td>\n",
       "      <td>-14400</td>\n",
       "      <td>1558463100</td>\n",
       "      <td>1558463486</td>\n",
       "      <td>1558479152</td>\n",
       "      <td>1558478840</td>\n",
       "    </tr>\n",
       "  </tbody>\n",
       "</table>\n",
       "<p>5 rows × 21 columns</p>\n",
       "</div>"
      ],
      "text/plain": [
       "         mode flight_number callsign aircraft_model_code  \\\n",
       "0    arrivals         AF475   AFR475                B789   \n",
       "1    arrivals         LH591   DLH591                A333   \n",
       "2  departures         U2895  EZY36JH                A319   \n",
       "3  departures         OA354   OAL4SR                A320   \n",
       "4    arrivals         DL722   DAL722                B752   \n",
       "\n",
       "  aircraft_model_description aircraft_registration             airline_name  \\\n",
       "0    Boeing 787-9 Dreamliner                     F               Air France   \n",
       "1            Airbus A330-343                     D                Lufthansa   \n",
       "2            Airbus A319-111                     G  easyJet (UNICEF Livery)   \n",
       "3            Airbus A320-232                    SX          Aegean Airlines   \n",
       "4             Boeing 757-232                   NaN          Delta Air Lines   \n",
       "\n",
       "  airline_iata airline_icao flight_origin_code_iata  ...  \\\n",
       "0           AF          AFR                     PTY  ...   \n",
       "1           LH          DLH                     NBO  ...   \n",
       "2           U2          EZY                     LGW  ...   \n",
       "3           A3          AEE                     ATH  ...   \n",
       "4           DL          DAL                     AUA  ...   \n",
       "\n",
       "                               flight_origin_name flight_origin_time_offset  \\\n",
       "0       Panama City Tocumen International Airport                    -18000   \n",
       "1     Nairobi Jomo Kenyatta International Airport                     10800   \n",
       "2                          London Gatwick Airport                      3600   \n",
       "3                    Athens Eleftherios Venizelos                     10800   \n",
       "4  Oranjestad Queen Beatrix International Airport                    -14400   \n",
       "\n",
       "   flight_destination_code_iata flight_destination_code_icao  \\\n",
       "0                           CDG                         LFPG   \n",
       "1                           FRA                         EDDF   \n",
       "2                           JER                         EGJJ   \n",
       "3                           JTR                         LGSR   \n",
       "4                           JFK                         KJFK   \n",
       "\n",
       "                          flight_destination_name  \\\n",
       "0                 Paris Charles de Gaulle Airport   \n",
       "1                               Frankfurt Airport   \n",
       "2                                  Jersey Airport   \n",
       "3                Santorini Thira National Airport   \n",
       "4  New York John F. Kennedy International Airport   \n",
       "\n",
       "  flight_destination_time_offset  flight_departure_scheduled  \\\n",
       "0                           7200                  1559350800   \n",
       "1                           7200                  1558293900   \n",
       "2                           3600                  1559664900   \n",
       "3                          10800                  1559805000   \n",
       "4                         -14400                  1558463100   \n",
       "\n",
       "   flight_departure_real  flight_arrival_scheduled  flight_arrival_real  \n",
       "0             1559351531                1559388000           1559385938  \n",
       "1             1558294870                1558323600           1558322954  \n",
       "2             1559666740                1559668800           1559668924  \n",
       "3             1559806472                1559807700           1559808006  \n",
       "4             1558463486                1558479152           1558478840  \n",
       "\n",
       "[5 rows x 21 columns]"
      ]
     },
     "execution_count": 17,
     "metadata": {},
     "output_type": "execute_result"
    }
   ],
   "source": [
    "flight_data.head()"
   ]
  },
  {
   "cell_type": "markdown",
   "metadata": {
    "colab_type": "text",
    "id": "bCCQKMRMAhvx"
   },
   "source": [
    "# Create target **variables**"
   ]
  },
  {
   "cell_type": "markdown",
   "metadata": {
    "colab_type": "text",
    "id": "BMtMgEaiCK4f"
   },
   "source": [
    "Identification of a cancelation, departure delay and arrival delay in each flight (Binary features)"
   ]
  },
  {
   "cell_type": "code",
   "execution_count": 18,
   "metadata": {
    "colab": {},
    "colab_type": "code",
    "id": "dwzIa4F_BNPf"
   },
   "outputs": [],
   "source": [
    "flight_data['Cancelations'] =  ( flight_data['flight_departure_real'] == -1 ) * 1\n",
    "flight_data['Departure_delay'] = ( ( flight_data['flight_departure_real'] - flight_data['flight_departure_scheduled'] ) > 900 ) * 1\n",
    "flight_data['Arrival_delay'] = ( ( flight_data['flight_arrival_real'] - flight_data['flight_arrival_scheduled'] ) > 900 ) * 1"
   ]
  },
  {
   "cell_type": "markdown",
   "metadata": {
    "colab_type": "text",
    "id": "KKY0iFhACUDe"
   },
   "source": [
    "Create target variables (1 for each of the two training steps and the main target variable)"
   ]
  },
  {
   "cell_type": "code",
   "execution_count": 19,
   "metadata": {
    "colab": {},
    "colab_type": "code",
    "id": "nvTJXVikB2RX"
   },
   "outputs": [],
   "source": [
    "# This is the target variable we want to predict in the end, good feature for data analysis (group by) even if not use as target variable\n",
    "def label_class_main(row):\n",
    "  if   row['Cancelations'] == 0 and row['Departure_delay'] == 0 and row['Arrival_delay'] == 0 :\n",
    "      return 'No delay No cancelation'\n",
    "  elif row['Cancelations'] == 0 and row['Departure_delay'] == 0 and row['Arrival_delay'] == 1 :\n",
    "      return 'Arrival delay'\n",
    "  elif row['Cancelations'] == 0 and row['Departure_delay'] == 1 and row['Arrival_delay'] == 0 :\n",
    "      return 'Departure delay'\n",
    "  elif row['Cancelations'] == 0 and row['Departure_delay'] == 1 and row['Arrival_delay'] == 1 :\n",
    "      return 'Departure delay Arrival delay'\n",
    "  elif row['Cancelations'] == 1  :\n",
    "      return 'Cancelation'\n",
    "\n",
    "# Target variable for step 1\n",
    "def label_class_1step(row):\n",
    "  if   row['Cancelations'] == 0 and row['Departure_delay'] == 0 :\n",
    "      return 'No delay No cancelation'\n",
    "  elif row['Cancelations'] == 0 and row['Departure_delay'] == 1 :\n",
    "      return 'Departure delay'\n",
    "  elif row['Cancelations'] == 1  :\n",
    "      return 'Cancelation'\n",
    "\n",
    "# Target variable for step 2\n",
    "def label_class_2step(row):\n",
    "  if   row['Arrival_delay'] == 0 :\n",
    "      return 'No arrival delay'\n",
    "  elif row['Arrival_delay'] == 1 :\n",
    "      return 'Arrival delay'"
   ]
  },
  {
   "cell_type": "code",
   "execution_count": 20,
   "metadata": {
    "colab": {},
    "colab_type": "code",
    "id": "y1z7hhyaB2_v"
   },
   "outputs": [],
   "source": [
    "flight_data['main_target'] = flight_data.apply( lambda row: label_class_main(row), axis=1 )\n",
    "flight_data['target_1step'] = flight_data.apply( lambda row: label_class_1step(row), axis=1 )\n",
    "flight_data['target_2step'] = flight_data.apply( lambda row: label_class_2step(row), axis=1 )"
   ]
  },
  {
   "cell_type": "code",
   "execution_count": 21,
   "metadata": {
    "colab": {},
    "colab_type": "code",
    "id": "3NdOs-rPt7K8"
   },
   "outputs": [],
   "source": [
    "flight_data_base = flight_data.copy()"
   ]
  },
  {
   "cell_type": "code",
   "execution_count": 22,
   "metadata": {
    "colab": {
     "base_uri": "https://localhost:8080/",
     "height": 90
    },
    "colab_type": "code",
    "id": "DGaIocKQt7K-",
    "outputId": "7fc78b64-e65f-4182-e9bf-737561af9acd"
   },
   "outputs": [
    {
     "data": {
      "text/plain": [
       "Departure delay            148033\n",
       "No delay No cancelation     97608\n",
       "Cancelation                 12733\n",
       "Name: target_1step, dtype: int64"
      ]
     },
     "metadata": {},
     "output_type": "display_data"
    }
   ],
   "source": [
    "display(flight_data_base['target_1step'].value_counts())"
   ]
  },
  {
   "cell_type": "code",
   "execution_count": 23,
   "metadata": {
    "colab": {
     "base_uri": "https://localhost:8080/",
     "height": 72
    },
    "colab_type": "code",
    "id": "UVvEVblvt7LB",
    "outputId": "73b9fe2b-0c02-4fd7-85e0-052e8479ff5f"
   },
   "outputs": [
    {
     "data": {
      "text/plain": [
       "No arrival delay    229339\n",
       "Arrival delay        29035\n",
       "Name: target_2step, dtype: int64"
      ]
     },
     "metadata": {},
     "output_type": "display_data"
    }
   ],
   "source": [
    "display(flight_data_base['target_2step'].value_counts())"
   ]
  },
  {
   "cell_type": "code",
   "execution_count": 24,
   "metadata": {
    "colab": {
     "base_uri": "https://localhost:8080/",
     "height": 526
    },
    "colab_type": "code",
    "id": "y-wGg6nrHqaL",
    "outputId": "b8bf0450-c80d-4708-dad2-4f7480f9a9a5"
   },
   "outputs": [
    {
     "data": {
      "text/plain": [
       "mode                                   0\n",
       "flight_number                          0\n",
       "callsign                           12200\n",
       "aircraft_model_code                  122\n",
       "aircraft_model_description          8975\n",
       "aircraft_registration             111101\n",
       "airline_name                           0\n",
       "airline_iata                           0\n",
       "airline_icao                           0\n",
       "flight_origin_code_iata                0\n",
       "flight_origin_code_icao               97\n",
       "flight_origin_name                     0\n",
       "flight_origin_time_offset              0\n",
       "flight_destination_code_iata           0\n",
       "flight_destination_code_icao         111\n",
       "flight_destination_name                0\n",
       "flight_destination_time_offset         0\n",
       "flight_departure_scheduled             0\n",
       "flight_departure_real                  0\n",
       "flight_arrival_scheduled               0\n",
       "flight_arrival_real                    0\n",
       "Cancelations                           0\n",
       "Departure_delay                        0\n",
       "Arrival_delay                          0\n",
       "main_target                            0\n",
       "target_1step                           0\n",
       "target_2step                           0\n",
       "dtype: int64"
      ]
     },
     "execution_count": 24,
     "metadata": {},
     "output_type": "execute_result"
    }
   ],
   "source": [
    "np.sum(flight_data.isnull()*1)"
   ]
  },
  {
   "cell_type": "markdown",
   "metadata": {
    "colab_type": "text",
    "id": "VsdpZRaSAmnR"
   },
   "source": [
    "# **Fill NaN**"
   ]
  },
  {
   "cell_type": "code",
   "execution_count": 25,
   "metadata": {
    "colab": {},
    "colab_type": "code",
    "id": "obkXc022BNsX"
   },
   "outputs": [],
   "source": [
    "# Fill NaN of categorical variables\n",
    "for column in list(flight_data.select_dtypes('object').columns):\n",
    "    flight_data[column].fillna('NoData', inplace=True)"
   ]
  },
  {
   "cell_type": "markdown",
   "metadata": {
    "colab_type": "text",
    "id": "hIIYl3jyCtF9"
   },
   "source": [
    "# Add new **features**"
   ]
  },
  {
   "cell_type": "code",
   "execution_count": 26,
   "metadata": {
    "colab": {},
    "colab_type": "code",
    "id": "EXCXA_vzCx7F"
   },
   "outputs": [],
   "source": [
    "flight_data['diff_arr_sched_dep_sched'] = flight_data['flight_arrival_scheduled'] - flight_data['flight_departure_scheduled']         # Duration of the scheduled flight\n",
    "flight_data['diff_dep_real_dep_sched'] = flight_data['flight_departure_real'] - flight_data['flight_departure_scheduled']             # Difference between real departure time and scheduled departure time (delay)\n",
    "flight_data['diff_arr_sched_dep_real'] = flight_data['flight_arrival_scheduled'] - flight_data['flight_departure_real']               # Difference between arrival scheduled time and real departure time\n",
    "flight_data['hour_dep_sched'] = flight_data['flight_departure_scheduled'].apply(lambda x: datetime.fromtimestamp(x).hour).values      # Hour of the day of departure scheduled\n",
    "flight_data['hour_arr_sched'] = flight_data['flight_arrival_scheduled'].apply(lambda x: datetime.fromtimestamp(x).hour).values        # Hour of the day of arrival scheduled\n",
    "\n",
    "# Columns to merge weather data (dep_sched for step1 and arr_sched for step2)\n",
    "flight_data['Date_hour_dep_sched'] = flight_data['flight_departure_scheduled'].apply(lambda x: pd.to_datetime(datetime.fromtimestamp(x)).round('H')).values\n",
    "flight_data['Date_hour_arr_sched'] = flight_data['flight_arrival_scheduled'].apply(lambda x: pd.to_datetime(datetime.fromtimestamp(x)).round('H')).values"
   ]
  },
  {
   "cell_type": "code",
   "execution_count": 27,
   "metadata": {
    "colab": {
     "base_uri": "https://localhost:8080/",
     "height": 654
    },
    "colab_type": "code",
    "id": "C7vlyWY0J01I",
    "outputId": "136e87e7-e099-442f-a499-83732cb8c798"
   },
   "outputs": [
    {
     "data": {
      "text/plain": [
       "mode                              0\n",
       "flight_number                     0\n",
       "callsign                          0\n",
       "aircraft_model_code               0\n",
       "aircraft_model_description        0\n",
       "aircraft_registration             0\n",
       "airline_name                      0\n",
       "airline_iata                      0\n",
       "airline_icao                      0\n",
       "flight_origin_code_iata           0\n",
       "flight_origin_code_icao           0\n",
       "flight_origin_name                0\n",
       "flight_origin_time_offset         0\n",
       "flight_destination_code_iata      0\n",
       "flight_destination_code_icao      0\n",
       "flight_destination_name           0\n",
       "flight_destination_time_offset    0\n",
       "flight_departure_scheduled        0\n",
       "flight_departure_real             0\n",
       "flight_arrival_scheduled          0\n",
       "flight_arrival_real               0\n",
       "Cancelations                      0\n",
       "Departure_delay                   0\n",
       "Arrival_delay                     0\n",
       "main_target                       0\n",
       "target_1step                      0\n",
       "target_2step                      0\n",
       "diff_arr_sched_dep_sched          0\n",
       "diff_dep_real_dep_sched           0\n",
       "diff_arr_sched_dep_real           0\n",
       "hour_dep_sched                    0\n",
       "hour_arr_sched                    0\n",
       "Date_hour_dep_sched               0\n",
       "Date_hour_arr_sched               0\n",
       "dtype: int64"
      ]
     },
     "execution_count": 27,
     "metadata": {},
     "output_type": "execute_result"
    }
   ],
   "source": [
    "np.sum(flight_data.isnull()*1)"
   ]
  },
  {
   "cell_type": "code",
   "execution_count": 28,
   "metadata": {
    "colab": {
     "base_uri": "https://localhost:8080/",
     "height": 322
    },
    "colab_type": "code",
    "id": "0-T4oemi1gHB",
    "outputId": "532433a7-d68b-45a0-b2be-a8a03cefd58a"
   },
   "outputs": [
    {
     "data": {
      "text/html": [
       "<div>\n",
       "<style scoped>\n",
       "    .dataframe tbody tr th:only-of-type {\n",
       "        vertical-align: middle;\n",
       "    }\n",
       "\n",
       "    .dataframe tbody tr th {\n",
       "        vertical-align: top;\n",
       "    }\n",
       "\n",
       "    .dataframe thead th {\n",
       "        text-align: right;\n",
       "    }\n",
       "</style>\n",
       "<table border=\"1\" class=\"dataframe\">\n",
       "  <thead>\n",
       "    <tr style=\"text-align: right;\">\n",
       "      <th></th>\n",
       "      <th>mode</th>\n",
       "      <th>flight_number</th>\n",
       "      <th>callsign</th>\n",
       "      <th>aircraft_model_code</th>\n",
       "      <th>aircraft_model_description</th>\n",
       "      <th>aircraft_registration</th>\n",
       "      <th>airline_name</th>\n",
       "      <th>airline_iata</th>\n",
       "      <th>airline_icao</th>\n",
       "      <th>flight_origin_code_iata</th>\n",
       "      <th>...</th>\n",
       "      <th>main_target</th>\n",
       "      <th>target_1step</th>\n",
       "      <th>target_2step</th>\n",
       "      <th>diff_arr_sched_dep_sched</th>\n",
       "      <th>diff_dep_real_dep_sched</th>\n",
       "      <th>diff_arr_sched_dep_real</th>\n",
       "      <th>hour_dep_sched</th>\n",
       "      <th>hour_arr_sched</th>\n",
       "      <th>Date_hour_dep_sched</th>\n",
       "      <th>Date_hour_arr_sched</th>\n",
       "    </tr>\n",
       "  </thead>\n",
       "  <tbody>\n",
       "    <tr>\n",
       "      <th>0</th>\n",
       "      <td>arrivals</td>\n",
       "      <td>AF475</td>\n",
       "      <td>AFR475</td>\n",
       "      <td>B789</td>\n",
       "      <td>Boeing 787-9 Dreamliner</td>\n",
       "      <td>F</td>\n",
       "      <td>Air France</td>\n",
       "      <td>AF</td>\n",
       "      <td>AFR</td>\n",
       "      <td>PTY</td>\n",
       "      <td>...</td>\n",
       "      <td>No delay No cancelation</td>\n",
       "      <td>No delay No cancelation</td>\n",
       "      <td>No arrival delay</td>\n",
       "      <td>37200</td>\n",
       "      <td>731</td>\n",
       "      <td>36469</td>\n",
       "      <td>21</td>\n",
       "      <td>7</td>\n",
       "      <td>2019-05-31 21:00:00</td>\n",
       "      <td>2019-06-01 07:00:00</td>\n",
       "    </tr>\n",
       "    <tr>\n",
       "      <th>1</th>\n",
       "      <td>arrivals</td>\n",
       "      <td>LH591</td>\n",
       "      <td>DLH591</td>\n",
       "      <td>A333</td>\n",
       "      <td>Airbus A330-343</td>\n",
       "      <td>D</td>\n",
       "      <td>Lufthansa</td>\n",
       "      <td>LH</td>\n",
       "      <td>DLH</td>\n",
       "      <td>NBO</td>\n",
       "      <td>...</td>\n",
       "      <td>Departure delay</td>\n",
       "      <td>Departure delay</td>\n",
       "      <td>No arrival delay</td>\n",
       "      <td>29700</td>\n",
       "      <td>970</td>\n",
       "      <td>28730</td>\n",
       "      <td>15</td>\n",
       "      <td>23</td>\n",
       "      <td>2019-05-19 15:00:00</td>\n",
       "      <td>2019-05-20 00:00:00</td>\n",
       "    </tr>\n",
       "    <tr>\n",
       "      <th>2</th>\n",
       "      <td>departures</td>\n",
       "      <td>U2895</td>\n",
       "      <td>EZY36JH</td>\n",
       "      <td>A319</td>\n",
       "      <td>Airbus A319-111</td>\n",
       "      <td>G</td>\n",
       "      <td>easyJet (UNICEF Livery)</td>\n",
       "      <td>U2</td>\n",
       "      <td>EZY</td>\n",
       "      <td>LGW</td>\n",
       "      <td>...</td>\n",
       "      <td>Departure delay</td>\n",
       "      <td>Departure delay</td>\n",
       "      <td>No arrival delay</td>\n",
       "      <td>3900</td>\n",
       "      <td>1840</td>\n",
       "      <td>2060</td>\n",
       "      <td>12</td>\n",
       "      <td>13</td>\n",
       "      <td>2019-06-04 12:00:00</td>\n",
       "      <td>2019-06-04 13:00:00</td>\n",
       "    </tr>\n",
       "    <tr>\n",
       "      <th>3</th>\n",
       "      <td>departures</td>\n",
       "      <td>OA354</td>\n",
       "      <td>OAL4SR</td>\n",
       "      <td>A320</td>\n",
       "      <td>Airbus A320-232</td>\n",
       "      <td>SX</td>\n",
       "      <td>Aegean Airlines</td>\n",
       "      <td>A3</td>\n",
       "      <td>AEE</td>\n",
       "      <td>ATH</td>\n",
       "      <td>...</td>\n",
       "      <td>Departure delay</td>\n",
       "      <td>Departure delay</td>\n",
       "      <td>No arrival delay</td>\n",
       "      <td>2700</td>\n",
       "      <td>1472</td>\n",
       "      <td>1228</td>\n",
       "      <td>3</td>\n",
       "      <td>3</td>\n",
       "      <td>2019-06-06 03:00:00</td>\n",
       "      <td>2019-06-06 04:00:00</td>\n",
       "    </tr>\n",
       "    <tr>\n",
       "      <th>4</th>\n",
       "      <td>arrivals</td>\n",
       "      <td>DL722</td>\n",
       "      <td>DAL722</td>\n",
       "      <td>B752</td>\n",
       "      <td>Boeing 757-232</td>\n",
       "      <td>NoData</td>\n",
       "      <td>Delta Air Lines</td>\n",
       "      <td>DL</td>\n",
       "      <td>DAL</td>\n",
       "      <td>AUA</td>\n",
       "      <td>...</td>\n",
       "      <td>No delay No cancelation</td>\n",
       "      <td>No delay No cancelation</td>\n",
       "      <td>No arrival delay</td>\n",
       "      <td>16052</td>\n",
       "      <td>386</td>\n",
       "      <td>15666</td>\n",
       "      <td>14</td>\n",
       "      <td>18</td>\n",
       "      <td>2019-05-21 14:00:00</td>\n",
       "      <td>2019-05-21 19:00:00</td>\n",
       "    </tr>\n",
       "  </tbody>\n",
       "</table>\n",
       "<p>5 rows × 34 columns</p>\n",
       "</div>"
      ],
      "text/plain": [
       "         mode flight_number callsign aircraft_model_code  \\\n",
       "0    arrivals         AF475   AFR475                B789   \n",
       "1    arrivals         LH591   DLH591                A333   \n",
       "2  departures         U2895  EZY36JH                A319   \n",
       "3  departures         OA354   OAL4SR                A320   \n",
       "4    arrivals         DL722   DAL722                B752   \n",
       "\n",
       "  aircraft_model_description aircraft_registration             airline_name  \\\n",
       "0    Boeing 787-9 Dreamliner                     F               Air France   \n",
       "1            Airbus A330-343                     D                Lufthansa   \n",
       "2            Airbus A319-111                     G  easyJet (UNICEF Livery)   \n",
       "3            Airbus A320-232                    SX          Aegean Airlines   \n",
       "4             Boeing 757-232                NoData          Delta Air Lines   \n",
       "\n",
       "  airline_iata airline_icao flight_origin_code_iata  ...  \\\n",
       "0           AF          AFR                     PTY  ...   \n",
       "1           LH          DLH                     NBO  ...   \n",
       "2           U2          EZY                     LGW  ...   \n",
       "3           A3          AEE                     ATH  ...   \n",
       "4           DL          DAL                     AUA  ...   \n",
       "\n",
       "               main_target             target_1step      target_2step  \\\n",
       "0  No delay No cancelation  No delay No cancelation  No arrival delay   \n",
       "1          Departure delay          Departure delay  No arrival delay   \n",
       "2          Departure delay          Departure delay  No arrival delay   \n",
       "3          Departure delay          Departure delay  No arrival delay   \n",
       "4  No delay No cancelation  No delay No cancelation  No arrival delay   \n",
       "\n",
       "  diff_arr_sched_dep_sched diff_dep_real_dep_sched diff_arr_sched_dep_real  \\\n",
       "0                    37200                     731                   36469   \n",
       "1                    29700                     970                   28730   \n",
       "2                     3900                    1840                    2060   \n",
       "3                     2700                    1472                    1228   \n",
       "4                    16052                     386                   15666   \n",
       "\n",
       "   hour_dep_sched  hour_arr_sched  Date_hour_dep_sched  Date_hour_arr_sched  \n",
       "0              21               7  2019-05-31 21:00:00  2019-06-01 07:00:00  \n",
       "1              15              23  2019-05-19 15:00:00  2019-05-20 00:00:00  \n",
       "2              12              13  2019-06-04 12:00:00  2019-06-04 13:00:00  \n",
       "3               3               3  2019-06-06 03:00:00  2019-06-06 04:00:00  \n",
       "4              14              18  2019-05-21 14:00:00  2019-05-21 19:00:00  \n",
       "\n",
       "[5 rows x 34 columns]"
      ]
     },
     "execution_count": 28,
     "metadata": {},
     "output_type": "execute_result"
    }
   ],
   "source": [
    "flight_data.head()"
   ]
  },
  {
   "cell_type": "markdown",
   "metadata": {
    "colab_type": "text",
    "id": "rqLnT9jmU369"
   },
   "source": [
    "# Fill NaN of new **features**"
   ]
  },
  {
   "cell_type": "code",
   "execution_count": 29,
   "metadata": {
    "colab": {},
    "colab_type": "code",
    "id": "LcVuXoQPVAcz"
   },
   "outputs": [],
   "source": [
    "# Replace NaN with high number\n",
    "flight_data['diff_dep_real_dep_sched'].fillna(9999999, inplace=True)\n",
    "flight_data['diff_arr_sched_dep_real'].fillna(9999999, inplace=True)"
   ]
  },
  {
   "cell_type": "code",
   "execution_count": 30,
   "metadata": {
    "colab": {},
    "colab_type": "code",
    "id": "bwbpQCe2t7LR"
   },
   "outputs": [],
   "source": [
    "def get_hour(x):\n",
    "    if x>0:\n",
    "        return datetime.fromtimestamp(x).hour"
   ]
  },
  {
   "cell_type": "code",
   "execution_count": 31,
   "metadata": {
    "colab": {},
    "colab_type": "code",
    "id": "whPRncT5U7KL"
   },
   "outputs": [],
   "source": [
    "flight_data['flight_departure_real'].fillna(0, inplace=True) # Not sure of the impact of filling these NaN to 0 instead of something else\n",
    "flight_data['flight_arrival_real'].fillna(0, inplace=True) \n",
    "flight_data['hour_dep_real'] = flight_data['flight_departure_real'].apply(get_hour) # New feature! Hour of the day of departure real. But needed to fill NaN to construct it"
   ]
  },
  {
   "cell_type": "code",
   "execution_count": 32,
   "metadata": {
    "colab": {
     "base_uri": "https://localhost:8080/",
     "height": 672
    },
    "colab_type": "code",
    "id": "utMMED7kbSUo",
    "outputId": "c693fb94-cb4f-485f-a092-8cce5fe0f507"
   },
   "outputs": [
    {
     "data": {
      "text/plain": [
       "mode                                  0\n",
       "flight_number                         0\n",
       "callsign                              0\n",
       "aircraft_model_code                   0\n",
       "aircraft_model_description            0\n",
       "aircraft_registration                 0\n",
       "airline_name                          0\n",
       "airline_iata                          0\n",
       "airline_icao                          0\n",
       "flight_origin_code_iata               0\n",
       "flight_origin_code_icao               0\n",
       "flight_origin_name                    0\n",
       "flight_origin_time_offset             0\n",
       "flight_destination_code_iata          0\n",
       "flight_destination_code_icao          0\n",
       "flight_destination_name               0\n",
       "flight_destination_time_offset        0\n",
       "flight_departure_scheduled            0\n",
       "flight_departure_real                 0\n",
       "flight_arrival_scheduled              0\n",
       "flight_arrival_real                   0\n",
       "Cancelations                          0\n",
       "Departure_delay                       0\n",
       "Arrival_delay                         0\n",
       "main_target                           0\n",
       "target_1step                          0\n",
       "target_2step                          0\n",
       "diff_arr_sched_dep_sched              0\n",
       "diff_dep_real_dep_sched               0\n",
       "diff_arr_sched_dep_real               0\n",
       "hour_dep_sched                        0\n",
       "hour_arr_sched                        0\n",
       "Date_hour_dep_sched                   0\n",
       "Date_hour_arr_sched                   0\n",
       "hour_dep_real                     12733\n",
       "dtype: int64"
      ]
     },
     "execution_count": 32,
     "metadata": {},
     "output_type": "execute_result"
    }
   ],
   "source": [
    "np.sum(flight_data.isnull()*1)"
   ]
  },
  {
   "cell_type": "code",
   "execution_count": 33,
   "metadata": {
    "colab": {
     "base_uri": "https://localhost:8080/",
     "height": 1000
    },
    "colab_type": "code",
    "id": "otW57gf1t7LX",
    "outputId": "277f7f1b-5f92-413e-f748-66f77c4ca560"
   },
   "outputs": [
    {
     "data": {
      "text/plain": [
       "A320    43405\n",
       "B738    40319\n",
       "A321    21699\n",
       "A319    21125\n",
       "E75L     9378\n",
       "        ...  \n",
       "77L         1\n",
       "SR20        1\n",
       "753         1\n",
       "100         1\n",
       "TBM9        1\n",
       "Name: aircraft_model_code, Length: 295, dtype: int64"
      ]
     },
     "execution_count": 33,
     "metadata": {},
     "output_type": "execute_result"
    }
   ],
   "source": [
    "flight_data['aircraft_model_code'].value_counts()"
   ]
  },
  {
   "cell_type": "markdown",
   "metadata": {
    "colab_type": "text",
    "id": "2tGJa95F1qfM"
   },
   "source": [
    "# Feature **engineering**"
   ]
  },
  {
   "cell_type": "code",
   "execution_count": 34,
   "metadata": {
    "colab": {},
    "colab_type": "code",
    "id": "2ywmUC3q1tIT"
   },
   "outputs": [],
   "source": [
    "# Change least frequent categories to 'Others'\n",
    "# All categories with value counts < 100 are changed to others (This is totally arbitrary, can and should be changed either on a per case basis on percentage basis)\n",
    "threshold = 300\n",
    "\n",
    "models_counts = flight_data['aircraft_model_code'].value_counts()\n",
    "flight_data['aircraft_model_code'] = flight_data['aircraft_model_code'].replace(list(models_counts[models_counts < threshold].index), 'Others')\n",
    "\n",
    "models_counts = flight_data['aircraft_model_description'].value_counts()\n",
    "flight_data['aircraft_model_description'] = flight_data['aircraft_model_description'].replace(list(models_counts[models_counts < threshold].index), 'Others')\n",
    "\n",
    "models_counts = flight_data['aircraft_registration'].value_counts()\n",
    "flight_data['aircraft_registration'] = flight_data['aircraft_registration'].replace(list(models_counts[models_counts < threshold].index), 'Others')\n",
    "\n",
    "models_counts = flight_data['airline_name'].value_counts()\n",
    "flight_data['airline_name'] = flight_data['airline_name'].replace(list(models_counts[models_counts < threshold].index), 'Others')\n",
    "\n",
    "models_counts = flight_data['flight_origin_code_icao'].value_counts()\n",
    "flight_data['flight_origin_code_icao'] = flight_data['flight_origin_code_icao'].replace(list(models_counts[models_counts < threshold].index), 'Others')\n",
    "\n",
    "models_counts = flight_data['flight_destination_code_icao'].value_counts()\n",
    "flight_data['flight_destination_code_icao'] = flight_data['flight_destination_code_icao'].replace(list(models_counts[models_counts < threshold].index), 'Others')"
   ]
  },
  {
   "cell_type": "code",
   "execution_count": 35,
   "metadata": {
    "colab": {},
    "colab_type": "code",
    "id": "vAggZv3td6dc"
   },
   "outputs": [],
   "source": [
    "#models_counts #/ models_counts.sum()"
   ]
  },
  {
   "cell_type": "markdown",
   "metadata": {
    "colab_type": "text",
    "id": "yrWY_UskJU_u"
   },
   "source": [
    "# **Import and clean weather data**"
   ]
  },
  {
   "cell_type": "markdown",
   "metadata": {
    "colab_type": "text",
    "id": "FvDm14eKJanu"
   },
   "source": [
    "Did not get the time to approprietly join the weather data with the flights data"
   ]
  },
  {
   "cell_type": "code",
   "execution_count": 36,
   "metadata": {
    "colab": {
     "base_uri": "https://localhost:8080/",
     "height": 198
    },
    "colab_type": "code",
    "id": "9hjxXQ6q3vh2",
    "outputId": "9bc343e1-4d80-4442-a9ca-0384ae08f2d1"
   },
   "outputs": [
    {
     "data": {
      "text/html": [
       "<div>\n",
       "<style scoped>\n",
       "    .dataframe tbody tr th:only-of-type {\n",
       "        vertical-align: middle;\n",
       "    }\n",
       "\n",
       "    .dataframe tbody tr th {\n",
       "        vertical-align: top;\n",
       "    }\n",
       "\n",
       "    .dataframe thead th {\n",
       "        text-align: right;\n",
       "    }\n",
       "</style>\n",
       "<table border=\"1\" class=\"dataframe\">\n",
       "  <thead>\n",
       "    <tr style=\"text-align: right;\">\n",
       "      <th></th>\n",
       "      <th>AIRPORT_IATA</th>\n",
       "      <th>AIRPORT_ICAO</th>\n",
       "      <th>UTC DATE/TIME</th>\n",
       "      <th>METAR</th>\n",
       "      <th>DESCRIPTION</th>\n",
       "    </tr>\n",
       "  </thead>\n",
       "  <tbody>\n",
       "    <tr>\n",
       "      <th>0</th>\n",
       "      <td>LHR</td>\n",
       "      <td>EGLL</td>\n",
       "      <td>2019-05-18 23:50:00</td>\n",
       "      <td>EGLL 182350Z AUTO 01003KT 9999 NCD 11/09 Q1009...</td>\n",
       "      <td>Day: 18th Time: 23:50 UTC Wind direction: 10 W...</td>\n",
       "    </tr>\n",
       "    <tr>\n",
       "      <th>1</th>\n",
       "      <td>LHR</td>\n",
       "      <td>EGLL</td>\n",
       "      <td>2019-05-18 23:20:00</td>\n",
       "      <td>EGLL 182320Z AUTO 02002KT 9999 NCD 10/08 Q1009...</td>\n",
       "      <td>Day: 18th Time: 23:20 UTC Wind direction: 20 W...</td>\n",
       "    </tr>\n",
       "    <tr>\n",
       "      <th>2</th>\n",
       "      <td>LHR</td>\n",
       "      <td>EGLL</td>\n",
       "      <td>2019-05-18 22:50:00</td>\n",
       "      <td>EGLL 182250Z AUTO 04002KT 9999 NCD 12/09 Q1009...</td>\n",
       "      <td>Day: 18th Time: 22:50 UTC Wind direction: 40 W...</td>\n",
       "    </tr>\n",
       "    <tr>\n",
       "      <th>3</th>\n",
       "      <td>LHR</td>\n",
       "      <td>EGLL</td>\n",
       "      <td>2019-05-18 22:20:00</td>\n",
       "      <td>EGLL 182220Z AUTO 06002KT 9999 NCD 12/09 Q1008</td>\n",
       "      <td>Day: 18th Time: 22:20 UTC Wind direction: 60 W...</td>\n",
       "    </tr>\n",
       "    <tr>\n",
       "      <th>4</th>\n",
       "      <td>LHR</td>\n",
       "      <td>EGLL</td>\n",
       "      <td>2019-05-18 21:50:00</td>\n",
       "      <td>EGLL 182150Z AUTO VRB02KT 9999 NCD 13/09 Q1008...</td>\n",
       "      <td>Day: 18th Time: 21:50 UTC Wind speed: 2kt Temp...</td>\n",
       "    </tr>\n",
       "  </tbody>\n",
       "</table>\n",
       "</div>"
      ],
      "text/plain": [
       "  AIRPORT_IATA AIRPORT_ICAO        UTC DATE/TIME  \\\n",
       "0          LHR         EGLL  2019-05-18 23:50:00   \n",
       "1          LHR         EGLL  2019-05-18 23:20:00   \n",
       "2          LHR         EGLL  2019-05-18 22:50:00   \n",
       "3          LHR         EGLL  2019-05-18 22:20:00   \n",
       "4          LHR         EGLL  2019-05-18 21:50:00   \n",
       "\n",
       "                                               METAR  \\\n",
       "0  EGLL 182350Z AUTO 01003KT 9999 NCD 11/09 Q1009...   \n",
       "1  EGLL 182320Z AUTO 02002KT 9999 NCD 10/08 Q1009...   \n",
       "2  EGLL 182250Z AUTO 04002KT 9999 NCD 12/09 Q1009...   \n",
       "3     EGLL 182220Z AUTO 06002KT 9999 NCD 12/09 Q1008   \n",
       "4  EGLL 182150Z AUTO VRB02KT 9999 NCD 13/09 Q1008...   \n",
       "\n",
       "                                         DESCRIPTION  \n",
       "0  Day: 18th Time: 23:50 UTC Wind direction: 10 W...  \n",
       "1  Day: 18th Time: 23:20 UTC Wind direction: 20 W...  \n",
       "2  Day: 18th Time: 22:50 UTC Wind direction: 40 W...  \n",
       "3  Day: 18th Time: 22:20 UTC Wind direction: 60 W...  \n",
       "4  Day: 18th Time: 21:50 UTC Wind speed: 2kt Temp...  "
      ]
     },
     "execution_count": 36,
     "metadata": {},
     "output_type": "execute_result"
    }
   ],
   "source": [
    "metar_df = pd.read_csv('METAR_all_airports.csv')\n",
    "#metar_df = pd.read_csv('Metar.txt')\n",
    "metar_df.head()"
   ]
  },
  {
   "cell_type": "code",
   "execution_count": 37,
   "metadata": {
    "colab": {
     "base_uri": "https://localhost:8080/",
     "height": 55
    },
    "colab_type": "code",
    "id": "8XUVt2XAXvxk",
    "outputId": "56fcfa83-6194-4c81-f3d7-6867deca0a4c"
   },
   "outputs": [
    {
     "data": {
      "text/plain": [
       "'Day: 18th Time: 16:51 UTC Wind direction: 330 Wind speed: 7kt Wind gust: 15kt Temperature: 23C Dew point: 2C Pressure: 29.99 inHg Visibility: 10 SM'"
      ]
     },
     "execution_count": 37,
     "metadata": {},
     "output_type": "execute_result"
    }
   ],
   "source": [
    "metar_df['DESCRIPTION'].iloc[555]"
   ]
  },
  {
   "cell_type": "code",
   "execution_count": 38,
   "metadata": {
    "colab": {
     "base_uri": "https://localhost:8080/",
     "height": 199
    },
    "colab_type": "code",
    "id": "5Ng-xOedOTya",
    "outputId": "a20f3a1c-8356-4668-ecac-71e112c81a97"
   },
   "outputs": [
    {
     "name": "stdout",
     "output_type": "stream",
     "text": [
      "<class 'pandas.core.frame.DataFrame'>\n",
      "RangeIndex: 13477 entries, 0 to 13476\n",
      "Data columns (total 5 columns):\n",
      "AIRPORT_IATA     13477 non-null object\n",
      "AIRPORT_ICAO     13477 non-null object\n",
      "UTC DATE/TIME    13477 non-null object\n",
      "METAR            13477 non-null object\n",
      "DESCRIPTION      13477 non-null object\n",
      "dtypes: object(5)\n",
      "memory usage: 526.6+ KB\n"
     ]
    }
   ],
   "source": [
    "metar_df.info()"
   ]
  },
  {
   "cell_type": "code",
   "execution_count": 39,
   "metadata": {
    "colab": {},
    "colab_type": "code",
    "id": "zCRUDQO2JUMH"
   },
   "outputs": [],
   "source": [
    "# Weather parsing (From Nahu)\n",
    "metar_df1 = metar_df['METAR'].str.split(n=9, expand=True)\n",
    "metar_df1.columns = ['METAR{}'.format(x) for x in metar_df1.columns]\n",
    "metar_df2 = metar_df.join(metar_df1)\n",
    "metar_df2['Dew point']=metar_df2.DESCRIPTION.str.extract(r'(Dew point: \\d+)').loc[:,0].str.replace('Dew point:', \"\")\n",
    "metar_df2['Wind direction']=metar_df2.DESCRIPTION.str.extract(r'(Wind direction: \\d+)').loc[:,0].str.replace('Wind direction:', \"\")\n",
    "metar_df2['Wind speed']=metar_df2.DESCRIPTION.str.extract(r'(Wind speed: \\d+)').loc[:,0].str.replace('Wind speed:', \"\")\n",
    "metar_df2['Pressure']=metar_df2.DESCRIPTION.str.extract(r'(Pressure: \\d+)').loc[:,0].str.replace('Pressure:', \"\")\n",
    "metar_df2['Visibility']=metar_df2.DESCRIPTION.str.extract(r'(Visibility: \\d+)').loc[:,0].str.replace('Visibility:', \"\")\n",
    "metar_df2['Temperature']=metar_df2.DESCRIPTION.str.extract(r'(Temperature: \\d+)').loc[:,0].str.replace('Temperature:', \"\")\n",
    "metar_df2.drop(['METAR', 'DESCRIPTION'], axis=1, inplace=True)"
   ]
  },
  {
   "cell_type": "code",
   "execution_count": 40,
   "metadata": {
    "colab": {},
    "colab_type": "code",
    "id": "XfT9RjUjJnS_"
   },
   "outputs": [],
   "source": [
    "metar_df2['UTC DATE/TIME'] = pd.to_datetime(metar_df2['UTC DATE/TIME'])\n",
    "metar_df2['Date_hour'] = metar_df2['UTC DATE/TIME'].dt.round('H')       # Column to join flight data on (with airport ICAO)\n",
    "metar_df2.drop(['UTC DATE/TIME', 'AIRPORT_IATA'], axis=1, inplace=True)\n",
    "metar_df2['Dew point'] = pd.to_numeric(metar_df2['Dew point'])\n",
    "metar_df2['Wind direction'] = pd.to_numeric(metar_df2['Wind direction'])\n",
    "metar_df2['Wind speed'] = pd.to_numeric(metar_df2['Wind speed'])\n",
    "metar_df2['Pressure'] = pd.to_numeric(metar_df2['Pressure'])\n",
    "metar_df2['Visibility'] = pd.to_numeric(metar_df2['Visibility'])\n",
    "metar_df2['Temperature'] = pd.to_numeric(metar_df2['Temperature'])"
   ]
  },
  {
   "cell_type": "code",
   "execution_count": 41,
   "metadata": {
    "colab": {},
    "colab_type": "code",
    "id": "Uhlf4Df0cWxy"
   },
   "outputs": [],
   "source": [
    "# Fill NaN of categorical variables\n",
    "for column in list(metar_df2.select_dtypes('object').columns):\n",
    "    metar_df2[column].fillna('NoData', inplace=True)"
   ]
  },
  {
   "cell_type": "code",
   "execution_count": 42,
   "metadata": {
    "colab": {
     "base_uri": "https://localhost:8080/",
     "height": 198
    },
    "colab_type": "code",
    "id": "Ty0pzGzgJyh-",
    "outputId": "9ac6c679-b391-41b9-c4a1-2837fa5bfb7e"
   },
   "outputs": [
    {
     "data": {
      "text/html": [
       "<div>\n",
       "<style scoped>\n",
       "    .dataframe tbody tr th:only-of-type {\n",
       "        vertical-align: middle;\n",
       "    }\n",
       "\n",
       "    .dataframe tbody tr th {\n",
       "        vertical-align: top;\n",
       "    }\n",
       "\n",
       "    .dataframe thead th {\n",
       "        text-align: right;\n",
       "    }\n",
       "</style>\n",
       "<table border=\"1\" class=\"dataframe\">\n",
       "  <thead>\n",
       "    <tr style=\"text-align: right;\">\n",
       "      <th></th>\n",
       "      <th>AIRPORT_ICAO</th>\n",
       "      <th>METAR0</th>\n",
       "      <th>METAR1</th>\n",
       "      <th>METAR2</th>\n",
       "      <th>METAR3</th>\n",
       "      <th>METAR4</th>\n",
       "      <th>METAR5</th>\n",
       "      <th>METAR6</th>\n",
       "      <th>METAR7</th>\n",
       "      <th>METAR8</th>\n",
       "      <th>METAR9</th>\n",
       "      <th>Dew point</th>\n",
       "      <th>Wind direction</th>\n",
       "      <th>Wind speed</th>\n",
       "      <th>Pressure</th>\n",
       "      <th>Visibility</th>\n",
       "      <th>Temperature</th>\n",
       "      <th>Date_hour</th>\n",
       "    </tr>\n",
       "  </thead>\n",
       "  <tbody>\n",
       "    <tr>\n",
       "      <th>0</th>\n",
       "      <td>EGLL</td>\n",
       "      <td>EGLL</td>\n",
       "      <td>182350Z</td>\n",
       "      <td>AUTO</td>\n",
       "      <td>01003KT</td>\n",
       "      <td>9999</td>\n",
       "      <td>NCD</td>\n",
       "      <td>11/09</td>\n",
       "      <td>Q1009</td>\n",
       "      <td>NOSIG</td>\n",
       "      <td>NoData</td>\n",
       "      <td>9.0</td>\n",
       "      <td>10.0</td>\n",
       "      <td>3.0</td>\n",
       "      <td>1009.0</td>\n",
       "      <td>9999.0</td>\n",
       "      <td>11.0</td>\n",
       "      <td>2019-05-19 00:00:00</td>\n",
       "    </tr>\n",
       "    <tr>\n",
       "      <th>1</th>\n",
       "      <td>EGLL</td>\n",
       "      <td>EGLL</td>\n",
       "      <td>182320Z</td>\n",
       "      <td>AUTO</td>\n",
       "      <td>02002KT</td>\n",
       "      <td>9999</td>\n",
       "      <td>NCD</td>\n",
       "      <td>10/08</td>\n",
       "      <td>Q1009</td>\n",
       "      <td>NOSIG</td>\n",
       "      <td>NoData</td>\n",
       "      <td>8.0</td>\n",
       "      <td>20.0</td>\n",
       "      <td>2.0</td>\n",
       "      <td>1009.0</td>\n",
       "      <td>9999.0</td>\n",
       "      <td>10.0</td>\n",
       "      <td>2019-05-18 23:00:00</td>\n",
       "    </tr>\n",
       "    <tr>\n",
       "      <th>2</th>\n",
       "      <td>EGLL</td>\n",
       "      <td>EGLL</td>\n",
       "      <td>182250Z</td>\n",
       "      <td>AUTO</td>\n",
       "      <td>04002KT</td>\n",
       "      <td>9999</td>\n",
       "      <td>NCD</td>\n",
       "      <td>12/09</td>\n",
       "      <td>Q1009</td>\n",
       "      <td>NOSIG</td>\n",
       "      <td>NoData</td>\n",
       "      <td>9.0</td>\n",
       "      <td>40.0</td>\n",
       "      <td>2.0</td>\n",
       "      <td>1009.0</td>\n",
       "      <td>9999.0</td>\n",
       "      <td>12.0</td>\n",
       "      <td>2019-05-18 23:00:00</td>\n",
       "    </tr>\n",
       "    <tr>\n",
       "      <th>3</th>\n",
       "      <td>EGLL</td>\n",
       "      <td>EGLL</td>\n",
       "      <td>182220Z</td>\n",
       "      <td>AUTO</td>\n",
       "      <td>06002KT</td>\n",
       "      <td>9999</td>\n",
       "      <td>NCD</td>\n",
       "      <td>12/09</td>\n",
       "      <td>Q1008</td>\n",
       "      <td>NoData</td>\n",
       "      <td>NoData</td>\n",
       "      <td>9.0</td>\n",
       "      <td>60.0</td>\n",
       "      <td>2.0</td>\n",
       "      <td>1008.0</td>\n",
       "      <td>9999.0</td>\n",
       "      <td>12.0</td>\n",
       "      <td>2019-05-18 22:00:00</td>\n",
       "    </tr>\n",
       "    <tr>\n",
       "      <th>4</th>\n",
       "      <td>EGLL</td>\n",
       "      <td>EGLL</td>\n",
       "      <td>182150Z</td>\n",
       "      <td>AUTO</td>\n",
       "      <td>VRB02KT</td>\n",
       "      <td>9999</td>\n",
       "      <td>NCD</td>\n",
       "      <td>13/09</td>\n",
       "      <td>Q1008</td>\n",
       "      <td>NOSIG</td>\n",
       "      <td>NoData</td>\n",
       "      <td>9.0</td>\n",
       "      <td>NaN</td>\n",
       "      <td>2.0</td>\n",
       "      <td>1008.0</td>\n",
       "      <td>9999.0</td>\n",
       "      <td>13.0</td>\n",
       "      <td>2019-05-18 22:00:00</td>\n",
       "    </tr>\n",
       "  </tbody>\n",
       "</table>\n",
       "</div>"
      ],
      "text/plain": [
       "  AIRPORT_ICAO METAR0   METAR1 METAR2   METAR3 METAR4 METAR5 METAR6 METAR7  \\\n",
       "0         EGLL   EGLL  182350Z   AUTO  01003KT   9999    NCD  11/09  Q1009   \n",
       "1         EGLL   EGLL  182320Z   AUTO  02002KT   9999    NCD  10/08  Q1009   \n",
       "2         EGLL   EGLL  182250Z   AUTO  04002KT   9999    NCD  12/09  Q1009   \n",
       "3         EGLL   EGLL  182220Z   AUTO  06002KT   9999    NCD  12/09  Q1008   \n",
       "4         EGLL   EGLL  182150Z   AUTO  VRB02KT   9999    NCD  13/09  Q1008   \n",
       "\n",
       "   METAR8  METAR9  Dew point  Wind direction  Wind speed  Pressure  \\\n",
       "0   NOSIG  NoData        9.0            10.0         3.0    1009.0   \n",
       "1   NOSIG  NoData        8.0            20.0         2.0    1009.0   \n",
       "2   NOSIG  NoData        9.0            40.0         2.0    1009.0   \n",
       "3  NoData  NoData        9.0            60.0         2.0    1008.0   \n",
       "4   NOSIG  NoData        9.0             NaN         2.0    1008.0   \n",
       "\n",
       "   Visibility  Temperature           Date_hour  \n",
       "0      9999.0         11.0 2019-05-19 00:00:00  \n",
       "1      9999.0         10.0 2019-05-18 23:00:00  \n",
       "2      9999.0         12.0 2019-05-18 23:00:00  \n",
       "3      9999.0         12.0 2019-05-18 22:00:00  \n",
       "4      9999.0         13.0 2019-05-18 22:00:00  "
      ]
     },
     "execution_count": 42,
     "metadata": {},
     "output_type": "execute_result"
    }
   ],
   "source": [
    "metar_df2.head()"
   ]
  },
  {
   "cell_type": "code",
   "execution_count": 43,
   "metadata": {
    "colab": {
     "base_uri": "https://localhost:8080/",
     "height": 363
    },
    "colab_type": "code",
    "id": "awsnGYEao-Xk",
    "outputId": "90c067af-683c-4e78-ce08-bb940e32b6b2"
   },
   "outputs": [
    {
     "data": {
      "text/plain": [
       "AIRPORT_ICAO         0\n",
       "METAR0               0\n",
       "METAR1               0\n",
       "METAR2               0\n",
       "METAR3               0\n",
       "METAR4               0\n",
       "METAR5               0\n",
       "METAR6               0\n",
       "METAR7               0\n",
       "METAR8               0\n",
       "METAR9               0\n",
       "Dew point          161\n",
       "Wind direction    1393\n",
       "Wind speed           4\n",
       "Pressure            91\n",
       "Visibility        3521\n",
       "Temperature         91\n",
       "Date_hour            0\n",
       "dtype: int64"
      ]
     },
     "execution_count": 43,
     "metadata": {},
     "output_type": "execute_result"
    }
   ],
   "source": [
    "np.sum(metar_df2.isnull()*1)"
   ]
  },
  {
   "cell_type": "code",
   "execution_count": 44,
   "metadata": {
    "colab": {
     "base_uri": "https://localhost:8080/",
     "height": 55
    },
    "colab_type": "code",
    "id": "mkPu33RbiC-r",
    "outputId": "f38d8ea3-faee-4b96-9485-4342245b62dd"
   },
   "outputs": [
    {
     "data": {
      "text/plain": [
       "\"\\nmodels_counts = metar_df2['METAR0'].value_counts()\\n\\nmetar_df2['METAR1'] = metar_df2['METAR1'].replace(list(models_counts[models_counts < 4].index), 'Others')\\n\\nmodels_counts = metar_df2['METAR2'].value_counts()\\nmetar_df2['METAR2'] = metar_df2['METAR2'].replace(list(models_counts[models_counts < 4].index), 'Others')\\n\\nmodels_counts = metar_df2['METAR3'].value_counts()\\nmetar_df2['METAR3'] = metar_df2['METAR3'].replace(list(models_counts[models_counts < 4].index), 'Others')\\n\\nmodels_counts = metar_df2['METAR4'].value_counts()\\nmetar_df2['METAR4'] = metar_df2['METAR4'].replace(list(models_counts[models_counts < 4].index), 'Others')\\n\\nmodels_counts = metar_df2['METAR5'].value_counts()\\nmetar_df2['METAR5'] = metar_df2['METAR5'].replace(list(models_counts[models_counts < 4].index), 'Others')\\n\\nmodels_counts = metar_df2['METAR6'].value_counts()\\nmetar_df2['METAR6'] = metar_df2['METAR6'].replace(list(models_counts[models_counts < 4].index), 'Others')\\n\\nmodels_counts = metar_df2['METAR7'].value_counts()\\nmetar_df2['METAR7'] = metar_df2['METAR7'].replace(list(models_counts[models_counts < 4].index), 'Others')\\n\\nmodels_counts = metar_df2['METAR8'].value_counts()\\nmetar_df2['METAR8'] = metar_df2['METAR8'].replace(list(models_counts[models_counts < 4].index), 'Others')\\n\""
      ]
     },
     "execution_count": 44,
     "metadata": {},
     "output_type": "execute_result"
    }
   ],
   "source": [
    "# Change least frequent categories to 'Others'\n",
    "# All categories with value counts < 100 are changed to others (This is totally arbitrary, can and should be changed either on a per case basis on percentage basis)\n",
    "'''\n",
    "models_counts = metar_df2['METAR0'].value_counts()\n",
    "\n",
    "metar_df2['METAR1'] = metar_df2['METAR1'].replace(list(models_counts[models_counts < 4].index), 'Others')\n",
    "\n",
    "models_counts = metar_df2['METAR2'].value_counts()\n",
    "metar_df2['METAR2'] = metar_df2['METAR2'].replace(list(models_counts[models_counts < 4].index), 'Others')\n",
    "\n",
    "models_counts = metar_df2['METAR3'].value_counts()\n",
    "metar_df2['METAR3'] = metar_df2['METAR3'].replace(list(models_counts[models_counts < 4].index), 'Others')\n",
    "\n",
    "models_counts = metar_df2['METAR4'].value_counts()\n",
    "metar_df2['METAR4'] = metar_df2['METAR4'].replace(list(models_counts[models_counts < 4].index), 'Others')\n",
    "\n",
    "models_counts = metar_df2['METAR5'].value_counts()\n",
    "metar_df2['METAR5'] = metar_df2['METAR5'].replace(list(models_counts[models_counts < 4].index), 'Others')\n",
    "\n",
    "models_counts = metar_df2['METAR6'].value_counts()\n",
    "metar_df2['METAR6'] = metar_df2['METAR6'].replace(list(models_counts[models_counts < 4].index), 'Others')\n",
    "\n",
    "models_counts = metar_df2['METAR7'].value_counts()\n",
    "metar_df2['METAR7'] = metar_df2['METAR7'].replace(list(models_counts[models_counts < 4].index), 'Others')\n",
    "\n",
    "models_counts = metar_df2['METAR8'].value_counts()\n",
    "metar_df2['METAR8'] = metar_df2['METAR8'].replace(list(models_counts[models_counts < 4].index), 'Others')\n",
    "'''"
   ]
  },
  {
   "cell_type": "code",
   "execution_count": 45,
   "metadata": {
    "colab": {},
    "colab_type": "code",
    "id": "FfxApnS-iHPB"
   },
   "outputs": [],
   "source": [
    "#models_counts #/ models_counts.sum()"
   ]
  },
  {
   "cell_type": "code",
   "execution_count": 46,
   "metadata": {
    "colab": {},
    "colab_type": "code",
    "id": "zbdOdrM4iHZK"
   },
   "outputs": [],
   "source": [
    "metar_df2.drop(['METAR0','METAR1','METAR2','METAR3','METAR4','METAR5','METAR6','METAR7','METAR8'], axis=1, inplace=True)\n",
    "metar_df2.drop(['METAR9'], axis=1, inplace=True)"
   ]
  },
  {
   "cell_type": "code",
   "execution_count": 47,
   "metadata": {
    "colab": {
     "base_uri": "https://localhost:8080/",
     "height": 228
    },
    "colab_type": "code",
    "id": "55PvoLY9JzPX",
    "outputId": "f4224c49-c619-4409-d790-274e810e0db4"
   },
   "outputs": [
    {
     "data": {
      "text/html": [
       "<div>\n",
       "<style scoped>\n",
       "    .dataframe tbody tr th:only-of-type {\n",
       "        vertical-align: middle;\n",
       "    }\n",
       "\n",
       "    .dataframe tbody tr th {\n",
       "        vertical-align: top;\n",
       "    }\n",
       "\n",
       "    .dataframe thead th {\n",
       "        text-align: right;\n",
       "    }\n",
       "</style>\n",
       "<table border=\"1\" class=\"dataframe\">\n",
       "  <thead>\n",
       "    <tr style=\"text-align: right;\">\n",
       "      <th></th>\n",
       "      <th></th>\n",
       "      <th>Dew point</th>\n",
       "      <th>Wind direction</th>\n",
       "      <th>Wind speed</th>\n",
       "      <th>Pressure</th>\n",
       "      <th>Visibility</th>\n",
       "      <th>Temperature</th>\n",
       "    </tr>\n",
       "    <tr>\n",
       "      <th>AIRPORT_ICAO</th>\n",
       "      <th>Date_hour</th>\n",
       "      <th></th>\n",
       "      <th></th>\n",
       "      <th></th>\n",
       "      <th></th>\n",
       "      <th></th>\n",
       "      <th></th>\n",
       "    </tr>\n",
       "  </thead>\n",
       "  <tbody>\n",
       "    <tr>\n",
       "      <th rowspan=\"5\" valign=\"top\">EDDF</th>\n",
       "      <th>2019-05-18 00:00:00</th>\n",
       "      <td>8.0</td>\n",
       "      <td>60.0</td>\n",
       "      <td>5.0</td>\n",
       "      <td>1006.0</td>\n",
       "      <td>NaN</td>\n",
       "      <td>11.0</td>\n",
       "    </tr>\n",
       "    <tr>\n",
       "      <th>2019-05-18 01:00:00</th>\n",
       "      <td>8.0</td>\n",
       "      <td>50.0</td>\n",
       "      <td>4.0</td>\n",
       "      <td>1006.0</td>\n",
       "      <td>NaN</td>\n",
       "      <td>10.0</td>\n",
       "    </tr>\n",
       "    <tr>\n",
       "      <th>2019-05-18 02:00:00</th>\n",
       "      <td>9.0</td>\n",
       "      <td>50.0</td>\n",
       "      <td>3.0</td>\n",
       "      <td>1005.0</td>\n",
       "      <td>NaN</td>\n",
       "      <td>10.0</td>\n",
       "    </tr>\n",
       "    <tr>\n",
       "      <th>2019-05-18 03:00:00</th>\n",
       "      <td>8.0</td>\n",
       "      <td>40.0</td>\n",
       "      <td>4.0</td>\n",
       "      <td>1005.0</td>\n",
       "      <td>NaN</td>\n",
       "      <td>9.0</td>\n",
       "    </tr>\n",
       "    <tr>\n",
       "      <th>2019-05-18 04:00:00</th>\n",
       "      <td>9.0</td>\n",
       "      <td>80.0</td>\n",
       "      <td>3.0</td>\n",
       "      <td>1005.0</td>\n",
       "      <td>NaN</td>\n",
       "      <td>10.0</td>\n",
       "    </tr>\n",
       "  </tbody>\n",
       "</table>\n",
       "</div>"
      ],
      "text/plain": [
       "                                  Dew point  Wind direction  Wind speed  \\\n",
       "AIRPORT_ICAO Date_hour                                                    \n",
       "EDDF         2019-05-18 00:00:00        8.0            60.0         5.0   \n",
       "             2019-05-18 01:00:00        8.0            50.0         4.0   \n",
       "             2019-05-18 02:00:00        9.0            50.0         3.0   \n",
       "             2019-05-18 03:00:00        8.0            40.0         4.0   \n",
       "             2019-05-18 04:00:00        9.0            80.0         3.0   \n",
       "\n",
       "                                  Pressure  Visibility  Temperature  \n",
       "AIRPORT_ICAO Date_hour                                               \n",
       "EDDF         2019-05-18 00:00:00    1006.0         NaN         11.0  \n",
       "             2019-05-18 01:00:00    1006.0         NaN         10.0  \n",
       "             2019-05-18 02:00:00    1005.0         NaN         10.0  \n",
       "             2019-05-18 03:00:00    1005.0         NaN          9.0  \n",
       "             2019-05-18 04:00:00    1005.0         NaN         10.0  "
      ]
     },
     "execution_count": 47,
     "metadata": {},
     "output_type": "execute_result"
    }
   ],
   "source": [
    "# Aggregate weather data by airport and by hour (only take the first weather record within an hour, as we have half hour records)\n",
    "agg_weather_df = metar_df2.groupby(['AIRPORT_ICAO','Date_hour']).agg(lambda x: x.iloc[0]) # Just get one value of weather info for the hour\n",
    "agg_weather_df.head()"
   ]
  },
  {
   "cell_type": "code",
   "execution_count": null,
   "metadata": {
    "colab": {},
    "colab_type": "code",
    "id": "tD3bTKZ1t7L4"
   },
   "outputs": [],
   "source": []
  },
  {
   "cell_type": "code",
   "execution_count": 48,
   "metadata": {
    "colab": {
     "base_uri": "https://localhost:8080/",
     "height": 92
    },
    "colab_type": "code",
    "id": "bTnIQjPRhVAy",
    "outputId": "fe87c4b7-81d2-483b-e98b-0e68b05ae101"
   },
   "outputs": [
    {
     "data": {
      "text/plain": [
       "MultiIndex([('EDDF', '2019-05-18 00:00:00'),\n",
       "            ('EDDF', '2019-05-18 01:00:00'),\n",
       "            ('EDDF', '2019-05-18 02:00:00'),\n",
       "            ('EDDF', '2019-05-18 03:00:00'),\n",
       "            ('EDDF', '2019-05-18 04:00:00'),\n",
       "            ('EDDF', '2019-05-18 05:00:00'),\n",
       "            ('EDDF', '2019-05-18 06:00:00'),\n",
       "            ('EDDF', '2019-05-18 07:00:00'),\n",
       "            ('EDDF', '2019-05-18 08:00:00'),\n",
       "            ('EDDF', '2019-05-18 09:00:00'),\n",
       "            ...\n",
       "            ('YSSY', '2019-06-05 13:00:00'),\n",
       "            ('YSSY', '2019-06-05 15:00:00'),\n",
       "            ('YSSY', '2019-06-05 16:00:00'),\n",
       "            ('YSSY', '2019-06-05 17:00:00'),\n",
       "            ('YSSY', '2019-06-05 18:00:00'),\n",
       "            ('YSSY', '2019-06-05 19:00:00'),\n",
       "            ('YSSY', '2019-06-05 20:00:00'),\n",
       "            ('YSSY', '2019-06-05 22:00:00'),\n",
       "            ('YSSY', '2019-06-05 23:00:00'),\n",
       "            ('YSSY', '2019-06-06 00:00:00')],\n",
       "           names=['AIRPORT_ICAO', 'Date_hour'], length=8196)"
      ]
     },
     "execution_count": 48,
     "metadata": {},
     "output_type": "execute_result"
    }
   ],
   "source": [
    "# This shows we only have weather for the day 2019-05-21\n",
    "agg_weather_df.index"
   ]
  },
  {
   "cell_type": "code",
   "execution_count": 49,
   "metadata": {
    "colab": {
     "base_uri": "https://localhost:8080/",
     "height": 1000
    },
    "colab_type": "code",
    "id": "R_cZCE3B14EA",
    "outputId": "fc0e60fa-d16e-4e06-9089-81d9bac3f420"
   },
   "outputs": [
    {
     "data": {
      "text/plain": [
       "[numpy.datetime64('2019-05-18T15:00:00.000000000'),\n",
       " numpy.datetime64('2019-05-18T18:00:00.000000000'),\n",
       " numpy.datetime64('2019-05-18T19:00:00.000000000'),\n",
       " numpy.datetime64('2019-05-18T20:00:00.000000000'),\n",
       " numpy.datetime64('2019-05-18T21:00:00.000000000'),\n",
       " numpy.datetime64('2019-05-18T22:00:00.000000000'),\n",
       " numpy.datetime64('2019-05-18T23:00:00.000000000'),\n",
       " numpy.datetime64('2019-05-19T00:00:00.000000000'),\n",
       " numpy.datetime64('2019-05-19T01:00:00.000000000'),\n",
       " numpy.datetime64('2019-05-19T02:00:00.000000000'),\n",
       " numpy.datetime64('2019-05-19T03:00:00.000000000'),\n",
       " numpy.datetime64('2019-05-19T04:00:00.000000000'),\n",
       " numpy.datetime64('2019-05-19T05:00:00.000000000'),\n",
       " numpy.datetime64('2019-05-19T06:00:00.000000000'),\n",
       " numpy.datetime64('2019-05-19T07:00:00.000000000'),\n",
       " numpy.datetime64('2019-05-19T08:00:00.000000000'),\n",
       " numpy.datetime64('2019-05-19T09:00:00.000000000'),\n",
       " numpy.datetime64('2019-05-19T10:00:00.000000000'),\n",
       " numpy.datetime64('2019-05-19T11:00:00.000000000'),\n",
       " numpy.datetime64('2019-05-19T12:00:00.000000000'),\n",
       " numpy.datetime64('2019-05-19T13:00:00.000000000'),\n",
       " numpy.datetime64('2019-05-19T14:00:00.000000000'),\n",
       " numpy.datetime64('2019-05-19T15:00:00.000000000'),\n",
       " numpy.datetime64('2019-05-19T16:00:00.000000000'),\n",
       " numpy.datetime64('2019-05-19T17:00:00.000000000'),\n",
       " numpy.datetime64('2019-05-19T18:00:00.000000000'),\n",
       " numpy.datetime64('2019-05-19T19:00:00.000000000'),\n",
       " numpy.datetime64('2019-05-19T20:00:00.000000000'),\n",
       " numpy.datetime64('2019-05-19T21:00:00.000000000'),\n",
       " numpy.datetime64('2019-05-19T22:00:00.000000000'),\n",
       " numpy.datetime64('2019-05-19T23:00:00.000000000'),\n",
       " numpy.datetime64('2019-05-20T00:00:00.000000000'),\n",
       " numpy.datetime64('2019-05-20T01:00:00.000000000'),\n",
       " numpy.datetime64('2019-05-20T02:00:00.000000000'),\n",
       " numpy.datetime64('2019-05-20T03:00:00.000000000'),\n",
       " numpy.datetime64('2019-05-20T04:00:00.000000000'),\n",
       " numpy.datetime64('2019-05-20T05:00:00.000000000'),\n",
       " numpy.datetime64('2019-05-20T06:00:00.000000000'),\n",
       " numpy.datetime64('2019-05-20T07:00:00.000000000'),\n",
       " numpy.datetime64('2019-05-20T08:00:00.000000000'),\n",
       " numpy.datetime64('2019-05-20T09:00:00.000000000'),\n",
       " numpy.datetime64('2019-05-20T10:00:00.000000000'),\n",
       " numpy.datetime64('2019-05-20T11:00:00.000000000'),\n",
       " numpy.datetime64('2019-05-20T12:00:00.000000000'),\n",
       " numpy.datetime64('2019-05-20T13:00:00.000000000'),\n",
       " numpy.datetime64('2019-05-20T14:00:00.000000000'),\n",
       " numpy.datetime64('2019-05-20T15:00:00.000000000'),\n",
       " numpy.datetime64('2019-05-20T16:00:00.000000000'),\n",
       " numpy.datetime64('2019-05-20T17:00:00.000000000'),\n",
       " numpy.datetime64('2019-05-20T18:00:00.000000000'),\n",
       " numpy.datetime64('2019-05-20T19:00:00.000000000'),\n",
       " numpy.datetime64('2019-05-20T20:00:00.000000000'),\n",
       " numpy.datetime64('2019-05-20T21:00:00.000000000'),\n",
       " numpy.datetime64('2019-05-20T22:00:00.000000000'),\n",
       " numpy.datetime64('2019-05-20T23:00:00.000000000'),\n",
       " numpy.datetime64('2019-05-21T00:00:00.000000000'),\n",
       " numpy.datetime64('2019-05-21T01:00:00.000000000'),\n",
       " numpy.datetime64('2019-05-21T02:00:00.000000000'),\n",
       " numpy.datetime64('2019-05-21T03:00:00.000000000'),\n",
       " numpy.datetime64('2019-05-21T04:00:00.000000000'),\n",
       " numpy.datetime64('2019-05-21T05:00:00.000000000'),\n",
       " numpy.datetime64('2019-05-21T06:00:00.000000000'),\n",
       " numpy.datetime64('2019-05-21T07:00:00.000000000'),\n",
       " numpy.datetime64('2019-05-21T08:00:00.000000000'),\n",
       " numpy.datetime64('2019-05-21T09:00:00.000000000'),\n",
       " numpy.datetime64('2019-05-21T10:00:00.000000000'),\n",
       " numpy.datetime64('2019-05-21T11:00:00.000000000'),\n",
       " numpy.datetime64('2019-05-21T12:00:00.000000000'),\n",
       " numpy.datetime64('2019-05-21T13:00:00.000000000'),\n",
       " numpy.datetime64('2019-05-21T14:00:00.000000000'),\n",
       " numpy.datetime64('2019-05-21T15:00:00.000000000'),\n",
       " numpy.datetime64('2019-05-21T16:00:00.000000000'),\n",
       " numpy.datetime64('2019-05-21T17:00:00.000000000'),\n",
       " numpy.datetime64('2019-05-21T18:00:00.000000000'),\n",
       " numpy.datetime64('2019-05-21T19:00:00.000000000'),\n",
       " numpy.datetime64('2019-05-21T20:00:00.000000000'),\n",
       " numpy.datetime64('2019-05-21T21:00:00.000000000'),\n",
       " numpy.datetime64('2019-05-21T22:00:00.000000000'),\n",
       " numpy.datetime64('2019-05-21T23:00:00.000000000'),\n",
       " numpy.datetime64('2019-05-22T00:00:00.000000000'),\n",
       " numpy.datetime64('2019-05-22T01:00:00.000000000'),\n",
       " numpy.datetime64('2019-05-22T02:00:00.000000000'),\n",
       " numpy.datetime64('2019-05-22T03:00:00.000000000'),\n",
       " numpy.datetime64('2019-05-22T04:00:00.000000000'),\n",
       " numpy.datetime64('2019-05-22T05:00:00.000000000'),\n",
       " numpy.datetime64('2019-05-22T06:00:00.000000000'),\n",
       " numpy.datetime64('2019-05-22T07:00:00.000000000'),\n",
       " numpy.datetime64('2019-05-22T08:00:00.000000000'),\n",
       " numpy.datetime64('2019-05-22T09:00:00.000000000'),\n",
       " numpy.datetime64('2019-05-22T10:00:00.000000000'),\n",
       " numpy.datetime64('2019-05-22T11:00:00.000000000'),\n",
       " numpy.datetime64('2019-05-22T12:00:00.000000000'),\n",
       " numpy.datetime64('2019-05-22T13:00:00.000000000'),\n",
       " numpy.datetime64('2019-05-22T14:00:00.000000000'),\n",
       " numpy.datetime64('2019-05-22T15:00:00.000000000'),\n",
       " numpy.datetime64('2019-05-22T16:00:00.000000000'),\n",
       " numpy.datetime64('2019-05-22T17:00:00.000000000'),\n",
       " numpy.datetime64('2019-05-22T18:00:00.000000000'),\n",
       " numpy.datetime64('2019-05-22T19:00:00.000000000'),\n",
       " numpy.datetime64('2019-05-22T20:00:00.000000000'),\n",
       " numpy.datetime64('2019-05-22T21:00:00.000000000'),\n",
       " numpy.datetime64('2019-05-22T22:00:00.000000000'),\n",
       " numpy.datetime64('2019-05-22T23:00:00.000000000'),\n",
       " numpy.datetime64('2019-05-23T00:00:00.000000000'),\n",
       " numpy.datetime64('2019-05-23T01:00:00.000000000'),\n",
       " numpy.datetime64('2019-05-23T02:00:00.000000000'),\n",
       " numpy.datetime64('2019-05-23T03:00:00.000000000'),\n",
       " numpy.datetime64('2019-05-23T04:00:00.000000000'),\n",
       " numpy.datetime64('2019-05-23T05:00:00.000000000'),\n",
       " numpy.datetime64('2019-05-23T06:00:00.000000000'),\n",
       " numpy.datetime64('2019-05-23T07:00:00.000000000'),\n",
       " numpy.datetime64('2019-05-23T08:00:00.000000000'),\n",
       " numpy.datetime64('2019-05-23T09:00:00.000000000'),\n",
       " numpy.datetime64('2019-05-23T10:00:00.000000000'),\n",
       " numpy.datetime64('2019-05-23T11:00:00.000000000'),\n",
       " numpy.datetime64('2019-05-23T12:00:00.000000000'),\n",
       " numpy.datetime64('2019-05-23T13:00:00.000000000'),\n",
       " numpy.datetime64('2019-05-23T14:00:00.000000000'),\n",
       " numpy.datetime64('2019-05-23T15:00:00.000000000'),\n",
       " numpy.datetime64('2019-05-23T16:00:00.000000000'),\n",
       " numpy.datetime64('2019-05-23T17:00:00.000000000'),\n",
       " numpy.datetime64('2019-05-23T18:00:00.000000000'),\n",
       " numpy.datetime64('2019-05-23T19:00:00.000000000'),\n",
       " numpy.datetime64('2019-05-23T20:00:00.000000000'),\n",
       " numpy.datetime64('2019-05-23T21:00:00.000000000'),\n",
       " numpy.datetime64('2019-05-23T22:00:00.000000000'),\n",
       " numpy.datetime64('2019-05-23T23:00:00.000000000'),\n",
       " numpy.datetime64('2019-05-24T00:00:00.000000000'),\n",
       " numpy.datetime64('2019-05-24T01:00:00.000000000'),\n",
       " numpy.datetime64('2019-05-24T10:00:00.000000000'),\n",
       " numpy.datetime64('2019-05-24T12:00:00.000000000'),\n",
       " numpy.datetime64('2019-05-24T13:00:00.000000000'),\n",
       " numpy.datetime64('2019-05-24T14:00:00.000000000'),\n",
       " numpy.datetime64('2019-05-24T15:00:00.000000000'),\n",
       " numpy.datetime64('2019-05-24T16:00:00.000000000'),\n",
       " numpy.datetime64('2019-05-24T17:00:00.000000000'),\n",
       " numpy.datetime64('2019-05-24T18:00:00.000000000'),\n",
       " numpy.datetime64('2019-05-24T19:00:00.000000000'),\n",
       " numpy.datetime64('2019-05-24T20:00:00.000000000'),\n",
       " numpy.datetime64('2019-05-24T21:00:00.000000000'),\n",
       " numpy.datetime64('2019-05-24T22:00:00.000000000'),\n",
       " numpy.datetime64('2019-05-24T23:00:00.000000000'),\n",
       " numpy.datetime64('2019-05-25T00:00:00.000000000'),\n",
       " numpy.datetime64('2019-05-25T01:00:00.000000000'),\n",
       " numpy.datetime64('2019-05-25T02:00:00.000000000'),\n",
       " numpy.datetime64('2019-05-25T03:00:00.000000000'),\n",
       " numpy.datetime64('2019-05-25T04:00:00.000000000'),\n",
       " numpy.datetime64('2019-05-25T05:00:00.000000000'),\n",
       " numpy.datetime64('2019-05-25T06:00:00.000000000'),\n",
       " numpy.datetime64('2019-05-25T07:00:00.000000000'),\n",
       " numpy.datetime64('2019-05-25T08:00:00.000000000'),\n",
       " numpy.datetime64('2019-05-25T09:00:00.000000000'),\n",
       " numpy.datetime64('2019-05-25T10:00:00.000000000'),\n",
       " numpy.datetime64('2019-05-25T11:00:00.000000000'),\n",
       " numpy.datetime64('2019-05-25T12:00:00.000000000'),\n",
       " numpy.datetime64('2019-05-25T13:00:00.000000000'),\n",
       " numpy.datetime64('2019-05-25T14:00:00.000000000'),\n",
       " numpy.datetime64('2019-05-25T15:00:00.000000000'),\n",
       " numpy.datetime64('2019-05-25T16:00:00.000000000'),\n",
       " numpy.datetime64('2019-05-25T17:00:00.000000000'),\n",
       " numpy.datetime64('2019-05-25T18:00:00.000000000'),\n",
       " numpy.datetime64('2019-05-25T19:00:00.000000000'),\n",
       " numpy.datetime64('2019-05-25T20:00:00.000000000'),\n",
       " numpy.datetime64('2019-05-25T21:00:00.000000000'),\n",
       " numpy.datetime64('2019-05-25T22:00:00.000000000'),\n",
       " numpy.datetime64('2019-05-25T23:00:00.000000000'),\n",
       " numpy.datetime64('2019-05-26T00:00:00.000000000'),\n",
       " numpy.datetime64('2019-05-26T01:00:00.000000000'),\n",
       " numpy.datetime64('2019-05-26T02:00:00.000000000'),\n",
       " numpy.datetime64('2019-05-26T03:00:00.000000000'),\n",
       " numpy.datetime64('2019-05-26T04:00:00.000000000'),\n",
       " numpy.datetime64('2019-05-26T05:00:00.000000000'),\n",
       " numpy.datetime64('2019-05-26T06:00:00.000000000'),\n",
       " numpy.datetime64('2019-05-26T07:00:00.000000000'),\n",
       " numpy.datetime64('2019-05-26T08:00:00.000000000'),\n",
       " numpy.datetime64('2019-05-26T09:00:00.000000000'),\n",
       " numpy.datetime64('2019-05-26T10:00:00.000000000'),\n",
       " numpy.datetime64('2019-05-26T11:00:00.000000000'),\n",
       " numpy.datetime64('2019-05-26T12:00:00.000000000'),\n",
       " numpy.datetime64('2019-05-26T13:00:00.000000000'),\n",
       " numpy.datetime64('2019-05-26T14:00:00.000000000'),\n",
       " numpy.datetime64('2019-05-26T15:00:00.000000000'),\n",
       " numpy.datetime64('2019-05-26T16:00:00.000000000'),\n",
       " numpy.datetime64('2019-05-26T17:00:00.000000000'),\n",
       " numpy.datetime64('2019-05-26T18:00:00.000000000'),\n",
       " numpy.datetime64('2019-05-26T19:00:00.000000000'),\n",
       " numpy.datetime64('2019-05-26T20:00:00.000000000'),\n",
       " numpy.datetime64('2019-05-26T21:00:00.000000000'),\n",
       " numpy.datetime64('2019-05-26T22:00:00.000000000'),\n",
       " numpy.datetime64('2019-05-26T23:00:00.000000000'),\n",
       " numpy.datetime64('2019-05-27T00:00:00.000000000'),\n",
       " numpy.datetime64('2019-05-27T01:00:00.000000000'),\n",
       " numpy.datetime64('2019-05-27T02:00:00.000000000'),\n",
       " numpy.datetime64('2019-05-27T03:00:00.000000000'),\n",
       " numpy.datetime64('2019-05-27T04:00:00.000000000'),\n",
       " numpy.datetime64('2019-05-27T05:00:00.000000000'),\n",
       " numpy.datetime64('2019-05-27T06:00:00.000000000'),\n",
       " numpy.datetime64('2019-05-27T07:00:00.000000000'),\n",
       " numpy.datetime64('2019-05-27T08:00:00.000000000'),\n",
       " numpy.datetime64('2019-05-27T09:00:00.000000000'),\n",
       " numpy.datetime64('2019-05-27T10:00:00.000000000'),\n",
       " numpy.datetime64('2019-05-27T11:00:00.000000000'),\n",
       " numpy.datetime64('2019-05-27T12:00:00.000000000'),\n",
       " numpy.datetime64('2019-05-27T13:00:00.000000000'),\n",
       " numpy.datetime64('2019-05-27T14:00:00.000000000'),\n",
       " numpy.datetime64('2019-05-27T15:00:00.000000000'),\n",
       " numpy.datetime64('2019-05-27T16:00:00.000000000'),\n",
       " numpy.datetime64('2019-05-27T17:00:00.000000000'),\n",
       " numpy.datetime64('2019-05-27T18:00:00.000000000'),\n",
       " numpy.datetime64('2019-05-27T19:00:00.000000000'),\n",
       " numpy.datetime64('2019-05-27T20:00:00.000000000'),\n",
       " numpy.datetime64('2019-05-27T21:00:00.000000000'),\n",
       " numpy.datetime64('2019-05-27T22:00:00.000000000'),\n",
       " numpy.datetime64('2019-05-27T23:00:00.000000000'),\n",
       " numpy.datetime64('2019-05-28T00:00:00.000000000'),\n",
       " numpy.datetime64('2019-05-28T01:00:00.000000000'),\n",
       " numpy.datetime64('2019-05-28T02:00:00.000000000'),\n",
       " numpy.datetime64('2019-05-28T03:00:00.000000000'),\n",
       " numpy.datetime64('2019-05-28T04:00:00.000000000'),\n",
       " numpy.datetime64('2019-05-28T05:00:00.000000000'),\n",
       " numpy.datetime64('2019-05-28T06:00:00.000000000'),\n",
       " numpy.datetime64('2019-05-28T07:00:00.000000000'),\n",
       " numpy.datetime64('2019-05-28T08:00:00.000000000'),\n",
       " numpy.datetime64('2019-05-28T09:00:00.000000000'),\n",
       " numpy.datetime64('2019-05-28T10:00:00.000000000'),\n",
       " numpy.datetime64('2019-05-28T11:00:00.000000000'),\n",
       " numpy.datetime64('2019-05-28T12:00:00.000000000'),\n",
       " numpy.datetime64('2019-05-28T13:00:00.000000000'),\n",
       " numpy.datetime64('2019-05-28T14:00:00.000000000'),\n",
       " numpy.datetime64('2019-05-28T15:00:00.000000000'),\n",
       " numpy.datetime64('2019-05-28T16:00:00.000000000'),\n",
       " numpy.datetime64('2019-05-28T17:00:00.000000000'),\n",
       " numpy.datetime64('2019-05-28T18:00:00.000000000'),\n",
       " numpy.datetime64('2019-05-28T19:00:00.000000000'),\n",
       " numpy.datetime64('2019-05-28T20:00:00.000000000'),\n",
       " numpy.datetime64('2019-05-28T21:00:00.000000000'),\n",
       " numpy.datetime64('2019-05-28T22:00:00.000000000'),\n",
       " numpy.datetime64('2019-05-28T23:00:00.000000000'),\n",
       " numpy.datetime64('2019-05-29T00:00:00.000000000'),\n",
       " numpy.datetime64('2019-05-29T01:00:00.000000000'),\n",
       " numpy.datetime64('2019-05-29T02:00:00.000000000'),\n",
       " numpy.datetime64('2019-05-29T03:00:00.000000000'),\n",
       " numpy.datetime64('2019-05-29T04:00:00.000000000'),\n",
       " numpy.datetime64('2019-05-29T05:00:00.000000000'),\n",
       " numpy.datetime64('2019-05-29T06:00:00.000000000'),\n",
       " numpy.datetime64('2019-05-29T07:00:00.000000000'),\n",
       " numpy.datetime64('2019-05-29T08:00:00.000000000'),\n",
       " numpy.datetime64('2019-05-29T09:00:00.000000000'),\n",
       " numpy.datetime64('2019-05-29T10:00:00.000000000'),\n",
       " numpy.datetime64('2019-05-29T11:00:00.000000000'),\n",
       " numpy.datetime64('2019-05-29T12:00:00.000000000'),\n",
       " numpy.datetime64('2019-05-29T13:00:00.000000000'),\n",
       " numpy.datetime64('2019-05-29T14:00:00.000000000'),\n",
       " numpy.datetime64('2019-05-29T15:00:00.000000000'),\n",
       " numpy.datetime64('2019-05-29T16:00:00.000000000'),\n",
       " numpy.datetime64('2019-05-29T17:00:00.000000000'),\n",
       " numpy.datetime64('2019-05-29T18:00:00.000000000'),\n",
       " numpy.datetime64('2019-05-29T19:00:00.000000000'),\n",
       " numpy.datetime64('2019-05-29T20:00:00.000000000'),\n",
       " numpy.datetime64('2019-05-29T21:00:00.000000000'),\n",
       " numpy.datetime64('2019-05-29T22:00:00.000000000'),\n",
       " numpy.datetime64('2019-05-29T23:00:00.000000000'),\n",
       " numpy.datetime64('2019-05-30T00:00:00.000000000'),\n",
       " numpy.datetime64('2019-05-30T01:00:00.000000000'),\n",
       " numpy.datetime64('2019-05-30T02:00:00.000000000'),\n",
       " numpy.datetime64('2019-05-30T03:00:00.000000000'),\n",
       " numpy.datetime64('2019-05-30T04:00:00.000000000'),\n",
       " numpy.datetime64('2019-05-30T05:00:00.000000000'),\n",
       " numpy.datetime64('2019-05-30T06:00:00.000000000'),\n",
       " numpy.datetime64('2019-05-30T07:00:00.000000000'),\n",
       " numpy.datetime64('2019-05-30T08:00:00.000000000'),\n",
       " numpy.datetime64('2019-05-30T09:00:00.000000000'),\n",
       " numpy.datetime64('2019-05-30T10:00:00.000000000'),\n",
       " numpy.datetime64('2019-05-30T11:00:00.000000000'),\n",
       " numpy.datetime64('2019-05-30T12:00:00.000000000'),\n",
       " numpy.datetime64('2019-05-30T13:00:00.000000000'),\n",
       " numpy.datetime64('2019-05-30T14:00:00.000000000'),\n",
       " numpy.datetime64('2019-05-30T15:00:00.000000000'),\n",
       " numpy.datetime64('2019-05-30T16:00:00.000000000'),\n",
       " numpy.datetime64('2019-05-30T17:00:00.000000000'),\n",
       " numpy.datetime64('2019-05-30T18:00:00.000000000'),\n",
       " numpy.datetime64('2019-05-30T19:00:00.000000000'),\n",
       " numpy.datetime64('2019-05-30T20:00:00.000000000'),\n",
       " numpy.datetime64('2019-05-30T21:00:00.000000000'),\n",
       " numpy.datetime64('2019-05-30T22:00:00.000000000'),\n",
       " numpy.datetime64('2019-05-30T23:00:00.000000000'),\n",
       " numpy.datetime64('2019-05-31T00:00:00.000000000'),\n",
       " numpy.datetime64('2019-05-31T01:00:00.000000000'),\n",
       " numpy.datetime64('2019-05-31T02:00:00.000000000'),\n",
       " numpy.datetime64('2019-05-31T03:00:00.000000000'),\n",
       " numpy.datetime64('2019-05-31T04:00:00.000000000'),\n",
       " numpy.datetime64('2019-05-31T05:00:00.000000000'),\n",
       " numpy.datetime64('2019-05-31T06:00:00.000000000'),\n",
       " numpy.datetime64('2019-05-31T07:00:00.000000000'),\n",
       " numpy.datetime64('2019-05-31T08:00:00.000000000'),\n",
       " numpy.datetime64('2019-05-31T09:00:00.000000000'),\n",
       " numpy.datetime64('2019-05-31T10:00:00.000000000'),\n",
       " numpy.datetime64('2019-05-31T11:00:00.000000000'),\n",
       " numpy.datetime64('2019-05-31T12:00:00.000000000'),\n",
       " numpy.datetime64('2019-05-31T13:00:00.000000000'),\n",
       " numpy.datetime64('2019-05-31T14:00:00.000000000'),\n",
       " numpy.datetime64('2019-05-31T15:00:00.000000000'),\n",
       " numpy.datetime64('2019-05-31T16:00:00.000000000'),\n",
       " numpy.datetime64('2019-05-31T17:00:00.000000000'),\n",
       " numpy.datetime64('2019-05-31T18:00:00.000000000'),\n",
       " numpy.datetime64('2019-05-31T19:00:00.000000000'),\n",
       " numpy.datetime64('2019-05-31T20:00:00.000000000'),\n",
       " numpy.datetime64('2019-05-31T21:00:00.000000000'),\n",
       " numpy.datetime64('2019-05-31T22:00:00.000000000'),\n",
       " numpy.datetime64('2019-05-31T23:00:00.000000000'),\n",
       " numpy.datetime64('2019-06-01T00:00:00.000000000'),\n",
       " numpy.datetime64('2019-06-01T01:00:00.000000000'),\n",
       " numpy.datetime64('2019-06-01T02:00:00.000000000'),\n",
       " numpy.datetime64('2019-06-01T03:00:00.000000000'),\n",
       " numpy.datetime64('2019-06-01T04:00:00.000000000'),\n",
       " numpy.datetime64('2019-06-01T05:00:00.000000000'),\n",
       " numpy.datetime64('2019-06-01T06:00:00.000000000'),\n",
       " numpy.datetime64('2019-06-01T07:00:00.000000000'),\n",
       " numpy.datetime64('2019-06-01T08:00:00.000000000'),\n",
       " numpy.datetime64('2019-06-01T09:00:00.000000000'),\n",
       " numpy.datetime64('2019-06-01T10:00:00.000000000'),\n",
       " numpy.datetime64('2019-06-01T11:00:00.000000000'),\n",
       " numpy.datetime64('2019-06-01T12:00:00.000000000'),\n",
       " numpy.datetime64('2019-06-01T13:00:00.000000000'),\n",
       " numpy.datetime64('2019-06-01T14:00:00.000000000'),\n",
       " numpy.datetime64('2019-06-01T15:00:00.000000000'),\n",
       " numpy.datetime64('2019-06-01T16:00:00.000000000'),\n",
       " numpy.datetime64('2019-06-01T17:00:00.000000000'),\n",
       " numpy.datetime64('2019-06-01T18:00:00.000000000'),\n",
       " numpy.datetime64('2019-06-01T19:00:00.000000000'),\n",
       " numpy.datetime64('2019-06-01T20:00:00.000000000'),\n",
       " numpy.datetime64('2019-06-01T21:00:00.000000000'),\n",
       " numpy.datetime64('2019-06-01T22:00:00.000000000'),\n",
       " numpy.datetime64('2019-06-01T23:00:00.000000000'),\n",
       " numpy.datetime64('2019-06-02T00:00:00.000000000'),\n",
       " numpy.datetime64('2019-06-02T01:00:00.000000000'),\n",
       " numpy.datetime64('2019-06-02T02:00:00.000000000'),\n",
       " numpy.datetime64('2019-06-02T03:00:00.000000000'),\n",
       " numpy.datetime64('2019-06-02T04:00:00.000000000'),\n",
       " numpy.datetime64('2019-06-02T05:00:00.000000000'),\n",
       " numpy.datetime64('2019-06-02T06:00:00.000000000'),\n",
       " numpy.datetime64('2019-06-02T07:00:00.000000000'),\n",
       " numpy.datetime64('2019-06-02T08:00:00.000000000'),\n",
       " numpy.datetime64('2019-06-02T09:00:00.000000000'),\n",
       " numpy.datetime64('2019-06-02T10:00:00.000000000'),\n",
       " numpy.datetime64('2019-06-02T11:00:00.000000000'),\n",
       " numpy.datetime64('2019-06-02T12:00:00.000000000'),\n",
       " numpy.datetime64('2019-06-02T13:00:00.000000000'),\n",
       " numpy.datetime64('2019-06-02T14:00:00.000000000'),\n",
       " numpy.datetime64('2019-06-02T15:00:00.000000000'),\n",
       " numpy.datetime64('2019-06-02T16:00:00.000000000'),\n",
       " numpy.datetime64('2019-06-02T17:00:00.000000000'),\n",
       " numpy.datetime64('2019-06-02T18:00:00.000000000'),\n",
       " numpy.datetime64('2019-06-02T19:00:00.000000000'),\n",
       " numpy.datetime64('2019-06-02T20:00:00.000000000'),\n",
       " numpy.datetime64('2019-06-02T21:00:00.000000000'),\n",
       " numpy.datetime64('2019-06-02T22:00:00.000000000'),\n",
       " numpy.datetime64('2019-06-02T23:00:00.000000000'),\n",
       " numpy.datetime64('2019-06-03T00:00:00.000000000'),\n",
       " numpy.datetime64('2019-06-03T01:00:00.000000000'),\n",
       " numpy.datetime64('2019-06-03T02:00:00.000000000'),\n",
       " numpy.datetime64('2019-06-03T03:00:00.000000000'),\n",
       " numpy.datetime64('2019-06-03T04:00:00.000000000'),\n",
       " numpy.datetime64('2019-06-03T05:00:00.000000000'),\n",
       " numpy.datetime64('2019-06-03T06:00:00.000000000'),\n",
       " numpy.datetime64('2019-06-03T07:00:00.000000000'),\n",
       " numpy.datetime64('2019-06-03T08:00:00.000000000'),\n",
       " numpy.datetime64('2019-06-03T09:00:00.000000000'),\n",
       " numpy.datetime64('2019-06-03T10:00:00.000000000'),\n",
       " numpy.datetime64('2019-06-03T11:00:00.000000000'),\n",
       " numpy.datetime64('2019-06-03T12:00:00.000000000'),\n",
       " numpy.datetime64('2019-06-03T13:00:00.000000000'),\n",
       " numpy.datetime64('2019-06-03T14:00:00.000000000'),\n",
       " numpy.datetime64('2019-06-03T15:00:00.000000000'),\n",
       " numpy.datetime64('2019-06-03T16:00:00.000000000'),\n",
       " numpy.datetime64('2019-06-03T17:00:00.000000000'),\n",
       " numpy.datetime64('2019-06-03T18:00:00.000000000'),\n",
       " numpy.datetime64('2019-06-03T19:00:00.000000000'),\n",
       " numpy.datetime64('2019-06-03T20:00:00.000000000'),\n",
       " numpy.datetime64('2019-06-03T21:00:00.000000000'),\n",
       " numpy.datetime64('2019-06-03T22:00:00.000000000'),\n",
       " numpy.datetime64('2019-06-03T23:00:00.000000000'),\n",
       " numpy.datetime64('2019-06-04T00:00:00.000000000'),\n",
       " numpy.datetime64('2019-06-04T01:00:00.000000000'),\n",
       " numpy.datetime64('2019-06-04T02:00:00.000000000'),\n",
       " numpy.datetime64('2019-06-04T03:00:00.000000000'),\n",
       " numpy.datetime64('2019-06-04T04:00:00.000000000'),\n",
       " numpy.datetime64('2019-06-04T05:00:00.000000000'),\n",
       " numpy.datetime64('2019-06-04T06:00:00.000000000'),\n",
       " numpy.datetime64('2019-06-04T07:00:00.000000000'),\n",
       " numpy.datetime64('2019-06-04T08:00:00.000000000'),\n",
       " numpy.datetime64('2019-06-04T09:00:00.000000000'),\n",
       " numpy.datetime64('2019-06-04T10:00:00.000000000'),\n",
       " numpy.datetime64('2019-06-04T11:00:00.000000000'),\n",
       " numpy.datetime64('2019-06-04T12:00:00.000000000'),\n",
       " numpy.datetime64('2019-06-04T13:00:00.000000000'),\n",
       " numpy.datetime64('2019-06-04T14:00:00.000000000'),\n",
       " numpy.datetime64('2019-06-04T15:00:00.000000000'),\n",
       " numpy.datetime64('2019-06-04T16:00:00.000000000'),\n",
       " numpy.datetime64('2019-06-04T17:00:00.000000000'),\n",
       " numpy.datetime64('2019-06-04T18:00:00.000000000'),\n",
       " numpy.datetime64('2019-06-04T19:00:00.000000000'),\n",
       " numpy.datetime64('2019-06-04T20:00:00.000000000'),\n",
       " numpy.datetime64('2019-06-04T21:00:00.000000000'),\n",
       " numpy.datetime64('2019-06-04T22:00:00.000000000'),\n",
       " numpy.datetime64('2019-06-04T23:00:00.000000000'),\n",
       " numpy.datetime64('2019-06-05T00:00:00.000000000'),\n",
       " numpy.datetime64('2019-06-05T01:00:00.000000000'),\n",
       " numpy.datetime64('2019-06-05T02:00:00.000000000'),\n",
       " numpy.datetime64('2019-06-05T03:00:00.000000000'),\n",
       " numpy.datetime64('2019-06-05T04:00:00.000000000'),\n",
       " numpy.datetime64('2019-06-05T05:00:00.000000000'),\n",
       " numpy.datetime64('2019-06-05T06:00:00.000000000'),\n",
       " numpy.datetime64('2019-06-05T07:00:00.000000000'),\n",
       " numpy.datetime64('2019-06-05T08:00:00.000000000'),\n",
       " numpy.datetime64('2019-06-05T09:00:00.000000000'),\n",
       " numpy.datetime64('2019-06-05T10:00:00.000000000'),\n",
       " numpy.datetime64('2019-06-05T11:00:00.000000000'),\n",
       " numpy.datetime64('2019-06-05T12:00:00.000000000'),\n",
       " numpy.datetime64('2019-06-05T13:00:00.000000000'),\n",
       " numpy.datetime64('2019-06-05T14:00:00.000000000'),\n",
       " numpy.datetime64('2019-06-05T15:00:00.000000000'),\n",
       " numpy.datetime64('2019-06-05T16:00:00.000000000'),\n",
       " numpy.datetime64('2019-06-05T17:00:00.000000000'),\n",
       " numpy.datetime64('2019-06-05T18:00:00.000000000'),\n",
       " numpy.datetime64('2019-06-05T19:00:00.000000000'),\n",
       " numpy.datetime64('2019-06-05T20:00:00.000000000'),\n",
       " numpy.datetime64('2019-06-05T21:00:00.000000000'),\n",
       " numpy.datetime64('2019-06-05T22:00:00.000000000'),\n",
       " numpy.datetime64('2019-06-05T23:00:00.000000000'),\n",
       " numpy.datetime64('2019-06-06T00:00:00.000000000'),\n",
       " numpy.datetime64('2019-06-06T01:00:00.000000000'),\n",
       " numpy.datetime64('2019-06-06T02:00:00.000000000'),\n",
       " numpy.datetime64('2019-06-06T03:00:00.000000000'),\n",
       " numpy.datetime64('2019-06-06T04:00:00.000000000'),\n",
       " numpy.datetime64('2019-06-06T05:00:00.000000000'),\n",
       " numpy.datetime64('2019-06-06T06:00:00.000000000'),\n",
       " numpy.datetime64('2019-06-06T07:00:00.000000000'),\n",
       " numpy.datetime64('2019-06-06T08:00:00.000000000'),\n",
       " numpy.datetime64('2019-06-06T09:00:00.000000000'),\n",
       " numpy.datetime64('2019-06-06T10:00:00.000000000'),\n",
       " numpy.datetime64('2019-06-06T11:00:00.000000000'),\n",
       " numpy.datetime64('2019-06-06T12:00:00.000000000'),\n",
       " numpy.datetime64('2019-06-06T13:00:00.000000000'),\n",
       " numpy.datetime64('2019-06-06T14:00:00.000000000'),\n",
       " numpy.datetime64('2019-06-06T15:00:00.000000000'),\n",
       " numpy.datetime64('2019-06-06T16:00:00.000000000'),\n",
       " numpy.datetime64('2019-06-06T17:00:00.000000000'),\n",
       " numpy.datetime64('2019-06-06T18:00:00.000000000'),\n",
       " numpy.datetime64('2019-06-06T19:00:00.000000000'),\n",
       " numpy.datetime64('2019-06-06T20:00:00.000000000'),\n",
       " numpy.datetime64('2019-06-06T23:00:00.000000000')]"
      ]
     },
     "execution_count": 49,
     "metadata": {},
     "output_type": "execute_result"
    }
   ],
   "source": [
    "# This shows that we only have the first 6 hours of the day 2019-05-21 for the flight data\n",
    "sorted(flight_data['Date_hour_dep_sched'].unique())"
   ]
  },
  {
   "cell_type": "code",
   "execution_count": 50,
   "metadata": {
    "colab": {
     "base_uri": "https://localhost:8080/",
     "height": 1000
    },
    "colab_type": "code",
    "id": "Au8lSUR84xlU",
    "outputId": "8ab7a67f-509d-4e15-f6dc-9ca87f7849a2"
   },
   "outputs": [
    {
     "data": {
      "text/plain": [
       "[numpy.datetime64('2019-05-19T06:00:00.000000000'),\n",
       " numpy.datetime64('2019-05-19T07:00:00.000000000'),\n",
       " numpy.datetime64('2019-05-19T08:00:00.000000000'),\n",
       " numpy.datetime64('2019-05-19T09:00:00.000000000'),\n",
       " numpy.datetime64('2019-05-19T10:00:00.000000000'),\n",
       " numpy.datetime64('2019-05-19T11:00:00.000000000'),\n",
       " numpy.datetime64('2019-05-19T12:00:00.000000000'),\n",
       " numpy.datetime64('2019-05-19T13:00:00.000000000'),\n",
       " numpy.datetime64('2019-05-19T14:00:00.000000000'),\n",
       " numpy.datetime64('2019-05-19T15:00:00.000000000'),\n",
       " numpy.datetime64('2019-05-19T16:00:00.000000000'),\n",
       " numpy.datetime64('2019-05-19T17:00:00.000000000'),\n",
       " numpy.datetime64('2019-05-19T18:00:00.000000000'),\n",
       " numpy.datetime64('2019-05-19T19:00:00.000000000'),\n",
       " numpy.datetime64('2019-05-19T20:00:00.000000000'),\n",
       " numpy.datetime64('2019-05-19T21:00:00.000000000'),\n",
       " numpy.datetime64('2019-05-19T22:00:00.000000000'),\n",
       " numpy.datetime64('2019-05-19T23:00:00.000000000'),\n",
       " numpy.datetime64('2019-05-20T00:00:00.000000000'),\n",
       " numpy.datetime64('2019-05-20T01:00:00.000000000'),\n",
       " numpy.datetime64('2019-05-20T02:00:00.000000000'),\n",
       " numpy.datetime64('2019-05-20T03:00:00.000000000'),\n",
       " numpy.datetime64('2019-05-20T04:00:00.000000000'),\n",
       " numpy.datetime64('2019-05-20T05:00:00.000000000'),\n",
       " numpy.datetime64('2019-05-20T06:00:00.000000000'),\n",
       " numpy.datetime64('2019-05-20T07:00:00.000000000'),\n",
       " numpy.datetime64('2019-05-20T08:00:00.000000000'),\n",
       " numpy.datetime64('2019-05-20T09:00:00.000000000'),\n",
       " numpy.datetime64('2019-05-20T10:00:00.000000000'),\n",
       " numpy.datetime64('2019-05-20T11:00:00.000000000'),\n",
       " numpy.datetime64('2019-05-20T12:00:00.000000000'),\n",
       " numpy.datetime64('2019-05-20T13:00:00.000000000'),\n",
       " numpy.datetime64('2019-05-20T14:00:00.000000000'),\n",
       " numpy.datetime64('2019-05-20T15:00:00.000000000'),\n",
       " numpy.datetime64('2019-05-20T16:00:00.000000000'),\n",
       " numpy.datetime64('2019-05-20T17:00:00.000000000'),\n",
       " numpy.datetime64('2019-05-20T18:00:00.000000000'),\n",
       " numpy.datetime64('2019-05-20T19:00:00.000000000'),\n",
       " numpy.datetime64('2019-05-20T20:00:00.000000000'),\n",
       " numpy.datetime64('2019-05-20T21:00:00.000000000'),\n",
       " numpy.datetime64('2019-05-20T22:00:00.000000000'),\n",
       " numpy.datetime64('2019-05-20T23:00:00.000000000'),\n",
       " numpy.datetime64('2019-05-21T00:00:00.000000000'),\n",
       " numpy.datetime64('2019-05-21T01:00:00.000000000'),\n",
       " numpy.datetime64('2019-05-21T02:00:00.000000000'),\n",
       " numpy.datetime64('2019-05-21T03:00:00.000000000'),\n",
       " numpy.datetime64('2019-05-21T04:00:00.000000000'),\n",
       " numpy.datetime64('2019-05-21T05:00:00.000000000'),\n",
       " numpy.datetime64('2019-05-21T06:00:00.000000000'),\n",
       " numpy.datetime64('2019-05-21T07:00:00.000000000'),\n",
       " numpy.datetime64('2019-05-21T08:00:00.000000000'),\n",
       " numpy.datetime64('2019-05-21T09:00:00.000000000'),\n",
       " numpy.datetime64('2019-05-21T10:00:00.000000000'),\n",
       " numpy.datetime64('2019-05-21T11:00:00.000000000'),\n",
       " numpy.datetime64('2019-05-21T12:00:00.000000000'),\n",
       " numpy.datetime64('2019-05-21T13:00:00.000000000'),\n",
       " numpy.datetime64('2019-05-21T14:00:00.000000000'),\n",
       " numpy.datetime64('2019-05-21T15:00:00.000000000'),\n",
       " numpy.datetime64('2019-05-21T16:00:00.000000000'),\n",
       " numpy.datetime64('2019-05-21T17:00:00.000000000'),\n",
       " numpy.datetime64('2019-05-21T18:00:00.000000000'),\n",
       " numpy.datetime64('2019-05-21T19:00:00.000000000'),\n",
       " numpy.datetime64('2019-05-21T20:00:00.000000000'),\n",
       " numpy.datetime64('2019-05-21T21:00:00.000000000'),\n",
       " numpy.datetime64('2019-05-21T22:00:00.000000000'),\n",
       " numpy.datetime64('2019-05-21T23:00:00.000000000'),\n",
       " numpy.datetime64('2019-05-22T00:00:00.000000000'),\n",
       " numpy.datetime64('2019-05-22T01:00:00.000000000'),\n",
       " numpy.datetime64('2019-05-22T02:00:00.000000000'),\n",
       " numpy.datetime64('2019-05-22T03:00:00.000000000'),\n",
       " numpy.datetime64('2019-05-22T04:00:00.000000000'),\n",
       " numpy.datetime64('2019-05-22T05:00:00.000000000'),\n",
       " numpy.datetime64('2019-05-22T06:00:00.000000000'),\n",
       " numpy.datetime64('2019-05-22T07:00:00.000000000'),\n",
       " numpy.datetime64('2019-05-22T08:00:00.000000000'),\n",
       " numpy.datetime64('2019-05-22T09:00:00.000000000'),\n",
       " numpy.datetime64('2019-05-22T10:00:00.000000000'),\n",
       " numpy.datetime64('2019-05-22T11:00:00.000000000'),\n",
       " numpy.datetime64('2019-05-22T12:00:00.000000000'),\n",
       " numpy.datetime64('2019-05-22T13:00:00.000000000'),\n",
       " numpy.datetime64('2019-05-22T14:00:00.000000000'),\n",
       " numpy.datetime64('2019-05-22T15:00:00.000000000'),\n",
       " numpy.datetime64('2019-05-22T16:00:00.000000000'),\n",
       " numpy.datetime64('2019-05-22T17:00:00.000000000'),\n",
       " numpy.datetime64('2019-05-22T18:00:00.000000000'),\n",
       " numpy.datetime64('2019-05-22T19:00:00.000000000'),\n",
       " numpy.datetime64('2019-05-22T20:00:00.000000000'),\n",
       " numpy.datetime64('2019-05-22T21:00:00.000000000'),\n",
       " numpy.datetime64('2019-05-22T22:00:00.000000000'),\n",
       " numpy.datetime64('2019-05-22T23:00:00.000000000'),\n",
       " numpy.datetime64('2019-05-23T00:00:00.000000000'),\n",
       " numpy.datetime64('2019-05-23T01:00:00.000000000'),\n",
       " numpy.datetime64('2019-05-23T02:00:00.000000000'),\n",
       " numpy.datetime64('2019-05-23T03:00:00.000000000'),\n",
       " numpy.datetime64('2019-05-23T04:00:00.000000000'),\n",
       " numpy.datetime64('2019-05-23T05:00:00.000000000'),\n",
       " numpy.datetime64('2019-05-23T06:00:00.000000000'),\n",
       " numpy.datetime64('2019-05-23T07:00:00.000000000'),\n",
       " numpy.datetime64('2019-05-23T08:00:00.000000000'),\n",
       " numpy.datetime64('2019-05-23T09:00:00.000000000'),\n",
       " numpy.datetime64('2019-05-23T10:00:00.000000000'),\n",
       " numpy.datetime64('2019-05-23T11:00:00.000000000'),\n",
       " numpy.datetime64('2019-05-23T12:00:00.000000000'),\n",
       " numpy.datetime64('2019-05-23T13:00:00.000000000'),\n",
       " numpy.datetime64('2019-05-23T14:00:00.000000000'),\n",
       " numpy.datetime64('2019-05-23T15:00:00.000000000'),\n",
       " numpy.datetime64('2019-05-23T16:00:00.000000000'),\n",
       " numpy.datetime64('2019-05-23T17:00:00.000000000'),\n",
       " numpy.datetime64('2019-05-23T18:00:00.000000000'),\n",
       " numpy.datetime64('2019-05-23T19:00:00.000000000'),\n",
       " numpy.datetime64('2019-05-23T20:00:00.000000000'),\n",
       " numpy.datetime64('2019-05-23T21:00:00.000000000'),\n",
       " numpy.datetime64('2019-05-23T22:00:00.000000000'),\n",
       " numpy.datetime64('2019-05-23T23:00:00.000000000'),\n",
       " numpy.datetime64('2019-05-24T00:00:00.000000000'),\n",
       " numpy.datetime64('2019-05-24T01:00:00.000000000'),\n",
       " numpy.datetime64('2019-05-24T02:00:00.000000000'),\n",
       " numpy.datetime64('2019-05-25T01:00:00.000000000'),\n",
       " numpy.datetime64('2019-05-25T02:00:00.000000000'),\n",
       " numpy.datetime64('2019-05-25T03:00:00.000000000'),\n",
       " numpy.datetime64('2019-05-25T04:00:00.000000000'),\n",
       " numpy.datetime64('2019-05-25T05:00:00.000000000'),\n",
       " numpy.datetime64('2019-05-25T06:00:00.000000000'),\n",
       " numpy.datetime64('2019-05-25T07:00:00.000000000'),\n",
       " numpy.datetime64('2019-05-25T08:00:00.000000000'),\n",
       " numpy.datetime64('2019-05-25T09:00:00.000000000'),\n",
       " numpy.datetime64('2019-05-25T10:00:00.000000000'),\n",
       " numpy.datetime64('2019-05-25T11:00:00.000000000'),\n",
       " numpy.datetime64('2019-05-25T12:00:00.000000000'),\n",
       " numpy.datetime64('2019-05-25T13:00:00.000000000'),\n",
       " numpy.datetime64('2019-05-25T14:00:00.000000000'),\n",
       " numpy.datetime64('2019-05-25T15:00:00.000000000'),\n",
       " numpy.datetime64('2019-05-25T16:00:00.000000000'),\n",
       " numpy.datetime64('2019-05-25T17:00:00.000000000'),\n",
       " numpy.datetime64('2019-05-25T18:00:00.000000000'),\n",
       " numpy.datetime64('2019-05-25T19:00:00.000000000'),\n",
       " numpy.datetime64('2019-05-25T20:00:00.000000000'),\n",
       " numpy.datetime64('2019-05-25T21:00:00.000000000'),\n",
       " numpy.datetime64('2019-05-25T22:00:00.000000000'),\n",
       " numpy.datetime64('2019-05-25T23:00:00.000000000'),\n",
       " numpy.datetime64('2019-05-26T00:00:00.000000000'),\n",
       " numpy.datetime64('2019-05-26T01:00:00.000000000'),\n",
       " numpy.datetime64('2019-05-26T02:00:00.000000000'),\n",
       " numpy.datetime64('2019-05-26T03:00:00.000000000'),\n",
       " numpy.datetime64('2019-05-26T04:00:00.000000000'),\n",
       " numpy.datetime64('2019-05-26T05:00:00.000000000'),\n",
       " numpy.datetime64('2019-05-26T06:00:00.000000000'),\n",
       " numpy.datetime64('2019-05-26T07:00:00.000000000'),\n",
       " numpy.datetime64('2019-05-26T08:00:00.000000000'),\n",
       " numpy.datetime64('2019-05-26T09:00:00.000000000'),\n",
       " numpy.datetime64('2019-05-26T10:00:00.000000000'),\n",
       " numpy.datetime64('2019-05-26T11:00:00.000000000'),\n",
       " numpy.datetime64('2019-05-26T12:00:00.000000000'),\n",
       " numpy.datetime64('2019-05-26T13:00:00.000000000'),\n",
       " numpy.datetime64('2019-05-26T14:00:00.000000000'),\n",
       " numpy.datetime64('2019-05-26T15:00:00.000000000'),\n",
       " numpy.datetime64('2019-05-26T16:00:00.000000000'),\n",
       " numpy.datetime64('2019-05-26T17:00:00.000000000'),\n",
       " numpy.datetime64('2019-05-26T18:00:00.000000000'),\n",
       " numpy.datetime64('2019-05-26T19:00:00.000000000'),\n",
       " numpy.datetime64('2019-05-26T20:00:00.000000000'),\n",
       " numpy.datetime64('2019-05-26T21:00:00.000000000'),\n",
       " numpy.datetime64('2019-05-26T22:00:00.000000000'),\n",
       " numpy.datetime64('2019-05-26T23:00:00.000000000'),\n",
       " numpy.datetime64('2019-05-27T00:00:00.000000000'),\n",
       " numpy.datetime64('2019-05-27T01:00:00.000000000'),\n",
       " numpy.datetime64('2019-05-27T02:00:00.000000000'),\n",
       " numpy.datetime64('2019-05-27T03:00:00.000000000'),\n",
       " numpy.datetime64('2019-05-27T04:00:00.000000000'),\n",
       " numpy.datetime64('2019-05-27T05:00:00.000000000'),\n",
       " numpy.datetime64('2019-05-27T06:00:00.000000000'),\n",
       " numpy.datetime64('2019-05-27T07:00:00.000000000'),\n",
       " numpy.datetime64('2019-05-27T08:00:00.000000000'),\n",
       " numpy.datetime64('2019-05-27T09:00:00.000000000'),\n",
       " numpy.datetime64('2019-05-27T10:00:00.000000000'),\n",
       " numpy.datetime64('2019-05-27T11:00:00.000000000'),\n",
       " numpy.datetime64('2019-05-27T12:00:00.000000000'),\n",
       " numpy.datetime64('2019-05-27T13:00:00.000000000'),\n",
       " numpy.datetime64('2019-05-27T14:00:00.000000000'),\n",
       " numpy.datetime64('2019-05-27T15:00:00.000000000'),\n",
       " numpy.datetime64('2019-05-27T16:00:00.000000000'),\n",
       " numpy.datetime64('2019-05-27T17:00:00.000000000'),\n",
       " numpy.datetime64('2019-05-27T18:00:00.000000000'),\n",
       " numpy.datetime64('2019-05-27T19:00:00.000000000'),\n",
       " numpy.datetime64('2019-05-27T20:00:00.000000000'),\n",
       " numpy.datetime64('2019-05-27T21:00:00.000000000'),\n",
       " numpy.datetime64('2019-05-27T22:00:00.000000000'),\n",
       " numpy.datetime64('2019-05-27T23:00:00.000000000'),\n",
       " numpy.datetime64('2019-05-28T00:00:00.000000000'),\n",
       " numpy.datetime64('2019-05-28T01:00:00.000000000'),\n",
       " numpy.datetime64('2019-05-28T02:00:00.000000000'),\n",
       " numpy.datetime64('2019-05-28T03:00:00.000000000'),\n",
       " numpy.datetime64('2019-05-28T04:00:00.000000000'),\n",
       " numpy.datetime64('2019-05-28T05:00:00.000000000'),\n",
       " numpy.datetime64('2019-05-28T06:00:00.000000000'),\n",
       " numpy.datetime64('2019-05-28T07:00:00.000000000'),\n",
       " numpy.datetime64('2019-05-28T08:00:00.000000000'),\n",
       " numpy.datetime64('2019-05-28T09:00:00.000000000'),\n",
       " numpy.datetime64('2019-05-28T10:00:00.000000000'),\n",
       " numpy.datetime64('2019-05-28T11:00:00.000000000'),\n",
       " numpy.datetime64('2019-05-28T12:00:00.000000000'),\n",
       " numpy.datetime64('2019-05-28T13:00:00.000000000'),\n",
       " numpy.datetime64('2019-05-28T14:00:00.000000000'),\n",
       " numpy.datetime64('2019-05-28T15:00:00.000000000'),\n",
       " numpy.datetime64('2019-05-28T16:00:00.000000000'),\n",
       " numpy.datetime64('2019-05-28T17:00:00.000000000'),\n",
       " numpy.datetime64('2019-05-28T18:00:00.000000000'),\n",
       " numpy.datetime64('2019-05-28T19:00:00.000000000'),\n",
       " numpy.datetime64('2019-05-28T20:00:00.000000000'),\n",
       " numpy.datetime64('2019-05-28T21:00:00.000000000'),\n",
       " numpy.datetime64('2019-05-28T22:00:00.000000000'),\n",
       " numpy.datetime64('2019-05-28T23:00:00.000000000'),\n",
       " numpy.datetime64('2019-05-29T00:00:00.000000000'),\n",
       " numpy.datetime64('2019-05-29T01:00:00.000000000'),\n",
       " numpy.datetime64('2019-05-29T02:00:00.000000000'),\n",
       " numpy.datetime64('2019-05-29T03:00:00.000000000'),\n",
       " numpy.datetime64('2019-05-29T04:00:00.000000000'),\n",
       " numpy.datetime64('2019-05-29T05:00:00.000000000'),\n",
       " numpy.datetime64('2019-05-29T06:00:00.000000000'),\n",
       " numpy.datetime64('2019-05-29T07:00:00.000000000'),\n",
       " numpy.datetime64('2019-05-29T08:00:00.000000000'),\n",
       " numpy.datetime64('2019-05-29T09:00:00.000000000'),\n",
       " numpy.datetime64('2019-05-29T10:00:00.000000000'),\n",
       " numpy.datetime64('2019-05-29T11:00:00.000000000'),\n",
       " numpy.datetime64('2019-05-29T12:00:00.000000000'),\n",
       " numpy.datetime64('2019-05-29T13:00:00.000000000'),\n",
       " numpy.datetime64('2019-05-29T14:00:00.000000000'),\n",
       " numpy.datetime64('2019-05-29T15:00:00.000000000'),\n",
       " numpy.datetime64('2019-05-29T16:00:00.000000000'),\n",
       " numpy.datetime64('2019-05-29T17:00:00.000000000'),\n",
       " numpy.datetime64('2019-05-29T18:00:00.000000000'),\n",
       " numpy.datetime64('2019-05-29T19:00:00.000000000'),\n",
       " numpy.datetime64('2019-05-29T20:00:00.000000000'),\n",
       " numpy.datetime64('2019-05-29T21:00:00.000000000'),\n",
       " numpy.datetime64('2019-05-29T22:00:00.000000000'),\n",
       " numpy.datetime64('2019-05-29T23:00:00.000000000'),\n",
       " numpy.datetime64('2019-05-30T00:00:00.000000000'),\n",
       " numpy.datetime64('2019-05-30T01:00:00.000000000'),\n",
       " numpy.datetime64('2019-05-30T02:00:00.000000000'),\n",
       " numpy.datetime64('2019-05-30T03:00:00.000000000'),\n",
       " numpy.datetime64('2019-05-30T04:00:00.000000000'),\n",
       " numpy.datetime64('2019-05-30T05:00:00.000000000'),\n",
       " numpy.datetime64('2019-05-30T06:00:00.000000000'),\n",
       " numpy.datetime64('2019-05-30T07:00:00.000000000'),\n",
       " numpy.datetime64('2019-05-30T08:00:00.000000000'),\n",
       " numpy.datetime64('2019-05-30T09:00:00.000000000'),\n",
       " numpy.datetime64('2019-05-30T10:00:00.000000000'),\n",
       " numpy.datetime64('2019-05-30T11:00:00.000000000'),\n",
       " numpy.datetime64('2019-05-30T12:00:00.000000000'),\n",
       " numpy.datetime64('2019-05-30T13:00:00.000000000'),\n",
       " numpy.datetime64('2019-05-30T14:00:00.000000000'),\n",
       " numpy.datetime64('2019-05-30T15:00:00.000000000'),\n",
       " numpy.datetime64('2019-05-30T16:00:00.000000000'),\n",
       " numpy.datetime64('2019-05-30T17:00:00.000000000'),\n",
       " numpy.datetime64('2019-05-30T18:00:00.000000000'),\n",
       " numpy.datetime64('2019-05-30T19:00:00.000000000'),\n",
       " numpy.datetime64('2019-05-30T20:00:00.000000000'),\n",
       " numpy.datetime64('2019-05-30T21:00:00.000000000'),\n",
       " numpy.datetime64('2019-05-30T22:00:00.000000000'),\n",
       " numpy.datetime64('2019-05-30T23:00:00.000000000'),\n",
       " numpy.datetime64('2019-05-31T00:00:00.000000000'),\n",
       " numpy.datetime64('2019-05-31T01:00:00.000000000'),\n",
       " numpy.datetime64('2019-05-31T02:00:00.000000000'),\n",
       " numpy.datetime64('2019-05-31T03:00:00.000000000'),\n",
       " numpy.datetime64('2019-05-31T04:00:00.000000000'),\n",
       " numpy.datetime64('2019-05-31T05:00:00.000000000'),\n",
       " numpy.datetime64('2019-05-31T06:00:00.000000000'),\n",
       " numpy.datetime64('2019-05-31T07:00:00.000000000'),\n",
       " numpy.datetime64('2019-05-31T08:00:00.000000000'),\n",
       " numpy.datetime64('2019-05-31T09:00:00.000000000'),\n",
       " numpy.datetime64('2019-05-31T10:00:00.000000000'),\n",
       " numpy.datetime64('2019-05-31T11:00:00.000000000'),\n",
       " numpy.datetime64('2019-05-31T12:00:00.000000000'),\n",
       " numpy.datetime64('2019-05-31T13:00:00.000000000'),\n",
       " numpy.datetime64('2019-05-31T14:00:00.000000000'),\n",
       " numpy.datetime64('2019-05-31T15:00:00.000000000'),\n",
       " numpy.datetime64('2019-05-31T16:00:00.000000000'),\n",
       " numpy.datetime64('2019-05-31T17:00:00.000000000'),\n",
       " numpy.datetime64('2019-05-31T18:00:00.000000000'),\n",
       " numpy.datetime64('2019-05-31T19:00:00.000000000'),\n",
       " numpy.datetime64('2019-05-31T20:00:00.000000000'),\n",
       " numpy.datetime64('2019-05-31T21:00:00.000000000'),\n",
       " numpy.datetime64('2019-05-31T22:00:00.000000000'),\n",
       " numpy.datetime64('2019-05-31T23:00:00.000000000'),\n",
       " numpy.datetime64('2019-06-01T00:00:00.000000000'),\n",
       " numpy.datetime64('2019-06-01T01:00:00.000000000'),\n",
       " numpy.datetime64('2019-06-01T02:00:00.000000000'),\n",
       " numpy.datetime64('2019-06-01T03:00:00.000000000'),\n",
       " numpy.datetime64('2019-06-01T04:00:00.000000000'),\n",
       " numpy.datetime64('2019-06-01T05:00:00.000000000'),\n",
       " numpy.datetime64('2019-06-01T06:00:00.000000000'),\n",
       " numpy.datetime64('2019-06-01T07:00:00.000000000'),\n",
       " numpy.datetime64('2019-06-01T08:00:00.000000000'),\n",
       " numpy.datetime64('2019-06-01T09:00:00.000000000'),\n",
       " numpy.datetime64('2019-06-01T10:00:00.000000000'),\n",
       " numpy.datetime64('2019-06-01T11:00:00.000000000'),\n",
       " numpy.datetime64('2019-06-01T12:00:00.000000000'),\n",
       " numpy.datetime64('2019-06-01T13:00:00.000000000'),\n",
       " numpy.datetime64('2019-06-01T14:00:00.000000000'),\n",
       " numpy.datetime64('2019-06-01T15:00:00.000000000'),\n",
       " numpy.datetime64('2019-06-01T16:00:00.000000000'),\n",
       " numpy.datetime64('2019-06-01T17:00:00.000000000'),\n",
       " numpy.datetime64('2019-06-01T18:00:00.000000000'),\n",
       " numpy.datetime64('2019-06-01T19:00:00.000000000'),\n",
       " numpy.datetime64('2019-06-01T20:00:00.000000000'),\n",
       " numpy.datetime64('2019-06-01T21:00:00.000000000'),\n",
       " numpy.datetime64('2019-06-01T22:00:00.000000000'),\n",
       " numpy.datetime64('2019-06-01T23:00:00.000000000'),\n",
       " numpy.datetime64('2019-06-02T00:00:00.000000000'),\n",
       " numpy.datetime64('2019-06-02T01:00:00.000000000'),\n",
       " numpy.datetime64('2019-06-02T02:00:00.000000000'),\n",
       " numpy.datetime64('2019-06-02T03:00:00.000000000'),\n",
       " numpy.datetime64('2019-06-02T04:00:00.000000000'),\n",
       " numpy.datetime64('2019-06-02T05:00:00.000000000'),\n",
       " numpy.datetime64('2019-06-02T06:00:00.000000000'),\n",
       " numpy.datetime64('2019-06-02T07:00:00.000000000'),\n",
       " numpy.datetime64('2019-06-02T08:00:00.000000000'),\n",
       " numpy.datetime64('2019-06-02T09:00:00.000000000'),\n",
       " numpy.datetime64('2019-06-02T10:00:00.000000000'),\n",
       " numpy.datetime64('2019-06-02T11:00:00.000000000'),\n",
       " numpy.datetime64('2019-06-02T12:00:00.000000000'),\n",
       " numpy.datetime64('2019-06-02T13:00:00.000000000'),\n",
       " numpy.datetime64('2019-06-02T14:00:00.000000000'),\n",
       " numpy.datetime64('2019-06-02T15:00:00.000000000'),\n",
       " numpy.datetime64('2019-06-02T16:00:00.000000000'),\n",
       " numpy.datetime64('2019-06-02T17:00:00.000000000'),\n",
       " numpy.datetime64('2019-06-02T18:00:00.000000000'),\n",
       " numpy.datetime64('2019-06-02T19:00:00.000000000'),\n",
       " numpy.datetime64('2019-06-02T20:00:00.000000000'),\n",
       " numpy.datetime64('2019-06-02T21:00:00.000000000'),\n",
       " numpy.datetime64('2019-06-02T22:00:00.000000000'),\n",
       " numpy.datetime64('2019-06-02T23:00:00.000000000'),\n",
       " numpy.datetime64('2019-06-03T00:00:00.000000000'),\n",
       " numpy.datetime64('2019-06-03T01:00:00.000000000'),\n",
       " numpy.datetime64('2019-06-03T02:00:00.000000000'),\n",
       " numpy.datetime64('2019-06-03T03:00:00.000000000'),\n",
       " numpy.datetime64('2019-06-03T04:00:00.000000000'),\n",
       " numpy.datetime64('2019-06-03T05:00:00.000000000'),\n",
       " numpy.datetime64('2019-06-03T06:00:00.000000000'),\n",
       " numpy.datetime64('2019-06-03T07:00:00.000000000'),\n",
       " numpy.datetime64('2019-06-03T08:00:00.000000000'),\n",
       " numpy.datetime64('2019-06-03T09:00:00.000000000'),\n",
       " numpy.datetime64('2019-06-03T10:00:00.000000000'),\n",
       " numpy.datetime64('2019-06-03T11:00:00.000000000'),\n",
       " numpy.datetime64('2019-06-03T12:00:00.000000000'),\n",
       " numpy.datetime64('2019-06-03T13:00:00.000000000'),\n",
       " numpy.datetime64('2019-06-03T14:00:00.000000000'),\n",
       " numpy.datetime64('2019-06-03T15:00:00.000000000'),\n",
       " numpy.datetime64('2019-06-03T16:00:00.000000000'),\n",
       " numpy.datetime64('2019-06-03T17:00:00.000000000'),\n",
       " numpy.datetime64('2019-06-03T18:00:00.000000000'),\n",
       " numpy.datetime64('2019-06-03T19:00:00.000000000'),\n",
       " numpy.datetime64('2019-06-03T20:00:00.000000000'),\n",
       " numpy.datetime64('2019-06-03T21:00:00.000000000'),\n",
       " numpy.datetime64('2019-06-03T22:00:00.000000000'),\n",
       " numpy.datetime64('2019-06-03T23:00:00.000000000'),\n",
       " numpy.datetime64('2019-06-04T00:00:00.000000000'),\n",
       " numpy.datetime64('2019-06-04T01:00:00.000000000'),\n",
       " numpy.datetime64('2019-06-04T02:00:00.000000000'),\n",
       " numpy.datetime64('2019-06-04T03:00:00.000000000'),\n",
       " numpy.datetime64('2019-06-04T04:00:00.000000000'),\n",
       " numpy.datetime64('2019-06-04T05:00:00.000000000'),\n",
       " numpy.datetime64('2019-06-04T06:00:00.000000000'),\n",
       " numpy.datetime64('2019-06-04T07:00:00.000000000'),\n",
       " numpy.datetime64('2019-06-04T08:00:00.000000000'),\n",
       " numpy.datetime64('2019-06-04T09:00:00.000000000'),\n",
       " numpy.datetime64('2019-06-04T10:00:00.000000000'),\n",
       " numpy.datetime64('2019-06-04T11:00:00.000000000'),\n",
       " numpy.datetime64('2019-06-04T12:00:00.000000000'),\n",
       " numpy.datetime64('2019-06-04T13:00:00.000000000'),\n",
       " numpy.datetime64('2019-06-04T14:00:00.000000000'),\n",
       " numpy.datetime64('2019-06-04T15:00:00.000000000'),\n",
       " numpy.datetime64('2019-06-04T16:00:00.000000000'),\n",
       " numpy.datetime64('2019-06-04T17:00:00.000000000'),\n",
       " numpy.datetime64('2019-06-04T18:00:00.000000000'),\n",
       " numpy.datetime64('2019-06-04T19:00:00.000000000'),\n",
       " numpy.datetime64('2019-06-04T20:00:00.000000000'),\n",
       " numpy.datetime64('2019-06-04T21:00:00.000000000'),\n",
       " numpy.datetime64('2019-06-04T22:00:00.000000000'),\n",
       " numpy.datetime64('2019-06-04T23:00:00.000000000'),\n",
       " numpy.datetime64('2019-06-05T00:00:00.000000000'),\n",
       " numpy.datetime64('2019-06-05T01:00:00.000000000'),\n",
       " numpy.datetime64('2019-06-05T02:00:00.000000000'),\n",
       " numpy.datetime64('2019-06-05T03:00:00.000000000'),\n",
       " numpy.datetime64('2019-06-05T04:00:00.000000000'),\n",
       " numpy.datetime64('2019-06-05T05:00:00.000000000'),\n",
       " numpy.datetime64('2019-06-05T06:00:00.000000000'),\n",
       " numpy.datetime64('2019-06-05T07:00:00.000000000'),\n",
       " numpy.datetime64('2019-06-05T08:00:00.000000000'),\n",
       " numpy.datetime64('2019-06-05T09:00:00.000000000'),\n",
       " numpy.datetime64('2019-06-05T10:00:00.000000000'),\n",
       " numpy.datetime64('2019-06-05T11:00:00.000000000'),\n",
       " numpy.datetime64('2019-06-05T12:00:00.000000000'),\n",
       " numpy.datetime64('2019-06-05T13:00:00.000000000'),\n",
       " numpy.datetime64('2019-06-05T14:00:00.000000000'),\n",
       " numpy.datetime64('2019-06-05T15:00:00.000000000'),\n",
       " numpy.datetime64('2019-06-05T16:00:00.000000000'),\n",
       " numpy.datetime64('2019-06-05T17:00:00.000000000'),\n",
       " numpy.datetime64('2019-06-05T18:00:00.000000000'),\n",
       " numpy.datetime64('2019-06-05T19:00:00.000000000'),\n",
       " numpy.datetime64('2019-06-05T20:00:00.000000000'),\n",
       " numpy.datetime64('2019-06-05T21:00:00.000000000'),\n",
       " numpy.datetime64('2019-06-05T22:00:00.000000000'),\n",
       " numpy.datetime64('2019-06-05T23:00:00.000000000'),\n",
       " numpy.datetime64('2019-06-06T00:00:00.000000000'),\n",
       " numpy.datetime64('2019-06-06T01:00:00.000000000'),\n",
       " numpy.datetime64('2019-06-06T02:00:00.000000000'),\n",
       " numpy.datetime64('2019-06-06T03:00:00.000000000'),\n",
       " numpy.datetime64('2019-06-06T04:00:00.000000000'),\n",
       " numpy.datetime64('2019-06-06T05:00:00.000000000'),\n",
       " numpy.datetime64('2019-06-06T06:00:00.000000000'),\n",
       " numpy.datetime64('2019-06-06T07:00:00.000000000'),\n",
       " numpy.datetime64('2019-06-06T08:00:00.000000000'),\n",
       " numpy.datetime64('2019-06-06T09:00:00.000000000'),\n",
       " numpy.datetime64('2019-06-06T10:00:00.000000000'),\n",
       " numpy.datetime64('2019-06-06T11:00:00.000000000'),\n",
       " numpy.datetime64('2019-06-06T12:00:00.000000000'),\n",
       " numpy.datetime64('2019-06-06T13:00:00.000000000'),\n",
       " numpy.datetime64('2019-06-06T14:00:00.000000000'),\n",
       " numpy.datetime64('2019-06-06T15:00:00.000000000'),\n",
       " numpy.datetime64('2019-06-06T16:00:00.000000000'),\n",
       " numpy.datetime64('2019-06-06T17:00:00.000000000'),\n",
       " numpy.datetime64('2019-06-06T18:00:00.000000000'),\n",
       " numpy.datetime64('2019-06-06T19:00:00.000000000'),\n",
       " numpy.datetime64('2019-06-06T20:00:00.000000000'),\n",
       " numpy.datetime64('2019-06-06T21:00:00.000000000'),\n",
       " numpy.datetime64('2019-06-06T22:00:00.000000000'),\n",
       " numpy.datetime64('2019-06-06T23:00:00.000000000'),\n",
       " numpy.datetime64('2019-06-07T00:00:00.000000000'),\n",
       " numpy.datetime64('2019-06-07T01:00:00.000000000'),\n",
       " numpy.datetime64('2019-06-07T02:00:00.000000000'),\n",
       " numpy.datetime64('2019-06-07T03:00:00.000000000'),\n",
       " numpy.datetime64('2019-06-07T04:00:00.000000000'),\n",
       " numpy.datetime64('2019-06-07T05:00:00.000000000'),\n",
       " numpy.datetime64('2019-06-07T06:00:00.000000000'),\n",
       " numpy.datetime64('2019-06-07T07:00:00.000000000'),\n",
       " numpy.datetime64('2019-06-07T08:00:00.000000000'),\n",
       " numpy.datetime64('2019-06-07T09:00:00.000000000'),\n",
       " numpy.datetime64('2019-06-07T11:00:00.000000000'),\n",
       " numpy.datetime64('2019-06-07T12:00:00.000000000')]"
      ]
     },
     "execution_count": 50,
     "metadata": {},
     "output_type": "execute_result"
    }
   ],
   "source": [
    "sorted(flight_data['Date_hour_arr_sched'].unique())"
   ]
  },
  {
   "cell_type": "markdown",
   "metadata": {
    "colab_type": "text",
    "id": "9B41Gw37HKD0"
   },
   "source": []
  },
  {
   "cell_type": "markdown",
   "metadata": {
    "colab_type": "text",
    "id": "XNPvy3f4ASVd"
   },
   "source": [
    "# Merge flight data and weather data"
   ]
  },
  {
   "cell_type": "code",
   "execution_count": 51,
   "metadata": {
    "colab": {},
    "colab_type": "code",
    "id": "oCULvk6o6wG_"
   },
   "outputs": [],
   "source": [
    "# Join the 'agg_weather_df' to 'fligh_data' with 2 left join to add 2 new weather features\n",
    "# First left join : [flight_data['flight_origin_code_icao'] , flight_data['Date_hour_dep_sched'] ] == agg_weather_df.index\n",
    "# Second left join : [flight_data['flight_destination_code_icao'] , flight_data['Date_hour_arr_sched'] ] == agg_weather_df.index\n",
    "\n",
    "#flight_data.join()\n",
    "#flight_data.join()\n",
    "\n",
    "#flight_data_wt = flight_data\n",
    "\n",
    "join_keys_left1 = ['flight_origin_code_icao', 'Date_hour_dep_sched']\n",
    "join_keys_left2 = ['flight_origin_code_icao', 'Date_hour_arr_sched']\n",
    "\n",
    "join_keys_right = ['AIRPORT_ICAO', 'Date_hour']\n",
    "\n",
    "flight_data_wt = pd.merge(flight_data, agg_weather_df, how='inner', left_on=join_keys_left1, right_on= join_keys_right)\n",
    "flight_data_wt = pd.merge(flight_data_wt, agg_weather_df, how='left', left_on= join_keys_left2, right_on= join_keys_right)\n",
    "\n",
    "#flight_data_wt = pd.merge(flight_data, agg_weather_df, how='inner', left_on=['flight_origin_code_icao', 'Date_hour_dep_sched'], right_on=['AIRPORT_ICAO', 'Date_hour'])\n",
    "#flight_data_wt = pd.merge(flight_data, agg_weather_df, how='left', left_on=['Date_hour_dep_sched'], right_on=['Date_hour'])\n",
    "#flight_data_wt = pd.merge(flight_data, agg_weather_df, how='inner', left_on=['Date_hour_dep_sched'], right_on=['Date_hour'])"
   ]
  },
  {
   "cell_type": "code",
   "execution_count": 52,
   "metadata": {
    "colab": {
     "base_uri": "https://localhost:8080/",
     "height": 890
    },
    "colab_type": "code",
    "id": "OcPVr2vuhfj4",
    "outputId": "ffdbcee1-39a9-4974-d1a3-4f06db5e0c6e"
   },
   "outputs": [
    {
     "data": {
      "text/plain": [
       "mode                                  0\n",
       "flight_number                         0\n",
       "callsign                              0\n",
       "aircraft_model_code                   0\n",
       "aircraft_model_description            0\n",
       "aircraft_registration                 0\n",
       "airline_name                          0\n",
       "airline_iata                          0\n",
       "airline_icao                          0\n",
       "flight_origin_code_iata               0\n",
       "flight_origin_code_icao               0\n",
       "flight_origin_name                    0\n",
       "flight_origin_time_offset             0\n",
       "flight_destination_code_iata          0\n",
       "flight_destination_code_icao          0\n",
       "flight_destination_name               0\n",
       "flight_destination_time_offset        0\n",
       "flight_departure_scheduled            0\n",
       "flight_departure_real                 0\n",
       "flight_arrival_scheduled              0\n",
       "flight_arrival_real                   0\n",
       "Cancelations                          0\n",
       "Departure_delay                       0\n",
       "Arrival_delay                         0\n",
       "main_target                           0\n",
       "target_1step                          0\n",
       "target_2step                          0\n",
       "diff_arr_sched_dep_sched              0\n",
       "diff_dep_real_dep_sched               0\n",
       "diff_arr_sched_dep_real               0\n",
       "hour_dep_sched                        0\n",
       "hour_arr_sched                        0\n",
       "Date_hour_dep_sched                   0\n",
       "Date_hour_arr_sched                   0\n",
       "hour_dep_real                      5791\n",
       "Dew point_x                        1134\n",
       "Wind direction_x                   9093\n",
       "Wind speed_x                         23\n",
       "Pressure_x                          155\n",
       "Visibility_x                      19795\n",
       "Temperature_x                       155\n",
       "Dew point_y                        4673\n",
       "Wind direction_y                  11905\n",
       "Wind speed_y                       3662\n",
       "Pressure_y                         3704\n",
       "Visibility_y                      23527\n",
       "Temperature_y                      3704\n",
       "dtype: int64"
      ]
     },
     "execution_count": 52,
     "metadata": {},
     "output_type": "execute_result"
    }
   ],
   "source": [
    "np.sum(flight_data_wt.isnull()*1)"
   ]
  },
  {
   "cell_type": "code",
   "execution_count": 53,
   "metadata": {
    "colab": {
     "base_uri": "https://localhost:8080/",
     "height": 35
    },
    "colab_type": "code",
    "id": "pCs0hz7ihwZU",
    "outputId": "a9270471-3d8f-44cd-bb95-4cc814be291e"
   },
   "outputs": [
    {
     "data": {
      "text/plain": [
       "123793"
      ]
     },
     "execution_count": 53,
     "metadata": {},
     "output_type": "execute_result"
    }
   ],
   "source": [
    "len(flight_data_wt)"
   ]
  },
  {
   "cell_type": "code",
   "execution_count": 54,
   "metadata": {
    "colab": {},
    "colab_type": "code",
    "id": "qFK4uKCMgxc-"
   },
   "outputs": [],
   "source": [
    "# Fill NaN of categorical variables\n",
    "for column in list(flight_data_wt.select_dtypes('object').columns):\n",
    "    flight_data_wt[column].fillna('NoData', inplace=True)\n",
    "    \n",
    "# Fill NaN of categorical variables\n",
    "for column in list(flight_data_wt.select_dtypes('float64').columns):\n",
    "    flight_data_wt[column].fillna(9999999, inplace=True)"
   ]
  },
  {
   "cell_type": "code",
   "execution_count": 55,
   "metadata": {
    "colab": {},
    "colab_type": "code",
    "id": "iShl166576Xu"
   },
   "outputs": [],
   "source": [
    "# Drop date_hour columns from flight_weather dataframe (Use this new dataframe to assign to X_main in the next section. Can keep the name flight_data to not make changes in next section)\n",
    "flight_data_wt.drop(['Date_hour_dep_sched','Date_hour_arr_sched'], axis=1, inplace=True)"
   ]
  },
  {
   "cell_type": "code",
   "execution_count": 56,
   "metadata": {
    "colab": {
     "base_uri": "https://localhost:8080/",
     "height": 854
    },
    "colab_type": "code",
    "id": "FFYj7hbcTm01",
    "outputId": "3f64c3de-18f4-4ecc-c378-d8ddccae82bc"
   },
   "outputs": [
    {
     "data": {
      "text/plain": [
       "mode                               object\n",
       "flight_number                      object\n",
       "callsign                           object\n",
       "aircraft_model_code                object\n",
       "aircraft_model_description         object\n",
       "aircraft_registration              object\n",
       "airline_name                       object\n",
       "airline_iata                       object\n",
       "airline_icao                       object\n",
       "flight_origin_code_iata            object\n",
       "flight_origin_code_icao            object\n",
       "flight_origin_name                 object\n",
       "flight_origin_time_offset           int64\n",
       "flight_destination_code_iata       object\n",
       "flight_destination_code_icao       object\n",
       "flight_destination_name            object\n",
       "flight_destination_time_offset      int64\n",
       "flight_departure_scheduled          int64\n",
       "flight_departure_real               int64\n",
       "flight_arrival_scheduled            int64\n",
       "flight_arrival_real                 int64\n",
       "Cancelations                        int32\n",
       "Departure_delay                     int32\n",
       "Arrival_delay                       int32\n",
       "main_target                        object\n",
       "target_1step                       object\n",
       "target_2step                       object\n",
       "diff_arr_sched_dep_sched            int64\n",
       "diff_dep_real_dep_sched             int64\n",
       "diff_arr_sched_dep_real             int64\n",
       "hour_dep_sched                      int64\n",
       "hour_arr_sched                      int64\n",
       "hour_dep_real                     float64\n",
       "Dew point_x                       float64\n",
       "Wind direction_x                  float64\n",
       "Wind speed_x                      float64\n",
       "Pressure_x                        float64\n",
       "Visibility_x                      float64\n",
       "Temperature_x                     float64\n",
       "Dew point_y                       float64\n",
       "Wind direction_y                  float64\n",
       "Wind speed_y                      float64\n",
       "Pressure_y                        float64\n",
       "Visibility_y                      float64\n",
       "Temperature_y                     float64\n",
       "dtype: object"
      ]
     },
     "execution_count": 56,
     "metadata": {},
     "output_type": "execute_result"
    }
   ],
   "source": [
    "flight_data_wt.dtypes"
   ]
  },
  {
   "cell_type": "code",
   "execution_count": 57,
   "metadata": {
    "colab": {
     "base_uri": "https://localhost:8080/",
     "height": 72
    },
    "colab_type": "code",
    "id": "Ei_Gfyfnrk1-",
    "outputId": "4acceef2-5336-4b56-e0a9-b77b0e20831a"
   },
   "outputs": [
    {
     "data": {
      "text/plain": [
       "array(['Departure delay', 'No delay No cancelation',\n",
       "       'Departure delay Arrival delay', 'Cancelation', 'Arrival delay'],\n",
       "      dtype=object)"
      ]
     },
     "execution_count": 57,
     "metadata": {},
     "output_type": "execute_result"
    }
   ],
   "source": [
    "flight_data_wt['main_target'].unique()"
   ]
  },
  {
   "cell_type": "code",
   "execution_count": 58,
   "metadata": {
    "colab": {
     "base_uri": "https://localhost:8080/",
     "height": 198
    },
    "colab_type": "code",
    "id": "cV1opvJA2c6l",
    "outputId": "228a7bae-92e0-4f0d-a412-7802d7819724"
   },
   "outputs": [
    {
     "data": {
      "text/html": [
       "<div>\n",
       "<style scoped>\n",
       "    .dataframe tbody tr th:only-of-type {\n",
       "        vertical-align: middle;\n",
       "    }\n",
       "\n",
       "    .dataframe tbody tr th {\n",
       "        vertical-align: top;\n",
       "    }\n",
       "\n",
       "    .dataframe thead th {\n",
       "        text-align: right;\n",
       "    }\n",
       "</style>\n",
       "<table border=\"1\" class=\"dataframe\">\n",
       "  <thead>\n",
       "    <tr style=\"text-align: right;\">\n",
       "      <th></th>\n",
       "      <th>categories</th>\n",
       "      <th>examples</th>\n",
       "    </tr>\n",
       "  </thead>\n",
       "  <tbody>\n",
       "    <tr>\n",
       "      <th>0</th>\n",
       "      <td>Departure delay</td>\n",
       "      <td>64497</td>\n",
       "    </tr>\n",
       "    <tr>\n",
       "      <th>1</th>\n",
       "      <td>No delay No cancelation</td>\n",
       "      <td>39706</td>\n",
       "    </tr>\n",
       "    <tr>\n",
       "      <th>2</th>\n",
       "      <td>Departure delay Arrival delay</td>\n",
       "      <td>13476</td>\n",
       "    </tr>\n",
       "    <tr>\n",
       "      <th>3</th>\n",
       "      <td>Cancelation</td>\n",
       "      <td>5791</td>\n",
       "    </tr>\n",
       "    <tr>\n",
       "      <th>4</th>\n",
       "      <td>Arrival delay</td>\n",
       "      <td>323</td>\n",
       "    </tr>\n",
       "  </tbody>\n",
       "</table>\n",
       "</div>"
      ],
      "text/plain": [
       "                      categories  examples\n",
       "0                Departure delay     64497\n",
       "1        No delay No cancelation     39706\n",
       "2  Departure delay Arrival delay     13476\n",
       "3                    Cancelation      5791\n",
       "4                  Arrival delay       323"
      ]
     },
     "metadata": {},
     "output_type": "display_data"
    }
   ],
   "source": [
    "targ_counts = pd.DataFrame(flight_data_wt['main_target'].value_counts().tolist(),columns=[\"examples\"])\n",
    "targ_keys = pd.DataFrame(flight_data_wt['main_target'].value_counts().keys().tolist(),columns=[\"categories\"])\n",
    "df_categs_info = pd.concat([targ_keys,targ_counts], axis=1)\n",
    "display(df_categs_info)"
   ]
  },
  {
   "cell_type": "code",
   "execution_count": 59,
   "metadata": {},
   "outputs": [
    {
     "data": {
      "text/plain": [
       "(123793, 45)"
      ]
     },
     "execution_count": 59,
     "metadata": {},
     "output_type": "execute_result"
    }
   ],
   "source": [
    "flight_data_wt.shape"
   ]
  },
  {
   "cell_type": "code",
   "execution_count": 60,
   "metadata": {
    "colab": {
     "base_uri": "https://localhost:8080/",
     "height": 90
    },
    "colab_type": "code",
    "id": "ybA7WgzCrW25",
    "outputId": "d86adcd0-17f5-4438-c0ef-7e18e8f7ff31"
   },
   "outputs": [
    {
     "data": {
      "text/plain": [
       "Departure delay            77973\n",
       "No delay No cancelation    40029\n",
       "Cancelation                 5791\n",
       "Name: target_1step, dtype: int64"
      ]
     },
     "execution_count": 60,
     "metadata": {},
     "output_type": "execute_result"
    }
   ],
   "source": [
    "flight_data_wt['target_1step'].value_counts()"
   ]
  },
  {
   "cell_type": "code",
   "execution_count": 61,
   "metadata": {
    "colab": {
     "base_uri": "https://localhost:8080/",
     "height": 138
    },
    "colab_type": "code",
    "id": "-DUhuN4-t7MR",
    "outputId": "fd96cc10-37dc-4d6f-e034-e94de9320bb3",
    "scrolled": true
   },
   "outputs": [
    {
     "data": {
      "text/html": [
       "<div>\n",
       "<style scoped>\n",
       "    .dataframe tbody tr th:only-of-type {\n",
       "        vertical-align: middle;\n",
       "    }\n",
       "\n",
       "    .dataframe tbody tr th {\n",
       "        vertical-align: top;\n",
       "    }\n",
       "\n",
       "    .dataframe thead th {\n",
       "        text-align: right;\n",
       "    }\n",
       "</style>\n",
       "<table border=\"1\" class=\"dataframe\">\n",
       "  <thead>\n",
       "    <tr style=\"text-align: right;\">\n",
       "      <th></th>\n",
       "      <th>categories</th>\n",
       "      <th>examples</th>\n",
       "    </tr>\n",
       "  </thead>\n",
       "  <tbody>\n",
       "    <tr>\n",
       "      <th>0</th>\n",
       "      <td>Departure delay</td>\n",
       "      <td>77973</td>\n",
       "    </tr>\n",
       "    <tr>\n",
       "      <th>1</th>\n",
       "      <td>No delay No cancelation</td>\n",
       "      <td>40029</td>\n",
       "    </tr>\n",
       "    <tr>\n",
       "      <th>2</th>\n",
       "      <td>Cancelation</td>\n",
       "      <td>5791</td>\n",
       "    </tr>\n",
       "  </tbody>\n",
       "</table>\n",
       "</div>"
      ],
      "text/plain": [
       "                categories  examples\n",
       "0          Departure delay     77973\n",
       "1  No delay No cancelation     40029\n",
       "2              Cancelation      5791"
      ]
     },
     "metadata": {},
     "output_type": "display_data"
    }
   ],
   "source": [
    "targ_counts = pd.DataFrame(flight_data_wt['target_1step'].value_counts().tolist(),columns=[\"examples\"])\n",
    "targ_keys = pd.DataFrame(flight_data_wt['target_1step'].value_counts().keys().tolist(),columns=[\"categories\"])\n",
    "display(pd.concat([targ_keys,targ_counts], axis=1))"
   ]
  },
  {
   "cell_type": "code",
   "execution_count": 62,
   "metadata": {
    "colab": {
     "base_uri": "https://localhost:8080/",
     "height": 90
    },
    "colab_type": "code",
    "id": "VKMHJMVkt7MU",
    "outputId": "69eac11f-08f7-4672-fa72-acd1e6435218"
   },
   "outputs": [
    {
     "data": {
      "text/plain": [
       "Departure delay            0.629866\n",
       "No delay No cancelation    0.323354\n",
       "Cancelation                0.046780\n",
       "Name: target_1step, dtype: float64"
      ]
     },
     "execution_count": 62,
     "metadata": {},
     "output_type": "execute_result"
    }
   ],
   "source": [
    "flight_data_wt['target_1step'].value_counts()/len(flight_data_wt['target_1step'])"
   ]
  },
  {
   "cell_type": "code",
   "execution_count": 63,
   "metadata": {
    "colab": {
     "base_uri": "https://localhost:8080/",
     "height": 108
    },
    "colab_type": "code",
    "id": "2EfyDhP32SL4",
    "outputId": "1bf09260-5b52-41b3-e824-85b490d23426"
   },
   "outputs": [
    {
     "data": {
      "text/html": [
       "<div>\n",
       "<style scoped>\n",
       "    .dataframe tbody tr th:only-of-type {\n",
       "        vertical-align: middle;\n",
       "    }\n",
       "\n",
       "    .dataframe tbody tr th {\n",
       "        vertical-align: top;\n",
       "    }\n",
       "\n",
       "    .dataframe thead th {\n",
       "        text-align: right;\n",
       "    }\n",
       "</style>\n",
       "<table border=\"1\" class=\"dataframe\">\n",
       "  <thead>\n",
       "    <tr style=\"text-align: right;\">\n",
       "      <th></th>\n",
       "      <th>categories</th>\n",
       "      <th>examples</th>\n",
       "    </tr>\n",
       "  </thead>\n",
       "  <tbody>\n",
       "    <tr>\n",
       "      <th>0</th>\n",
       "      <td>No arrival delay</td>\n",
       "      <td>109994</td>\n",
       "    </tr>\n",
       "    <tr>\n",
       "      <th>1</th>\n",
       "      <td>Arrival delay</td>\n",
       "      <td>13799</td>\n",
       "    </tr>\n",
       "  </tbody>\n",
       "</table>\n",
       "</div>"
      ],
      "text/plain": [
       "         categories  examples\n",
       "0  No arrival delay    109994\n",
       "1     Arrival delay     13799"
      ]
     },
     "metadata": {},
     "output_type": "display_data"
    }
   ],
   "source": [
    "targ_counts1 = pd.DataFrame(flight_data_wt['target_2step'].value_counts().tolist(),columns=[\"examples\"])\n",
    "targ_keys1 = pd.DataFrame(flight_data_wt['target_2step'].value_counts().keys().tolist(),columns=[\"categories\"])\n",
    "display(pd.concat([targ_keys1,targ_counts1], axis=1))"
   ]
  },
  {
   "cell_type": "code",
   "execution_count": 64,
   "metadata": {
    "colab": {
     "base_uri": "https://localhost:8080/",
     "height": 72
    },
    "colab_type": "code",
    "id": "DfNnBSVKt7MX",
    "outputId": "3817b663-f47e-47ce-ebe3-045c817452dc"
   },
   "outputs": [
    {
     "data": {
      "text/plain": [
       "No arrival delay    0.888532\n",
       "Arrival delay       0.111468\n",
       "Name: target_2step, dtype: float64"
      ]
     },
     "execution_count": 64,
     "metadata": {},
     "output_type": "execute_result"
    }
   ],
   "source": [
    "flight_data_wt['target_2step'].value_counts()/len(flight_data_wt['target_2step'])"
   ]
  },
  {
   "cell_type": "code",
   "execution_count": 65,
   "metadata": {
    "colab": {},
    "colab_type": "code",
    "id": "dhIhI0Z9Tsq8"
   },
   "outputs": [],
   "source": [
    "#flight_data_wt.info()"
   ]
  },
  {
   "cell_type": "markdown",
   "metadata": {
    "colab_type": "text",
    "id": "ilPqRztqt7Mb"
   },
   "source": [
    "## Scaling all numerical values between 0 and 1"
   ]
  },
  {
   "cell_type": "code",
   "execution_count": 66,
   "metadata": {
    "colab": {},
    "colab_type": "code",
    "id": "C8q06ohyt7Mc"
   },
   "outputs": [],
   "source": [
    "# flight_data_wt.dtypes"
   ]
  },
  {
   "cell_type": "code",
   "execution_count": 67,
   "metadata": {
    "colab": {},
    "colab_type": "code",
    "id": "ZhFq8XKat7Md"
   },
   "outputs": [],
   "source": [
    "from sklearn import preprocessing\n",
    "min_max_scaler = preprocessing.MinMaxScaler()\n",
    "\n",
    "def scaleColumns(df, cols_to_scale):\n",
    "    for col in cols_to_scale:\n",
    "        df[col] = pd.DataFrame(min_max_scaler.fit_transform(pd.DataFrame(df[col])),columns=[col])\n",
    "    return df"
   ]
  },
  {
   "cell_type": "code",
   "execution_count": 68,
   "metadata": {
    "colab": {
     "base_uri": "https://localhost:8080/",
     "height": 339
    },
    "colab_type": "code",
    "id": "1CdrGBW0t7Me",
    "outputId": "db536b9c-b76f-4f96-f346-81ee00823821"
   },
   "outputs": [
    {
     "data": {
      "text/html": [
       "<div>\n",
       "<style scoped>\n",
       "    .dataframe tbody tr th:only-of-type {\n",
       "        vertical-align: middle;\n",
       "    }\n",
       "\n",
       "    .dataframe tbody tr th {\n",
       "        vertical-align: top;\n",
       "    }\n",
       "\n",
       "    .dataframe thead th {\n",
       "        text-align: right;\n",
       "    }\n",
       "</style>\n",
       "<table border=\"1\" class=\"dataframe\">\n",
       "  <thead>\n",
       "    <tr style=\"text-align: right;\">\n",
       "      <th></th>\n",
       "      <th>mode</th>\n",
       "      <th>flight_number</th>\n",
       "      <th>callsign</th>\n",
       "      <th>aircraft_model_code</th>\n",
       "      <th>aircraft_model_description</th>\n",
       "      <th>aircraft_registration</th>\n",
       "      <th>airline_name</th>\n",
       "      <th>airline_iata</th>\n",
       "      <th>airline_icao</th>\n",
       "      <th>flight_origin_code_iata</th>\n",
       "      <th>...</th>\n",
       "      <th>Wind speed_x</th>\n",
       "      <th>Pressure_x</th>\n",
       "      <th>Visibility_x</th>\n",
       "      <th>Temperature_x</th>\n",
       "      <th>Dew point_y</th>\n",
       "      <th>Wind direction_y</th>\n",
       "      <th>Wind speed_y</th>\n",
       "      <th>Pressure_y</th>\n",
       "      <th>Visibility_y</th>\n",
       "      <th>Temperature_y</th>\n",
       "    </tr>\n",
       "  </thead>\n",
       "  <tbody>\n",
       "    <tr>\n",
       "      <th>0</th>\n",
       "      <td>departures</td>\n",
       "      <td>U2895</td>\n",
       "      <td>EZY36JH</td>\n",
       "      <td>A319</td>\n",
       "      <td>Airbus A319-111</td>\n",
       "      <td>G</td>\n",
       "      <td>Others</td>\n",
       "      <td>U2</td>\n",
       "      <td>EZY</td>\n",
       "      <td>LGW</td>\n",
       "      <td>...</td>\n",
       "      <td>0.000001</td>\n",
       "      <td>0.000097</td>\n",
       "      <td>0.001</td>\n",
       "      <td>0.000001</td>\n",
       "      <td>0.000001</td>\n",
       "      <td>0.000014</td>\n",
       "      <td>6.000001e-07</td>\n",
       "      <td>0.000098</td>\n",
       "      <td>0.0010</td>\n",
       "      <td>0.000001</td>\n",
       "    </tr>\n",
       "    <tr>\n",
       "      <th>1</th>\n",
       "      <td>departures</td>\n",
       "      <td>BT654</td>\n",
       "      <td>BTI6BM</td>\n",
       "      <td>BCS3</td>\n",
       "      <td>Airbus A220-300</td>\n",
       "      <td>YL</td>\n",
       "      <td>Others</td>\n",
       "      <td>BT</td>\n",
       "      <td>BTI</td>\n",
       "      <td>LGW</td>\n",
       "      <td>...</td>\n",
       "      <td>0.000001</td>\n",
       "      <td>0.000097</td>\n",
       "      <td>0.001</td>\n",
       "      <td>0.000001</td>\n",
       "      <td>0.000002</td>\n",
       "      <td>0.000016</td>\n",
       "      <td>5.000001e-07</td>\n",
       "      <td>0.000097</td>\n",
       "      <td>0.0009</td>\n",
       "      <td>0.000001</td>\n",
       "    </tr>\n",
       "    <tr>\n",
       "      <th>2</th>\n",
       "      <td>departures</td>\n",
       "      <td>BA2964</td>\n",
       "      <td>SHT42M</td>\n",
       "      <td>A319</td>\n",
       "      <td>Airbus A319-131</td>\n",
       "      <td>G</td>\n",
       "      <td>British Airways</td>\n",
       "      <td>BA</td>\n",
       "      <td>BAW</td>\n",
       "      <td>LGW</td>\n",
       "      <td>...</td>\n",
       "      <td>0.000001</td>\n",
       "      <td>0.000097</td>\n",
       "      <td>0.001</td>\n",
       "      <td>0.000001</td>\n",
       "      <td>0.000002</td>\n",
       "      <td>0.000018</td>\n",
       "      <td>4.000000e-07</td>\n",
       "      <td>0.000097</td>\n",
       "      <td>0.0008</td>\n",
       "      <td>0.000001</td>\n",
       "    </tr>\n",
       "    <tr>\n",
       "      <th>3</th>\n",
       "      <td>departures</td>\n",
       "      <td>UX1016</td>\n",
       "      <td>AEA62VG</td>\n",
       "      <td>B738</td>\n",
       "      <td>Boeing 737-85P</td>\n",
       "      <td>EC</td>\n",
       "      <td>Air Europa</td>\n",
       "      <td>UX</td>\n",
       "      <td>AEA</td>\n",
       "      <td>LGW</td>\n",
       "      <td>...</td>\n",
       "      <td>0.000001</td>\n",
       "      <td>0.000097</td>\n",
       "      <td>0.001</td>\n",
       "      <td>0.000001</td>\n",
       "      <td>0.000002</td>\n",
       "      <td>0.000016</td>\n",
       "      <td>5.000001e-07</td>\n",
       "      <td>0.000097</td>\n",
       "      <td>0.0009</td>\n",
       "      <td>0.000001</td>\n",
       "    </tr>\n",
       "    <tr>\n",
       "      <th>4</th>\n",
       "      <td>arrivals</td>\n",
       "      <td>BA2273</td>\n",
       "      <td>BAW2273</td>\n",
       "      <td>B772</td>\n",
       "      <td>Boeing 777-236(ER)</td>\n",
       "      <td>G</td>\n",
       "      <td>British Airways</td>\n",
       "      <td>BA</td>\n",
       "      <td>BAW</td>\n",
       "      <td>LGW</td>\n",
       "      <td>...</td>\n",
       "      <td>0.000001</td>\n",
       "      <td>0.000097</td>\n",
       "      <td>0.001</td>\n",
       "      <td>0.000001</td>\n",
       "      <td>0.000001</td>\n",
       "      <td>0.000020</td>\n",
       "      <td>5.000001e-07</td>\n",
       "      <td>0.000097</td>\n",
       "      <td>0.0010</td>\n",
       "      <td>0.000001</td>\n",
       "    </tr>\n",
       "  </tbody>\n",
       "</table>\n",
       "<p>5 rows × 45 columns</p>\n",
       "</div>"
      ],
      "text/plain": [
       "         mode flight_number callsign aircraft_model_code  \\\n",
       "0  departures         U2895  EZY36JH                A319   \n",
       "1  departures         BT654   BTI6BM                BCS3   \n",
       "2  departures        BA2964   SHT42M                A319   \n",
       "3  departures        UX1016  AEA62VG                B738   \n",
       "4    arrivals        BA2273  BAW2273                B772   \n",
       "\n",
       "  aircraft_model_description aircraft_registration     airline_name  \\\n",
       "0            Airbus A319-111                     G           Others   \n",
       "1            Airbus A220-300                    YL           Others   \n",
       "2            Airbus A319-131                     G  British Airways   \n",
       "3             Boeing 737-85P                    EC       Air Europa   \n",
       "4         Boeing 777-236(ER)                     G  British Airways   \n",
       "\n",
       "  airline_iata airline_icao flight_origin_code_iata  ... Wind speed_x  \\\n",
       "0           U2          EZY                     LGW  ...     0.000001   \n",
       "1           BT          BTI                     LGW  ...     0.000001   \n",
       "2           BA          BAW                     LGW  ...     0.000001   \n",
       "3           UX          AEA                     LGW  ...     0.000001   \n",
       "4           BA          BAW                     LGW  ...     0.000001   \n",
       "\n",
       "  Pressure_x  Visibility_x Temperature_x Dew point_y Wind direction_y  \\\n",
       "0   0.000097         0.001      0.000001    0.000001         0.000014   \n",
       "1   0.000097         0.001      0.000001    0.000002         0.000016   \n",
       "2   0.000097         0.001      0.000001    0.000002         0.000018   \n",
       "3   0.000097         0.001      0.000001    0.000002         0.000016   \n",
       "4   0.000097         0.001      0.000001    0.000001         0.000020   \n",
       "\n",
       "   Wind speed_y  Pressure_y  Visibility_y  Temperature_y  \n",
       "0  6.000001e-07    0.000098        0.0010       0.000001  \n",
       "1  5.000001e-07    0.000097        0.0009       0.000001  \n",
       "2  4.000000e-07    0.000097        0.0008       0.000001  \n",
       "3  5.000001e-07    0.000097        0.0009       0.000001  \n",
       "4  5.000001e-07    0.000097        0.0010       0.000001  \n",
       "\n",
       "[5 rows x 45 columns]"
      ]
     },
     "execution_count": 68,
     "metadata": {},
     "output_type": "execute_result"
    }
   ],
   "source": [
    "# Fill NaN of categorical variables\n",
    "\n",
    "flight_data_wt_scaled = flight_data_wt.copy()\n",
    "\n",
    "num_cols_data = list(flight_data_wt_scaled.select_dtypes([\"float64\",\"int64\",\"int32\"]).columns)\n",
    "\n",
    "\n",
    "flight_data_wt_scaled_ = scaleColumns(flight_data_wt_scaled,num_cols_data)\n",
    "\n",
    "flight_data_wt_scaled_.head()"
   ]
  },
  {
   "cell_type": "markdown",
   "metadata": {
    "colab_type": "text",
    "id": "xBRMzPojAqxR"
   },
   "source": [
    "# Train / Test **split**"
   ]
  },
  {
   "cell_type": "code",
   "execution_count": 69,
   "metadata": {
    "colab": {},
    "colab_type": "code",
    "id": "5lC4cq9zBOLf"
   },
   "outputs": [],
   "source": [
    "# Add an ID column to merge the results of the two classification steps\n",
    "flight_data_wt_scaled_.reset_index(drop=True, inplace=True)\n",
    "flight_data_wt_scaled_.reset_index(inplace=True)"
   ]
  },
  {
   "cell_type": "code",
   "execution_count": 70,
   "metadata": {
    "colab": {},
    "colab_type": "code",
    "id": "r4ZU3YnapKqW"
   },
   "outputs": [],
   "source": [
    "from sklearn.preprocessing import LabelEncoder\n",
    "LE = LabelEncoder()\n",
    "\n",
    "# Drop unecessary columns for training\n",
    "X_main = flight_data_wt_scaled_.drop([ \\\n",
    "                           'mode', 'flight_number', 'callsign', 'airline_iata', \\\n",
    "                           'airline_icao', 'flight_origin_code_iata',  \\\n",
    "                           'flight_origin_name', 'flight_destination_code_iata', \\\n",
    "                           'flight_destination_name', 'flight_departure_scheduled', \\\n",
    "                           'flight_departure_real', 'flight_arrival_scheduled', \\\n",
    "                           'flight_arrival_real', 'Cancelations', 'Departure_delay', \\\n",
    "                           'Arrival_delay', 'index'], axis=1)\n",
    "\n",
    "# Encode the target variables\n",
    "X_main['main_target'] = LE.fit_transform(X_main['main_target']) # Not used\n",
    "X_main['target_1step'] = LE.fit_transform(X_main['target_1step'])\n",
    "X_main['target_2step'] = LE.fit_transform(X_main['target_2step'])\n",
    "\n",
    "# Put targets in variables\n",
    "main_target = X_main['main_target']\n",
    "target_1step = X_main['target_1step']\n",
    "target_2step = X_main['target_2step']\n",
    "\n",
    "y_main = main_target\n",
    "\n",
    "# Regroup training features\n",
    "X_main.drop(['main_target','target_1step','target_2step'], axis=1, inplace=True)"
   ]
  },
  {
   "cell_type": "code",
   "execution_count": 71,
   "metadata": {
    "colab": {},
    "colab_type": "code",
    "id": "Td81DiBxoXBv"
   },
   "outputs": [],
   "source": [
    "from sklearn.model_selection import train_test_split\n",
    "\n",
    "# Sets not used for training, just for potential analysis/debug\n",
    "X_train_main, X_test_main, y_train_main, y_test_main     = train_test_split(X_main, y_main, test_size=0.35, random_state=42, shuffle=True, stratify = y_main)\n",
    "\n",
    "# Sets for the 1st step. Remove the features that contains departure real time information\n",
    "X_train_1step, X_test_1step, y_train_1step, y_test_1step = train_test_split(X_main.drop(['diff_dep_real_dep_sched', 'diff_arr_sched_dep_real', 'hour_dep_real'], axis=1), target_1step, test_size=0.35, random_state=42, shuffle=True, stratify = target_1step) \n",
    "\n",
    "# Sets for the 2nd step. Remove cancellations in order to only model the flights that took off\n",
    "X_train_2step, X_test_2step, y_train_2step, y_test_2step = train_test_split(X_main.drop(X_main[flight_data_wt.Cancelations == 1].index), target_2step.drop(X_main[flight_data_wt.Cancelations == 1].index), test_size=0.35, random_state=42, shuffle=True, stratify = target_2step.drop(X_main[flight_data_wt.Cancelations == 1].index)) "
   ]
  },
  {
   "cell_type": "code",
   "execution_count": 72,
   "metadata": {
    "colab": {
     "base_uri": "https://localhost:8080/",
     "height": 90
    },
    "colab_type": "code",
    "id": "3gkhxJCPNKnw",
    "outputId": "b5c0ef06-2cb2-4172-c4ff-56667485fbee",
    "scrolled": true
   },
   "outputs": [
    {
     "data": {
      "text/plain": [
       "1    0.629864\n",
       "2    0.323358\n",
       "0    0.046778\n",
       "Name: target_1step, dtype: float64"
      ]
     },
     "execution_count": 72,
     "metadata": {},
     "output_type": "execute_result"
    }
   ],
   "source": [
    "y_train_1step.value_counts()/len(y_train_1step)"
   ]
  },
  {
   "cell_type": "code",
   "execution_count": 73,
   "metadata": {},
   "outputs": [
    {
     "data": {
      "text/plain": [
       "1    50682\n",
       "2    26019\n",
       "0     3764\n",
       "Name: target_1step, dtype: int64"
      ]
     },
     "execution_count": 73,
     "metadata": {},
     "output_type": "execute_result"
    }
   ],
   "source": [
    "y_train_1step.value_counts()"
   ]
  },
  {
   "cell_type": "code",
   "execution_count": 74,
   "metadata": {
    "colab": {
     "base_uri": "https://localhost:8080/",
     "height": 90
    },
    "colab_type": "code",
    "id": "IEWbNakVt7Ml",
    "outputId": "964dcda3-73a0-4744-96fb-ee0573d1689c"
   },
   "outputs": [
    {
     "data": {
      "text/plain": [
       "1    27291\n",
       "2    14010\n",
       "0     2027\n",
       "Name: target_1step, dtype: int64"
      ]
     },
     "execution_count": 74,
     "metadata": {},
     "output_type": "execute_result"
    }
   ],
   "source": [
    "y_test_1step.value_counts()"
   ]
  },
  {
   "cell_type": "code",
   "execution_count": 75,
   "metadata": {
    "colab": {
     "base_uri": "https://localhost:8080/",
     "height": 454
    },
    "colab_type": "code",
    "id": "-wqH7M3wt7Mm",
    "outputId": "76e871da-3cc4-49b2-d3cb-6eb76fcc459e"
   },
   "outputs": [
    {
     "data": {
      "text/plain": [
       "aircraft_model_code                object\n",
       "aircraft_model_description         object\n",
       "aircraft_registration              object\n",
       "airline_name                       object\n",
       "flight_origin_code_icao            object\n",
       "flight_origin_time_offset         float64\n",
       "flight_destination_code_icao       object\n",
       "flight_destination_time_offset    float64\n",
       "diff_arr_sched_dep_sched          float64\n",
       "hour_dep_sched                    float64\n",
       "hour_arr_sched                    float64\n",
       "Dew point_x                       float64\n",
       "Wind direction_x                  float64\n",
       "Wind speed_x                      float64\n",
       "Pressure_x                        float64\n",
       "Visibility_x                      float64\n",
       "Temperature_x                     float64\n",
       "Dew point_y                       float64\n",
       "Wind direction_y                  float64\n",
       "Wind speed_y                      float64\n",
       "Pressure_y                        float64\n",
       "Visibility_y                      float64\n",
       "Temperature_y                     float64\n",
       "dtype: object"
      ]
     },
     "execution_count": 75,
     "metadata": {},
     "output_type": "execute_result"
    }
   ],
   "source": [
    "X_train_1step.dtypes"
   ]
  },
  {
   "cell_type": "code",
   "execution_count": 76,
   "metadata": {
    "colab": {
     "base_uri": "https://localhost:8080/",
     "height": 72
    },
    "colab_type": "code",
    "id": "RpO8LMNgt7Mo",
    "outputId": "ee97d3f2-aaec-4cb7-c002-38a17c01edd1"
   },
   "outputs": [
    {
     "data": {
      "text/plain": [
       "1    0.841757\n",
       "0    0.111465\n",
       "Name: target_2step, dtype: float64"
      ]
     },
     "execution_count": 76,
     "metadata": {},
     "output_type": "execute_result"
    }
   ],
   "source": [
    "y_train_2step.value_counts()/len(y_train_1step)"
   ]
  },
  {
   "cell_type": "code",
   "execution_count": 77,
   "metadata": {
    "colab": {
     "base_uri": "https://localhost:8080/",
     "height": 72
    },
    "colab_type": "code",
    "id": "Mjwf91bNt7Mp",
    "outputId": "8c7c6bb0-b613-44d5-98b9-841564c75ffd"
   },
   "outputs": [
    {
     "data": {
      "text/plain": [
       "1    67732\n",
       "0     8969\n",
       "Name: target_2step, dtype: int64"
      ]
     },
     "execution_count": 77,
     "metadata": {},
     "output_type": "execute_result"
    }
   ],
   "source": [
    "y_train_2step.value_counts()"
   ]
  },
  {
   "cell_type": "code",
   "execution_count": 78,
   "metadata": {
    "colab": {
     "base_uri": "https://localhost:8080/",
     "height": 322
    },
    "colab_type": "code",
    "id": "tG_2igV1t7Mq",
    "outputId": "6a24d768-43ff-4bce-e9e3-f5d615ae9fdb"
   },
   "outputs": [
    {
     "data": {
      "text/html": [
       "<div>\n",
       "<style scoped>\n",
       "    .dataframe tbody tr th:only-of-type {\n",
       "        vertical-align: middle;\n",
       "    }\n",
       "\n",
       "    .dataframe tbody tr th {\n",
       "        vertical-align: top;\n",
       "    }\n",
       "\n",
       "    .dataframe thead th {\n",
       "        text-align: right;\n",
       "    }\n",
       "</style>\n",
       "<table border=\"1\" class=\"dataframe\">\n",
       "  <thead>\n",
       "    <tr style=\"text-align: right;\">\n",
       "      <th></th>\n",
       "      <th>aircraft_model_code</th>\n",
       "      <th>aircraft_model_description</th>\n",
       "      <th>aircraft_registration</th>\n",
       "      <th>airline_name</th>\n",
       "      <th>flight_origin_code_icao</th>\n",
       "      <th>flight_origin_time_offset</th>\n",
       "      <th>flight_destination_code_icao</th>\n",
       "      <th>flight_destination_time_offset</th>\n",
       "      <th>diff_arr_sched_dep_sched</th>\n",
       "      <th>diff_dep_real_dep_sched</th>\n",
       "      <th>...</th>\n",
       "      <th>Wind speed_x</th>\n",
       "      <th>Pressure_x</th>\n",
       "      <th>Visibility_x</th>\n",
       "      <th>Temperature_x</th>\n",
       "      <th>Dew point_y</th>\n",
       "      <th>Wind direction_y</th>\n",
       "      <th>Wind speed_y</th>\n",
       "      <th>Pressure_y</th>\n",
       "      <th>Visibility_y</th>\n",
       "      <th>Temperature_y</th>\n",
       "    </tr>\n",
       "  </thead>\n",
       "  <tbody>\n",
       "    <tr>\n",
       "      <th>118354</th>\n",
       "      <td>A320</td>\n",
       "      <td>Airbus A320-232</td>\n",
       "      <td>VH</td>\n",
       "      <td>Tigerair Australia</td>\n",
       "      <td>YSSY</td>\n",
       "      <td>1.000000</td>\n",
       "      <td>YBBN</td>\n",
       "      <td>0.869565</td>\n",
       "      <td>0.365574</td>\n",
       "      <td>0.999998</td>\n",
       "      <td>...</td>\n",
       "      <td>7.000001e-07</td>\n",
       "      <td>0.000100</td>\n",
       "      <td>1.000000</td>\n",
       "      <td>4.000002e-07</td>\n",
       "      <td>4.000000e-07</td>\n",
       "      <td>0.000035</td>\n",
       "      <td>7.000001e-07</td>\n",
       "      <td>0.000100</td>\n",
       "      <td>1.000000</td>\n",
       "      <td>5.000003e-07</td>\n",
       "    </tr>\n",
       "    <tr>\n",
       "      <th>102070</th>\n",
       "      <td>B738</td>\n",
       "      <td>Boeing 737-823</td>\n",
       "      <td>NoData</td>\n",
       "      <td>American Airlines</td>\n",
       "      <td>KLAX</td>\n",
       "      <td>0.000000</td>\n",
       "      <td>KMIA</td>\n",
       "      <td>0.260870</td>\n",
       "      <td>0.434140</td>\n",
       "      <td>0.999998</td>\n",
       "      <td>...</td>\n",
       "      <td>1.900000e-06</td>\n",
       "      <td>0.000000</td>\n",
       "      <td>0.000001</td>\n",
       "      <td>1.300001e-06</td>\n",
       "      <td>9.000001e-07</td>\n",
       "      <td>0.000000</td>\n",
       "      <td>0.000000e+00</td>\n",
       "      <td>0.000000</td>\n",
       "      <td>0.000001</td>\n",
       "      <td>1.200001e-06</td>\n",
       "    </tr>\n",
       "    <tr>\n",
       "      <th>23437</th>\n",
       "      <td>B772</td>\n",
       "      <td>Boeing 777-223(ER)</td>\n",
       "      <td>NoData</td>\n",
       "      <td>American Airlines</td>\n",
       "      <td>EGLL</td>\n",
       "      <td>0.470588</td>\n",
       "      <td>KRDU</td>\n",
       "      <td>0.260870</td>\n",
       "      <td>0.502055</td>\n",
       "      <td>0.999999</td>\n",
       "      <td>...</td>\n",
       "      <td>1.000000e-06</td>\n",
       "      <td>0.000098</td>\n",
       "      <td>0.001000</td>\n",
       "      <td>8.000004e-07</td>\n",
       "      <td>6.000001e-07</td>\n",
       "      <td>0.000028</td>\n",
       "      <td>1.300000e-06</td>\n",
       "      <td>0.000098</td>\n",
       "      <td>0.001000</td>\n",
       "      <td>1.300001e-06</td>\n",
       "    </tr>\n",
       "    <tr>\n",
       "      <th>92482</th>\n",
       "      <td>B764</td>\n",
       "      <td>Boeing 767-432(ER)</td>\n",
       "      <td>NoData</td>\n",
       "      <td>Others</td>\n",
       "      <td>KLAX</td>\n",
       "      <td>0.000000</td>\n",
       "      <td>KJFK</td>\n",
       "      <td>0.260870</td>\n",
       "      <td>0.445838</td>\n",
       "      <td>0.999998</td>\n",
       "      <td>...</td>\n",
       "      <td>8.000001e-07</td>\n",
       "      <td>0.000000</td>\n",
       "      <td>0.000001</td>\n",
       "      <td>1.100001e-06</td>\n",
       "      <td>9.000001e-07</td>\n",
       "      <td>0.000025</td>\n",
       "      <td>1.100000e-06</td>\n",
       "      <td>0.000000</td>\n",
       "      <td>0.000001</td>\n",
       "      <td>1.300001e-06</td>\n",
       "    </tr>\n",
       "    <tr>\n",
       "      <th>76901</th>\n",
       "      <td>A20N</td>\n",
       "      <td>Airbus A320-251N</td>\n",
       "      <td>G</td>\n",
       "      <td>British Airways</td>\n",
       "      <td>EGLL</td>\n",
       "      <td>0.470588</td>\n",
       "      <td>LIMC</td>\n",
       "      <td>0.521739</td>\n",
       "      <td>0.373698</td>\n",
       "      <td>0.999999</td>\n",
       "      <td>...</td>\n",
       "      <td>1.300000e-06</td>\n",
       "      <td>0.000099</td>\n",
       "      <td>0.001000</td>\n",
       "      <td>8.000004e-07</td>\n",
       "      <td>1.300000e-06</td>\n",
       "      <td>0.000021</td>\n",
       "      <td>1.100000e-06</td>\n",
       "      <td>0.000099</td>\n",
       "      <td>0.000500</td>\n",
       "      <td>9.000005e-07</td>\n",
       "    </tr>\n",
       "  </tbody>\n",
       "</table>\n",
       "<p>5 rows × 26 columns</p>\n",
       "</div>"
      ],
      "text/plain": [
       "       aircraft_model_code aircraft_model_description aircraft_registration  \\\n",
       "118354                A320            Airbus A320-232                    VH   \n",
       "102070                B738             Boeing 737-823                NoData   \n",
       "23437                 B772         Boeing 777-223(ER)                NoData   \n",
       "92482                 B764         Boeing 767-432(ER)                NoData   \n",
       "76901                 A20N           Airbus A320-251N                     G   \n",
       "\n",
       "              airline_name flight_origin_code_icao  flight_origin_time_offset  \\\n",
       "118354  Tigerair Australia                    YSSY                   1.000000   \n",
       "102070   American Airlines                    KLAX                   0.000000   \n",
       "23437    American Airlines                    EGLL                   0.470588   \n",
       "92482               Others                    KLAX                   0.000000   \n",
       "76901      British Airways                    EGLL                   0.470588   \n",
       "\n",
       "       flight_destination_code_icao  flight_destination_time_offset  \\\n",
       "118354                         YBBN                        0.869565   \n",
       "102070                         KMIA                        0.260870   \n",
       "23437                          KRDU                        0.260870   \n",
       "92482                          KJFK                        0.260870   \n",
       "76901                          LIMC                        0.521739   \n",
       "\n",
       "        diff_arr_sched_dep_sched  diff_dep_real_dep_sched  ...  Wind speed_x  \\\n",
       "118354                  0.365574                 0.999998  ...  7.000001e-07   \n",
       "102070                  0.434140                 0.999998  ...  1.900000e-06   \n",
       "23437                   0.502055                 0.999999  ...  1.000000e-06   \n",
       "92482                   0.445838                 0.999998  ...  8.000001e-07   \n",
       "76901                   0.373698                 0.999999  ...  1.300000e-06   \n",
       "\n",
       "        Pressure_x  Visibility_x  Temperature_x   Dew point_y  \\\n",
       "118354    0.000100      1.000000   4.000002e-07  4.000000e-07   \n",
       "102070    0.000000      0.000001   1.300001e-06  9.000001e-07   \n",
       "23437     0.000098      0.001000   8.000004e-07  6.000001e-07   \n",
       "92482     0.000000      0.000001   1.100001e-06  9.000001e-07   \n",
       "76901     0.000099      0.001000   8.000004e-07  1.300000e-06   \n",
       "\n",
       "        Wind direction_y  Wind speed_y  Pressure_y  Visibility_y  \\\n",
       "118354          0.000035  7.000001e-07    0.000100      1.000000   \n",
       "102070          0.000000  0.000000e+00    0.000000      0.000001   \n",
       "23437           0.000028  1.300000e-06    0.000098      0.001000   \n",
       "92482           0.000025  1.100000e-06    0.000000      0.000001   \n",
       "76901           0.000021  1.100000e-06    0.000099      0.000500   \n",
       "\n",
       "        Temperature_y  \n",
       "118354   5.000003e-07  \n",
       "102070   1.200001e-06  \n",
       "23437    1.300001e-06  \n",
       "92482    1.300001e-06  \n",
       "76901    9.000005e-07  \n",
       "\n",
       "[5 rows x 26 columns]"
      ]
     },
     "execution_count": 78,
     "metadata": {},
     "output_type": "execute_result"
    }
   ],
   "source": [
    "X_train_main.head()"
   ]
  },
  {
   "cell_type": "code",
   "execution_count": 79,
   "metadata": {
    "colab": {
     "base_uri": "https://localhost:8080/",
     "height": 126
    },
    "colab_type": "code",
    "id": "SNfybq7vt7Mr",
    "outputId": "084c2517-2d6e-4cc6-b31f-b64f7d37a8f0"
   },
   "outputs": [
    {
     "data": {
      "text/plain": [
       "118354    2\n",
       "102070    2\n",
       "23437     2\n",
       "92482     4\n",
       "76901     2\n",
       "Name: main_target, dtype: int32"
      ]
     },
     "execution_count": 79,
     "metadata": {},
     "output_type": "execute_result"
    }
   ],
   "source": [
    "y_train_main.head()"
   ]
  },
  {
   "cell_type": "markdown",
   "metadata": {
    "colab_type": "text",
    "id": "VKXJ8SexpfBw"
   },
   "source": [
    "# Balance classes of 1st and 2nd step train sets"
   ]
  },
  {
   "cell_type": "markdown",
   "metadata": {
    "colab_type": "text",
    "id": "oyE9amx4q7dR"
   },
   "source": [
    "1st step"
   ]
  },
  {
   "cell_type": "code",
   "execution_count": 80,
   "metadata": {
    "colab": {
     "base_uri": "https://localhost:8080/",
     "height": 90
    },
    "colab_type": "code",
    "id": "VRrkjdTHttj_",
    "outputId": "6967f321-dfc3-4f1b-a1b8-0ee60b96898a"
   },
   "outputs": [
    {
     "data": {
      "text/plain": [
       "1    50682\n",
       "2    26019\n",
       "0     3764\n",
       "Name: target_1step, dtype: int64"
      ]
     },
     "execution_count": 80,
     "metadata": {},
     "output_type": "execute_result"
    }
   ],
   "source": [
    "y_train_1step.value_counts()"
   ]
  },
  {
   "cell_type": "code",
   "execution_count": 81,
   "metadata": {
    "colab": {
     "base_uri": "https://localhost:8080/",
     "height": 35
    },
    "colab_type": "code",
    "id": "orJnnOd1t7Mt",
    "outputId": "dfd677e2-2190-462f-cb97-e005e9aa26ff"
   },
   "outputs": [
    {
     "data": {
      "text/plain": [
       "array([1, 2, 0], dtype=int64)"
      ]
     },
     "execution_count": 81,
     "metadata": {},
     "output_type": "execute_result"
    }
   ],
   "source": [
    "y_train_1step.unique()"
   ]
  },
  {
   "cell_type": "code",
   "execution_count": 82,
   "metadata": {
    "colab": {
     "base_uri": "https://localhost:8080/",
     "height": 454
    },
    "colab_type": "code",
    "id": "lt76K097t7Mu",
    "outputId": "30a9b262-ac72-4c4b-e92b-619b05af089e"
   },
   "outputs": [
    {
     "data": {
      "text/plain": [
       "aircraft_model_code                object\n",
       "aircraft_model_description         object\n",
       "aircraft_registration              object\n",
       "airline_name                       object\n",
       "flight_origin_code_icao            object\n",
       "flight_origin_time_offset         float64\n",
       "flight_destination_code_icao       object\n",
       "flight_destination_time_offset    float64\n",
       "diff_arr_sched_dep_sched          float64\n",
       "hour_dep_sched                    float64\n",
       "hour_arr_sched                    float64\n",
       "Dew point_x                       float64\n",
       "Wind direction_x                  float64\n",
       "Wind speed_x                      float64\n",
       "Pressure_x                        float64\n",
       "Visibility_x                      float64\n",
       "Temperature_x                     float64\n",
       "Dew point_y                       float64\n",
       "Wind direction_y                  float64\n",
       "Wind speed_y                      float64\n",
       "Pressure_y                        float64\n",
       "Visibility_y                      float64\n",
       "Temperature_y                     float64\n",
       "dtype: object"
      ]
     },
     "execution_count": 82,
     "metadata": {},
     "output_type": "execute_result"
    }
   ],
   "source": [
    "X_train_1step.dtypes"
   ]
  },
  {
   "cell_type": "code",
   "execution_count": 83,
   "metadata": {
    "colab": {
     "base_uri": "https://localhost:8080/",
     "height": 322
    },
    "colab_type": "code",
    "id": "HK7aYxF1wOPd",
    "outputId": "f0f489d3-7b31-49e5-f186-8d891f1848e9"
   },
   "outputs": [
    {
     "data": {
      "text/html": [
       "<div>\n",
       "<style scoped>\n",
       "    .dataframe tbody tr th:only-of-type {\n",
       "        vertical-align: middle;\n",
       "    }\n",
       "\n",
       "    .dataframe tbody tr th {\n",
       "        vertical-align: top;\n",
       "    }\n",
       "\n",
       "    .dataframe thead th {\n",
       "        text-align: right;\n",
       "    }\n",
       "</style>\n",
       "<table border=\"1\" class=\"dataframe\">\n",
       "  <thead>\n",
       "    <tr style=\"text-align: right;\">\n",
       "      <th></th>\n",
       "      <th>aircraft_model_code</th>\n",
       "      <th>aircraft_model_description</th>\n",
       "      <th>aircraft_registration</th>\n",
       "      <th>airline_name</th>\n",
       "      <th>flight_origin_code_icao</th>\n",
       "      <th>flight_origin_time_offset</th>\n",
       "      <th>flight_destination_code_icao</th>\n",
       "      <th>flight_destination_time_offset</th>\n",
       "      <th>diff_arr_sched_dep_sched</th>\n",
       "      <th>hour_dep_sched</th>\n",
       "      <th>...</th>\n",
       "      <th>Pressure_x</th>\n",
       "      <th>Visibility_x</th>\n",
       "      <th>Temperature_x</th>\n",
       "      <th>Dew point_y</th>\n",
       "      <th>Wind direction_y</th>\n",
       "      <th>Wind speed_y</th>\n",
       "      <th>Pressure_y</th>\n",
       "      <th>Visibility_y</th>\n",
       "      <th>Temperature_y</th>\n",
       "      <th>target_1step</th>\n",
       "    </tr>\n",
       "  </thead>\n",
       "  <tbody>\n",
       "    <tr>\n",
       "      <th>99972</th>\n",
       "      <td>A20N</td>\n",
       "      <td>Airbus A320-271N</td>\n",
       "      <td>D</td>\n",
       "      <td>Lufthansa</td>\n",
       "      <td>EDDF</td>\n",
       "      <td>0.529412</td>\n",
       "      <td>Others</td>\n",
       "      <td>0.565217</td>\n",
       "      <td>0.378572</td>\n",
       "      <td>0.086957</td>\n",
       "      <td>...</td>\n",
       "      <td>9.740029e-05</td>\n",
       "      <td>1.000000</td>\n",
       "      <td>5.000003e-07</td>\n",
       "      <td>9.000001e-07</td>\n",
       "      <td>0.000022</td>\n",
       "      <td>3.000000e-07</td>\n",
       "      <td>9.740029e-05</td>\n",
       "      <td>0.001000</td>\n",
       "      <td>5.000003e-07</td>\n",
       "      <td>1</td>\n",
       "    </tr>\n",
       "    <tr>\n",
       "      <th>73335</th>\n",
       "      <td>A319</td>\n",
       "      <td>Airbus A319-115</td>\n",
       "      <td>NoData</td>\n",
       "      <td>American Airlines</td>\n",
       "      <td>KMIA</td>\n",
       "      <td>0.176471</td>\n",
       "      <td>KAUS</td>\n",
       "      <td>0.217391</td>\n",
       "      <td>0.396445</td>\n",
       "      <td>0.869565</td>\n",
       "      <td>...</td>\n",
       "      <td>1.000003e-07</td>\n",
       "      <td>0.000001</td>\n",
       "      <td>2.600001e-06</td>\n",
       "      <td>2.100000e-06</td>\n",
       "      <td>0.000008</td>\n",
       "      <td>1.200000e-06</td>\n",
       "      <td>1.000003e-07</td>\n",
       "      <td>0.000001</td>\n",
       "      <td>2.400001e-06</td>\n",
       "      <td>1</td>\n",
       "    </tr>\n",
       "    <tr>\n",
       "      <th>113833</th>\n",
       "      <td>Others</td>\n",
       "      <td>Others</td>\n",
       "      <td>D</td>\n",
       "      <td>Others</td>\n",
       "      <td>LFPO</td>\n",
       "      <td>0.529412</td>\n",
       "      <td>EGLC</td>\n",
       "      <td>0.478261</td>\n",
       "      <td>0.359075</td>\n",
       "      <td>0.043478</td>\n",
       "      <td>...</td>\n",
       "      <td>9.910030e-05</td>\n",
       "      <td>1.000000</td>\n",
       "      <td>5.000003e-07</td>\n",
       "      <td>7.000001e-07</td>\n",
       "      <td>0.000028</td>\n",
       "      <td>3.000000e-07</td>\n",
       "      <td>9.910030e-05</td>\n",
       "      <td>1.000000</td>\n",
       "      <td>5.000003e-07</td>\n",
       "      <td>2</td>\n",
       "    </tr>\n",
       "    <tr>\n",
       "      <th>47855</th>\n",
       "      <td>E75L</td>\n",
       "      <td>Embraer ERJ-175LR</td>\n",
       "      <td>NoData</td>\n",
       "      <td>American Eagle</td>\n",
       "      <td>KMIA</td>\n",
       "      <td>0.176471</td>\n",
       "      <td>Others</td>\n",
       "      <td>0.217391</td>\n",
       "      <td>0.382472</td>\n",
       "      <td>0.434783</td>\n",
       "      <td>...</td>\n",
       "      <td>0.000000e+00</td>\n",
       "      <td>0.000001</td>\n",
       "      <td>2.300001e-06</td>\n",
       "      <td>2.300000e-06</td>\n",
       "      <td>0.000026</td>\n",
       "      <td>4.000000e-07</td>\n",
       "      <td>0.000000e+00</td>\n",
       "      <td>0.000001</td>\n",
       "      <td>2.400001e-06</td>\n",
       "      <td>1</td>\n",
       "    </tr>\n",
       "    <tr>\n",
       "      <th>24244</th>\n",
       "      <td>B77W</td>\n",
       "      <td>Others</td>\n",
       "      <td>C</td>\n",
       "      <td>Air Canada</td>\n",
       "      <td>LFPG</td>\n",
       "      <td>0.529412</td>\n",
       "      <td>CYUL</td>\n",
       "      <td>0.260870</td>\n",
       "      <td>0.480933</td>\n",
       "      <td>0.304348</td>\n",
       "      <td>...</td>\n",
       "      <td>9.960030e-05</td>\n",
       "      <td>0.001000</td>\n",
       "      <td>1.100001e-06</td>\n",
       "      <td>1.300000e-06</td>\n",
       "      <td>0.000025</td>\n",
       "      <td>9.000001e-07</td>\n",
       "      <td>9.970030e-05</td>\n",
       "      <td>0.001000</td>\n",
       "      <td>1.600001e-06</td>\n",
       "      <td>2</td>\n",
       "    </tr>\n",
       "  </tbody>\n",
       "</table>\n",
       "<p>5 rows × 24 columns</p>\n",
       "</div>"
      ],
      "text/plain": [
       "       aircraft_model_code aircraft_model_description aircraft_registration  \\\n",
       "99972                 A20N           Airbus A320-271N                     D   \n",
       "73335                 A319            Airbus A319-115                NoData   \n",
       "113833              Others                     Others                     D   \n",
       "47855                 E75L          Embraer ERJ-175LR                NoData   \n",
       "24244                 B77W                     Others                     C   \n",
       "\n",
       "             airline_name flight_origin_code_icao  flight_origin_time_offset  \\\n",
       "99972           Lufthansa                    EDDF                   0.529412   \n",
       "73335   American Airlines                    KMIA                   0.176471   \n",
       "113833             Others                    LFPO                   0.529412   \n",
       "47855      American Eagle                    KMIA                   0.176471   \n",
       "24244          Air Canada                    LFPG                   0.529412   \n",
       "\n",
       "       flight_destination_code_icao  flight_destination_time_offset  \\\n",
       "99972                        Others                        0.565217   \n",
       "73335                          KAUS                        0.217391   \n",
       "113833                         EGLC                        0.478261   \n",
       "47855                        Others                        0.217391   \n",
       "24244                          CYUL                        0.260870   \n",
       "\n",
       "        diff_arr_sched_dep_sched  hour_dep_sched  ...    Pressure_x  \\\n",
       "99972                   0.378572        0.086957  ...  9.740029e-05   \n",
       "73335                   0.396445        0.869565  ...  1.000003e-07   \n",
       "113833                  0.359075        0.043478  ...  9.910030e-05   \n",
       "47855                   0.382472        0.434783  ...  0.000000e+00   \n",
       "24244                   0.480933        0.304348  ...  9.960030e-05   \n",
       "\n",
       "        Visibility_x  Temperature_x   Dew point_y  Wind direction_y  \\\n",
       "99972       1.000000   5.000003e-07  9.000001e-07          0.000022   \n",
       "73335       0.000001   2.600001e-06  2.100000e-06          0.000008   \n",
       "113833      1.000000   5.000003e-07  7.000001e-07          0.000028   \n",
       "47855       0.000001   2.300001e-06  2.300000e-06          0.000026   \n",
       "24244       0.001000   1.100001e-06  1.300000e-06          0.000025   \n",
       "\n",
       "        Wind speed_y    Pressure_y  Visibility_y  Temperature_y  target_1step  \n",
       "99972   3.000000e-07  9.740029e-05      0.001000   5.000003e-07             1  \n",
       "73335   1.200000e-06  1.000003e-07      0.000001   2.400001e-06             1  \n",
       "113833  3.000000e-07  9.910030e-05      1.000000   5.000003e-07             2  \n",
       "47855   4.000000e-07  0.000000e+00      0.000001   2.400001e-06             1  \n",
       "24244   9.000001e-07  9.970030e-05      0.001000   1.600001e-06             2  \n",
       "\n",
       "[5 rows x 24 columns]"
      ]
     },
     "execution_count": 83,
     "metadata": {},
     "output_type": "execute_result"
    }
   ],
   "source": [
    "df_1step =pd.concat([X_train_1step, y_train_1step], axis=1) \n",
    "df_1step.head()"
   ]
  },
  {
   "cell_type": "code",
   "execution_count": 84,
   "metadata": {
    "colab": {},
    "colab_type": "code",
    "id": "ymUUWVinrCEn"
   },
   "outputs": [],
   "source": [
    "df_1step_0 = df_1step[df_1step.target_1step == 0]\n",
    "df_1step_1 = df_1step[df_1step.target_1step == 1]\n",
    "df_1step_2 = df_1step[df_1step.target_1step == 2]"
   ]
  },
  {
   "cell_type": "code",
   "execution_count": 85,
   "metadata": {
    "colab": {},
    "colab_type": "code",
    "id": "69K_R2rwvVuG"
   },
   "outputs": [],
   "source": [
    "from sklearn.utils import resample\n",
    "\n",
    "df_1step_0_upsampled = resample(df_1step_0, \n",
    "                                 replace=True,     # sample with replacement\n",
    "                                 n_samples=len(df_1step_1),    # to match majority class\n",
    "                                 random_state=123) \n",
    "\n",
    "df_1step_2_upsampled = resample(df_1step_2, \n",
    "                                 replace=True,     # sample with replacement\n",
    "                                 n_samples=len(df_1step_1),    # to match majority class\n",
    "                                 random_state=123) "
   ]
  },
  {
   "cell_type": "code",
   "execution_count": 86,
   "metadata": {
    "colab": {},
    "colab_type": "code",
    "id": "B4hCnXumv3tp"
   },
   "outputs": [],
   "source": [
    "df_1step_upsampled = pd.concat([df_1step_1, df_1step_0_upsampled, df_1step_2_upsampled])"
   ]
  },
  {
   "cell_type": "code",
   "execution_count": 87,
   "metadata": {
    "colab": {},
    "colab_type": "code",
    "id": "plKcZYCsyFHC"
   },
   "outputs": [],
   "source": [
    "df_1step_upsampled_shuffled = df_1step_upsampled.sample(frac=1).reset_index(drop=True)"
   ]
  },
  {
   "cell_type": "code",
   "execution_count": 88,
   "metadata": {
    "colab": {},
    "colab_type": "code",
    "id": "pz9gzGPuyXA2"
   },
   "outputs": [],
   "source": [
    "X_train_1step = df_1step_upsampled_shuffled.drop('target_1step', axis=1)\n",
    "y_train_1step = df_1step_upsampled_shuffled['target_1step']"
   ]
  },
  {
   "cell_type": "code",
   "execution_count": 89,
   "metadata": {
    "colab": {
     "base_uri": "https://localhost:8080/",
     "height": 138
    },
    "colab_type": "code",
    "id": "6AmTCRUzt7M6",
    "outputId": "271c2eb0-1071-4740-8f98-da694f78575d"
   },
   "outputs": [
    {
     "data": {
      "text/html": [
       "<div>\n",
       "<style scoped>\n",
       "    .dataframe tbody tr th:only-of-type {\n",
       "        vertical-align: middle;\n",
       "    }\n",
       "\n",
       "    .dataframe tbody tr th {\n",
       "        vertical-align: top;\n",
       "    }\n",
       "\n",
       "    .dataframe thead th {\n",
       "        text-align: right;\n",
       "    }\n",
       "</style>\n",
       "<table border=\"1\" class=\"dataframe\">\n",
       "  <thead>\n",
       "    <tr style=\"text-align: right;\">\n",
       "      <th></th>\n",
       "      <th>categories</th>\n",
       "      <th>examples</th>\n",
       "    </tr>\n",
       "  </thead>\n",
       "  <tbody>\n",
       "    <tr>\n",
       "      <th>0</th>\n",
       "      <td>2</td>\n",
       "      <td>50682</td>\n",
       "    </tr>\n",
       "    <tr>\n",
       "      <th>1</th>\n",
       "      <td>1</td>\n",
       "      <td>50682</td>\n",
       "    </tr>\n",
       "    <tr>\n",
       "      <th>2</th>\n",
       "      <td>0</td>\n",
       "      <td>50682</td>\n",
       "    </tr>\n",
       "  </tbody>\n",
       "</table>\n",
       "</div>"
      ],
      "text/plain": [
       "   categories  examples\n",
       "0           2     50682\n",
       "1           1     50682\n",
       "2           0     50682"
      ]
     },
     "metadata": {},
     "output_type": "display_data"
    }
   ],
   "source": [
    "targ_counts = pd.DataFrame(y_train_1step.value_counts().tolist(),columns=[\"examples\"])\n",
    "targ_keys = pd.DataFrame(y_train_1step.value_counts().keys().tolist(),columns=[\"categories\"])\n",
    "display(pd.concat([targ_keys,targ_counts], axis=1))"
   ]
  },
  {
   "cell_type": "code",
   "execution_count": 90,
   "metadata": {
    "colab": {
     "base_uri": "https://localhost:8080/",
     "height": 90
    },
    "colab_type": "code",
    "id": "EFlrNfldytdK",
    "outputId": "a7ec9439-fb4b-4db7-e5ba-180f91e0616f"
   },
   "outputs": [
    {
     "data": {
      "text/plain": [
       "2    50682\n",
       "1    50682\n",
       "0    50682\n",
       "Name: target_1step, dtype: int64"
      ]
     },
     "execution_count": 90,
     "metadata": {},
     "output_type": "execute_result"
    }
   ],
   "source": [
    "y_train_1step.value_counts()"
   ]
  },
  {
   "cell_type": "markdown",
   "metadata": {
    "colab_type": "text",
    "id": "bkY3v2U3q-MV"
   },
   "source": [
    "2nd step"
   ]
  },
  {
   "cell_type": "code",
   "execution_count": 91,
   "metadata": {
    "colab": {
     "base_uri": "https://localhost:8080/",
     "height": 72
    },
    "colab_type": "code",
    "id": "TlCHptBetvFW",
    "outputId": "6f84dddf-3a63-47f8-941a-b0cbc6bee716"
   },
   "outputs": [
    {
     "data": {
      "text/plain": [
       "1    67732\n",
       "0     8969\n",
       "Name: target_2step, dtype: int64"
      ]
     },
     "execution_count": 91,
     "metadata": {},
     "output_type": "execute_result"
    }
   ],
   "source": [
    "y_train_2step.value_counts()"
   ]
  },
  {
   "cell_type": "code",
   "execution_count": 92,
   "metadata": {
    "colab": {
     "base_uri": "https://localhost:8080/",
     "height": 108
    },
    "colab_type": "code",
    "id": "iE5nE8ojt7M_",
    "outputId": "f06a3a32-70b2-4d44-9449-37eafa955df5"
   },
   "outputs": [
    {
     "data": {
      "text/html": [
       "<div>\n",
       "<style scoped>\n",
       "    .dataframe tbody tr th:only-of-type {\n",
       "        vertical-align: middle;\n",
       "    }\n",
       "\n",
       "    .dataframe tbody tr th {\n",
       "        vertical-align: top;\n",
       "    }\n",
       "\n",
       "    .dataframe thead th {\n",
       "        text-align: right;\n",
       "    }\n",
       "</style>\n",
       "<table border=\"1\" class=\"dataframe\">\n",
       "  <thead>\n",
       "    <tr style=\"text-align: right;\">\n",
       "      <th></th>\n",
       "      <th>categories</th>\n",
       "      <th>examples</th>\n",
       "    </tr>\n",
       "  </thead>\n",
       "  <tbody>\n",
       "    <tr>\n",
       "      <th>0</th>\n",
       "      <td>1</td>\n",
       "      <td>67732</td>\n",
       "    </tr>\n",
       "    <tr>\n",
       "      <th>1</th>\n",
       "      <td>0</td>\n",
       "      <td>8969</td>\n",
       "    </tr>\n",
       "  </tbody>\n",
       "</table>\n",
       "</div>"
      ],
      "text/plain": [
       "   categories  examples\n",
       "0           1     67732\n",
       "1           0      8969"
      ]
     },
     "metadata": {},
     "output_type": "display_data"
    }
   ],
   "source": [
    "targ_counts = pd.DataFrame(y_train_2step.value_counts().tolist(),columns=[\"examples\"])\n",
    "targ_keys = pd.DataFrame(y_train_2step.value_counts().keys().tolist(),columns=[\"categories\"])\n",
    "display(pd.concat([targ_keys,targ_counts], axis=1))"
   ]
  },
  {
   "cell_type": "code",
   "execution_count": 93,
   "metadata": {
    "colab": {
     "base_uri": "https://localhost:8080/",
     "height": 322
    },
    "colab_type": "code",
    "id": "Fz41sFjwzDKU",
    "outputId": "a2622520-8a4a-4fc3-9bb3-b3112abd838d"
   },
   "outputs": [
    {
     "data": {
      "text/html": [
       "<div>\n",
       "<style scoped>\n",
       "    .dataframe tbody tr th:only-of-type {\n",
       "        vertical-align: middle;\n",
       "    }\n",
       "\n",
       "    .dataframe tbody tr th {\n",
       "        vertical-align: top;\n",
       "    }\n",
       "\n",
       "    .dataframe thead th {\n",
       "        text-align: right;\n",
       "    }\n",
       "</style>\n",
       "<table border=\"1\" class=\"dataframe\">\n",
       "  <thead>\n",
       "    <tr style=\"text-align: right;\">\n",
       "      <th></th>\n",
       "      <th>aircraft_model_code</th>\n",
       "      <th>aircraft_model_description</th>\n",
       "      <th>aircraft_registration</th>\n",
       "      <th>airline_name</th>\n",
       "      <th>flight_origin_code_icao</th>\n",
       "      <th>flight_origin_time_offset</th>\n",
       "      <th>flight_destination_code_icao</th>\n",
       "      <th>flight_destination_time_offset</th>\n",
       "      <th>diff_arr_sched_dep_sched</th>\n",
       "      <th>diff_dep_real_dep_sched</th>\n",
       "      <th>...</th>\n",
       "      <th>Pressure_x</th>\n",
       "      <th>Visibility_x</th>\n",
       "      <th>Temperature_x</th>\n",
       "      <th>Dew point_y</th>\n",
       "      <th>Wind direction_y</th>\n",
       "      <th>Wind speed_y</th>\n",
       "      <th>Pressure_y</th>\n",
       "      <th>Visibility_y</th>\n",
       "      <th>Temperature_y</th>\n",
       "      <th>target_2step</th>\n",
       "    </tr>\n",
       "  </thead>\n",
       "  <tbody>\n",
       "    <tr>\n",
       "      <th>40201</th>\n",
       "      <td>CRJ9</td>\n",
       "      <td>Bombardier CRJ-900LR</td>\n",
       "      <td>D</td>\n",
       "      <td>Lufthansa</td>\n",
       "      <td>EDDF</td>\n",
       "      <td>0.529412</td>\n",
       "      <td>Others</td>\n",
       "      <td>0.521739</td>\n",
       "      <td>0.362325</td>\n",
       "      <td>0.999998</td>\n",
       "      <td>...</td>\n",
       "      <td>9.840030e-05</td>\n",
       "      <td>1.000000</td>\n",
       "      <td>0.000003</td>\n",
       "      <td>9.000001e-07</td>\n",
       "      <td>0.000018</td>\n",
       "      <td>8.000001e-07</td>\n",
       "      <td>9.840030e-05</td>\n",
       "      <td>1.000000</td>\n",
       "      <td>2.600001e-06</td>\n",
       "      <td>1</td>\n",
       "    </tr>\n",
       "    <tr>\n",
       "      <th>52045</th>\n",
       "      <td>B738</td>\n",
       "      <td>Boeing 737-8AS</td>\n",
       "      <td>EI</td>\n",
       "      <td>Ryanair</td>\n",
       "      <td>LGAV</td>\n",
       "      <td>0.588235</td>\n",
       "      <td>EGSS</td>\n",
       "      <td>0.478261</td>\n",
       "      <td>0.411068</td>\n",
       "      <td>0.999998</td>\n",
       "      <td>...</td>\n",
       "      <td>9.850030e-05</td>\n",
       "      <td>1.000000</td>\n",
       "      <td>0.000002</td>\n",
       "      <td>1.200000e-06</td>\n",
       "      <td>0.000023</td>\n",
       "      <td>1.400000e-06</td>\n",
       "      <td>9.850030e-05</td>\n",
       "      <td>1.000000</td>\n",
       "      <td>2.200001e-06</td>\n",
       "      <td>1</td>\n",
       "    </tr>\n",
       "    <tr>\n",
       "      <th>99301</th>\n",
       "      <td>B752</td>\n",
       "      <td>Boeing 757-223</td>\n",
       "      <td>NoData</td>\n",
       "      <td>American Airlines</td>\n",
       "      <td>KMIA</td>\n",
       "      <td>0.176471</td>\n",
       "      <td>KDFW</td>\n",
       "      <td>0.217391</td>\n",
       "      <td>0.399370</td>\n",
       "      <td>0.999998</td>\n",
       "      <td>...</td>\n",
       "      <td>1.000003e-07</td>\n",
       "      <td>0.000001</td>\n",
       "      <td>0.000003</td>\n",
       "      <td>2.100000e-06</td>\n",
       "      <td>0.000009</td>\n",
       "      <td>5.000001e-07</td>\n",
       "      <td>1.000003e-07</td>\n",
       "      <td>0.000001</td>\n",
       "      <td>2.300001e-06</td>\n",
       "      <td>1</td>\n",
       "    </tr>\n",
       "    <tr>\n",
       "      <th>7493</th>\n",
       "      <td>A320</td>\n",
       "      <td>Airbus A320-214</td>\n",
       "      <td>D</td>\n",
       "      <td>Lufthansa</td>\n",
       "      <td>EDDF</td>\n",
       "      <td>0.529412</td>\n",
       "      <td>Others</td>\n",
       "      <td>0.521739</td>\n",
       "      <td>0.355826</td>\n",
       "      <td>0.999998</td>\n",
       "      <td>...</td>\n",
       "      <td>9.880030e-05</td>\n",
       "      <td>1.000000</td>\n",
       "      <td>0.000001</td>\n",
       "      <td>1.000000e-06</td>\n",
       "      <td>0.000023</td>\n",
       "      <td>5.000001e-07</td>\n",
       "      <td>9.880030e-05</td>\n",
       "      <td>0.001000</td>\n",
       "      <td>1.300001e-06</td>\n",
       "      <td>1</td>\n",
       "    </tr>\n",
       "    <tr>\n",
       "      <th>96030</th>\n",
       "      <td>A321</td>\n",
       "      <td>Airbus A321-131</td>\n",
       "      <td>D</td>\n",
       "      <td>Lufthansa</td>\n",
       "      <td>EDDF</td>\n",
       "      <td>0.529412</td>\n",
       "      <td>EDDT</td>\n",
       "      <td>0.521739</td>\n",
       "      <td>0.359075</td>\n",
       "      <td>0.999998</td>\n",
       "      <td>...</td>\n",
       "      <td>9.820029e-05</td>\n",
       "      <td>0.001000</td>\n",
       "      <td>0.000001</td>\n",
       "      <td>1.100000e-06</td>\n",
       "      <td>0.000029</td>\n",
       "      <td>9.000001e-07</td>\n",
       "      <td>9.830029e-05</td>\n",
       "      <td>0.001000</td>\n",
       "      <td>9.000005e-07</td>\n",
       "      <td>1</td>\n",
       "    </tr>\n",
       "  </tbody>\n",
       "</table>\n",
       "<p>5 rows × 27 columns</p>\n",
       "</div>"
      ],
      "text/plain": [
       "      aircraft_model_code aircraft_model_description aircraft_registration  \\\n",
       "40201                CRJ9       Bombardier CRJ-900LR                     D   \n",
       "52045                B738             Boeing 737-8AS                    EI   \n",
       "99301                B752             Boeing 757-223                NoData   \n",
       "7493                 A320            Airbus A320-214                     D   \n",
       "96030                A321            Airbus A321-131                     D   \n",
       "\n",
       "            airline_name flight_origin_code_icao  flight_origin_time_offset  \\\n",
       "40201          Lufthansa                    EDDF                   0.529412   \n",
       "52045            Ryanair                    LGAV                   0.588235   \n",
       "99301  American Airlines                    KMIA                   0.176471   \n",
       "7493           Lufthansa                    EDDF                   0.529412   \n",
       "96030          Lufthansa                    EDDF                   0.529412   \n",
       "\n",
       "      flight_destination_code_icao  flight_destination_time_offset  \\\n",
       "40201                       Others                        0.521739   \n",
       "52045                         EGSS                        0.478261   \n",
       "99301                         KDFW                        0.217391   \n",
       "7493                        Others                        0.521739   \n",
       "96030                         EDDT                        0.521739   \n",
       "\n",
       "       diff_arr_sched_dep_sched  diff_dep_real_dep_sched  ...    Pressure_x  \\\n",
       "40201                  0.362325                 0.999998  ...  9.840030e-05   \n",
       "52045                  0.411068                 0.999998  ...  9.850030e-05   \n",
       "99301                  0.399370                 0.999998  ...  1.000003e-07   \n",
       "7493                   0.355826                 0.999998  ...  9.880030e-05   \n",
       "96030                  0.359075                 0.999998  ...  9.820029e-05   \n",
       "\n",
       "       Visibility_x  Temperature_x   Dew point_y  Wind direction_y  \\\n",
       "40201      1.000000       0.000003  9.000001e-07          0.000018   \n",
       "52045      1.000000       0.000002  1.200000e-06          0.000023   \n",
       "99301      0.000001       0.000003  2.100000e-06          0.000009   \n",
       "7493       1.000000       0.000001  1.000000e-06          0.000023   \n",
       "96030      0.001000       0.000001  1.100000e-06          0.000029   \n",
       "\n",
       "       Wind speed_y    Pressure_y  Visibility_y  Temperature_y  target_2step  \n",
       "40201  8.000001e-07  9.840030e-05      1.000000   2.600001e-06             1  \n",
       "52045  1.400000e-06  9.850030e-05      1.000000   2.200001e-06             1  \n",
       "99301  5.000001e-07  1.000003e-07      0.000001   2.300001e-06             1  \n",
       "7493   5.000001e-07  9.880030e-05      0.001000   1.300001e-06             1  \n",
       "96030  9.000001e-07  9.830029e-05      0.001000   9.000005e-07             1  \n",
       "\n",
       "[5 rows x 27 columns]"
      ]
     },
     "execution_count": 93,
     "metadata": {},
     "output_type": "execute_result"
    }
   ],
   "source": [
    "df_2step =pd.concat([X_train_2step, y_train_2step], axis=1) \n",
    "df_2step.head()"
   ]
  },
  {
   "cell_type": "code",
   "execution_count": 94,
   "metadata": {
    "colab": {},
    "colab_type": "code",
    "id": "1vg--fJEquv9"
   },
   "outputs": [],
   "source": [
    "df_2step_0 = df_2step[df_2step.target_2step == 0]\n",
    "df_2step_1 = df_2step[df_2step.target_2step == 1]"
   ]
  },
  {
   "cell_type": "code",
   "execution_count": 95,
   "metadata": {
    "colab": {},
    "colab_type": "code",
    "id": "Pnn3CtV1vWd9"
   },
   "outputs": [],
   "source": [
    "from sklearn.utils import resample\n",
    "\n",
    "df_2step_0_upsampled = resample(df_2step_0, \n",
    "                                 replace=True,     # sample with replacement\n",
    "                                 n_samples=len(df_2step_1),    # to match majority class\n",
    "                                 random_state=123) "
   ]
  },
  {
   "cell_type": "code",
   "execution_count": 96,
   "metadata": {
    "colab": {},
    "colab_type": "code",
    "id": "xNd9bF-Zzq9V"
   },
   "outputs": [],
   "source": [
    "df_2step_upsampled = pd.concat([df_2step_1, df_2step_0_upsampled])"
   ]
  },
  {
   "cell_type": "code",
   "execution_count": 97,
   "metadata": {
    "colab": {},
    "colab_type": "code",
    "id": "nAxzmlrfzrJV"
   },
   "outputs": [],
   "source": [
    "df_2step_upsampled_shuffled = df_2step_upsampled.sample(frac=1).reset_index(drop=True)"
   ]
  },
  {
   "cell_type": "code",
   "execution_count": 98,
   "metadata": {
    "colab": {},
    "colab_type": "code",
    "id": "eCkGzzlBz4yt"
   },
   "outputs": [],
   "source": [
    "X_train_2step = df_2step_upsampled_shuffled.drop('target_2step', axis=1)\n",
    "y_train_2step = df_2step_upsampled_shuffled['target_2step']"
   ]
  },
  {
   "cell_type": "code",
   "execution_count": 99,
   "metadata": {
    "colab": {
     "base_uri": "https://localhost:8080/",
     "height": 72
    },
    "colab_type": "code",
    "id": "ogZ89fFa0BM-",
    "outputId": "1cd3ffec-ffb4-4b44-cca5-9042fa26bc9a"
   },
   "outputs": [
    {
     "data": {
      "text/plain": [
       "1    67732\n",
       "0    67732\n",
       "Name: target_2step, dtype: int64"
      ]
     },
     "execution_count": 99,
     "metadata": {},
     "output_type": "execute_result"
    }
   ],
   "source": [
    "y_train_2step.value_counts()"
   ]
  },
  {
   "cell_type": "markdown",
   "metadata": {
    "colab_type": "text",
    "id": "Q2JQmzVZAvup"
   },
   "source": [
    "# **Features Encoding**"
   ]
  },
  {
   "cell_type": "code",
   "execution_count": 100,
   "metadata": {
    "colab": {
     "base_uri": "https://localhost:8080/",
     "height": 345
    },
    "colab_type": "code",
    "id": "n9VU7JbzBOoA",
    "outputId": "b886a479-78f7-4bd9-fee5-74f6ab97e591"
   },
   "outputs": [
    {
     "name": "stdout",
     "output_type": "stream",
     "text": [
      "aircraft_model_code\n",
      "aircraft_model_description\n"
     ]
    },
    {
     "name": "stderr",
     "output_type": "stream",
     "text": [
      "C:\\tools\\miniconda3\\envs\\agifors\\lib\\site-packages\\ipykernel_launcher.py:6: SettingWithCopyWarning: \n",
      "A value is trying to be set on a copy of a slice from a DataFrame.\n",
      "Try using .loc[row_indexer,col_indexer] = value instead\n",
      "\n",
      "See the caveats in the documentation: http://pandas.pydata.org/pandas-docs/stable/user_guide/indexing.html#returning-a-view-versus-a-copy\n",
      "  \n",
      "C:\\tools\\miniconda3\\envs\\agifors\\lib\\site-packages\\ipykernel_launcher.py:7: SettingWithCopyWarning: \n",
      "A value is trying to be set on a copy of a slice from a DataFrame.\n",
      "Try using .loc[row_indexer,col_indexer] = value instead\n",
      "\n",
      "See the caveats in the documentation: http://pandas.pydata.org/pandas-docs/stable/user_guide/indexing.html#returning-a-view-versus-a-copy\n",
      "  import sys\n"
     ]
    },
    {
     "name": "stdout",
     "output_type": "stream",
     "text": [
      "aircraft_registration\n",
      "airline_name\n",
      "flight_origin_code_icao\n",
      "flight_destination_code_icao\n"
     ]
    }
   ],
   "source": [
    "from sklearn.preprocessing import LabelEncoder\n",
    "LE = LabelEncoder()\n",
    "\n",
    "for column in list(X_train_main.select_dtypes('object').columns):\n",
    "    print(column)\n",
    "    X_train_main[column] = LE.fit_transform(X_train_main[column])\n",
    "    X_test_main[column] = LE.transform(X_test_main[column])\n",
    "    \n",
    "    X_train_1step[column] = LE.fit_transform(X_train_1step[column])\n",
    "    X_test_1step[column] = LE.transform(X_test_1step[column])\n",
    "    \n",
    "    X_train_2step[column] = LE.fit_transform(X_train_2step[column])\n",
    "    X_test_2step[column] = LE.transform(X_test_2step[column])\n",
    "    "
   ]
  },
  {
   "cell_type": "markdown",
   "metadata": {
    "colab_type": "text",
    "id": "ekOkRIF91Jsa"
   },
   "source": [
    "# Evaluation function"
   ]
  },
  {
   "cell_type": "code",
   "execution_count": 101,
   "metadata": {
    "colab": {},
    "colab_type": "code",
    "id": "Mw4iqySo1N3a"
   },
   "outputs": [],
   "source": [
    "from scipy import interp\n",
    "\n",
    "from  sklearn.metrics import precision_recall_fscore_support\n",
    "from sklearn.metrics import roc_curve, auc\n",
    "from sklearn.preprocessing import LabelBinarizer\n",
    "\n",
    "def class_report(y_true, y_pred, y_score=None, average='micro'):\n",
    "    if y_true.shape != y_pred.shape:\n",
    "        print(\"Error! y_true %s is not the same shape as y_pred %s\" % (\n",
    "              y_true.shape,\n",
    "              y_pred.shape)\n",
    "        )\n",
    "        return\n",
    "\n",
    "    lb = LabelBinarizer()\n",
    "\n",
    "    if len(y_true.shape) == 1:\n",
    "        lb.fit(y_true)\n",
    "\n",
    "    #Value counts of predictions\n",
    "    labels, cnt = np.unique(\n",
    "        y_pred,\n",
    "        return_counts=True)\n",
    "    n_classes = len(labels)\n",
    "    pred_cnt = pd.Series(cnt, index=labels)\n",
    "\n",
    "    metrics_summary = precision_recall_fscore_support(\n",
    "            y_true=y_true,\n",
    "            y_pred=y_pred,\n",
    "            labels=labels)\n",
    "\n",
    "    avg = list(precision_recall_fscore_support(\n",
    "            y_true=y_true, \n",
    "            y_pred=y_pred,\n",
    "            average='weighted'))\n",
    "\n",
    "    metrics_sum_index = ['precision', 'recall', 'f1-score', 'support']\n",
    "    class_report_df = pd.DataFrame(\n",
    "        list(metrics_summary),\n",
    "        index=metrics_sum_index,\n",
    "        columns=labels)\n",
    "\n",
    "    support = class_report_df.loc['support']\n",
    "    total = support.sum() \n",
    "    class_report_df['avg / total'] = avg[:-1] + [total]\n",
    "\n",
    "    class_report_df = class_report_df.T\n",
    "    class_report_df['pred'] = pred_cnt\n",
    "    class_report_df['pred'].iloc[-1] = total\n",
    "\n",
    "    if not (y_score is None):\n",
    "        fpr = dict()\n",
    "        tpr = dict()\n",
    "        roc_auc = dict()\n",
    "        for label_it, label in enumerate(labels):\n",
    "            fpr[label], tpr[label], _ = roc_curve(\n",
    "                (y_true == label).astype(int), \n",
    "                y_score[:, label_it])\n",
    "\n",
    "            roc_auc[label] = auc(fpr[label], tpr[label])\n",
    "\n",
    "        if average == 'micro':\n",
    "            if n_classes <= 2:\n",
    "                fpr[\"avg / total\"], tpr[\"avg / total\"], _ = roc_curve(\n",
    "                    lb.transform(y_true).ravel(), \n",
    "                    y_score[:, 1].ravel())\n",
    "            else:\n",
    "                fpr[\"avg / total\"], tpr[\"avg / total\"], _ = roc_curve(\n",
    "                        lb.transform(y_true).ravel(), \n",
    "                        y_score.ravel())\n",
    "\n",
    "            roc_auc[\"avg / total\"] = auc(\n",
    "                fpr[\"avg / total\"], \n",
    "                tpr[\"avg / total\"])\n",
    "\n",
    "        elif average == 'macro':\n",
    "            # First aggregate all false positive rates\n",
    "            all_fpr = np.unique(np.concatenate([\n",
    "                fpr[i] for i in labels]\n",
    "            ))\n",
    "\n",
    "            # Then interpolate all ROC curves at this points\n",
    "            mean_tpr = np.zeros_like(all_fpr)\n",
    "            for i in labels:\n",
    "                mean_tpr += interp(all_fpr, fpr[i], tpr[i])\n",
    "\n",
    "            # Finally average it and compute AUC\n",
    "            mean_tpr /= n_classes\n",
    "\n",
    "            fpr[\"macro\"] = all_fpr\n",
    "            tpr[\"macro\"] = mean_tpr\n",
    "\n",
    "            roc_auc[\"avg / total\"] = auc(fpr[\"macro\"], tpr[\"macro\"])\n",
    "\n",
    "        class_report_df['ROC-AUC'] = pd.Series(roc_auc)\n",
    "\n",
    "    return class_report_df"
   ]
  },
  {
   "cell_type": "markdown",
   "metadata": {
    "colab_type": "text",
    "id": "LvjD2HwqAzqY"
   },
   "source": [
    "# Training step 1 (cancelation and departure delay **classification**)"
   ]
  },
  {
   "cell_type": "code",
   "execution_count": 102,
   "metadata": {
    "colab": {
     "base_uri": "https://localhost:8080/",
     "height": 35
    },
    "colab_type": "code",
    "id": "mEL05FnzBRX4",
    "outputId": "17b67822-4cd3-4588-bdd2-9da8287b9411"
   },
   "outputs": [
    {
     "name": "stdout",
     "output_type": "stream",
     "text": [
      "Validation accuracy: 0.7286610630993252\n"
     ]
    }
   ],
   "source": [
    "from xgboost import XGBClassifier\n",
    "from xgboost import plot_importance\n",
    "from sklearn.metrics import accuracy_score\n",
    "from sklearn.model_selection import StratifiedKFold\n",
    "\n",
    "# use X_train_1step and y_train_1step\n",
    "\n",
    "kf = StratifiedKFold(n_splits = 10, shuffle = True)\n",
    "\n",
    "xgb_model1 = XGBClassifier(objective='multi:softprob', learning_rate=0.45, num_class=3, n_jobs=-2)\n",
    "xgb_val_pred = np.empty([len(y_train_1step),])\n",
    "\n",
    "for tr_ind, val_ind in kf.split(X_train_1step, y_train_1step):\n",
    "    X_tr, X_val, y_tr, y_val = X_train_1step.iloc[tr_ind], X_train_1step.iloc[val_ind], y_train_1step.iloc[tr_ind], y_train_1step.iloc[val_ind]\n",
    "    xgb_model1.fit(X_tr, y_tr, \n",
    "              eval_set = [(X_tr, y_tr), (X_val, y_val)], \n",
    "              verbose = False, \n",
    "              early_stopping_rounds = 10)\n",
    "    xgb_val_pred[val_ind] = xgb_model1.predict(X_val)\n",
    "\n",
    "print('Validation accuracy:', accuracy_score(y_train_1step, xgb_val_pred) )"
   ]
  },
  {
   "cell_type": "code",
   "execution_count": 103,
   "metadata": {
    "colab": {
     "base_uri": "https://localhost:8080/",
     "height": 35
    },
    "colab_type": "code",
    "id": "jNipy0BtRFhk",
    "outputId": "2988e09e-c63b-487f-e688-dec9c07e6798"
   },
   "outputs": [
    {
     "name": "stdout",
     "output_type": "stream",
     "text": [
      "Training accuracy: 0.7353432513844494\n"
     ]
    }
   ],
   "source": [
    "y_train_pred = xgb_model1.predict(X_train_1step)\n",
    "print('Training accuracy:', accuracy_score(y_train_1step, y_train_pred) )"
   ]
  },
  {
   "cell_type": "code",
   "execution_count": 104,
   "metadata": {
    "colab": {
     "base_uri": "https://localhost:8080/",
     "height": 35
    },
    "colab_type": "code",
    "id": "i2eQ4ZhvGB3v",
    "outputId": "b98ff8fc-cbf0-4ad9-8825-0d06c884f21d"
   },
   "outputs": [
    {
     "name": "stdout",
     "output_type": "stream",
     "text": [
      "Test accuracy: 0.6441792836041359\n"
     ]
    }
   ],
   "source": [
    "predictions_1step = xgb_model1.predict(X_test_1step)\n",
    "print('Test accuracy:', accuracy_score(y_test_1step, predictions_1step) )"
   ]
  },
  {
   "cell_type": "code",
   "execution_count": 105,
   "metadata": {
    "colab": {
     "base_uri": "https://localhost:8080/",
     "height": 108
    },
    "colab_type": "code",
    "id": "weal9ObW08ZP",
    "outputId": "4c9e160a-3866-483e-e9af-28ec89fbffae"
   },
   "outputs": [
    {
     "data": {
      "text/html": [
       "<div>\n",
       "<style scoped>\n",
       "    .dataframe tbody tr th:only-of-type {\n",
       "        vertical-align: middle;\n",
       "    }\n",
       "\n",
       "    .dataframe tbody tr th {\n",
       "        vertical-align: top;\n",
       "    }\n",
       "\n",
       "    .dataframe thead th {\n",
       "        text-align: right;\n",
       "    }\n",
       "</style>\n",
       "<table border=\"1\" class=\"dataframe\">\n",
       "  <thead>\n",
       "    <tr style=\"text-align: right;\">\n",
       "      <th></th>\n",
       "      <th>precision</th>\n",
       "      <th>recall</th>\n",
       "      <th>f1-score</th>\n",
       "      <th>support</th>\n",
       "      <th>pred</th>\n",
       "      <th>ROC-AUC</th>\n",
       "    </tr>\n",
       "  </thead>\n",
       "  <tbody>\n",
       "    <tr>\n",
       "      <th>0</th>\n",
       "      <td>0.530394</td>\n",
       "      <td>0.830784</td>\n",
       "      <td>0.647443</td>\n",
       "      <td>2027.0</td>\n",
       "      <td>3175.0</td>\n",
       "      <td>0.952285</td>\n",
       "    </tr>\n",
       "    <tr>\n",
       "      <th>1</th>\n",
       "      <td>0.804972</td>\n",
       "      <td>0.602690</td>\n",
       "      <td>0.689297</td>\n",
       "      <td>27291.0</td>\n",
       "      <td>20433.0</td>\n",
       "      <td>0.741091</td>\n",
       "    </tr>\n",
       "    <tr>\n",
       "      <th>2</th>\n",
       "      <td>0.495892</td>\n",
       "      <td>0.698001</td>\n",
       "      <td>0.579840</td>\n",
       "      <td>14010.0</td>\n",
       "      <td>19720.0</td>\n",
       "      <td>0.740858</td>\n",
       "    </tr>\n",
       "    <tr>\n",
       "      <th>avg / total</th>\n",
       "      <td>0.692187</td>\n",
       "      <td>0.644179</td>\n",
       "      <td>0.651946</td>\n",
       "      <td>43328.0</td>\n",
       "      <td>43328.0</td>\n",
       "      <td>0.847119</td>\n",
       "    </tr>\n",
       "  </tbody>\n",
       "</table>\n",
       "</div>"
      ],
      "text/plain": [
       "             precision    recall  f1-score  support     pred   ROC-AUC\n",
       "0             0.530394  0.830784  0.647443   2027.0   3175.0  0.952285\n",
       "1             0.804972  0.602690  0.689297  27291.0  20433.0  0.741091\n",
       "2             0.495892  0.698001  0.579840  14010.0  19720.0  0.740858\n",
       "avg / total   0.692187  0.644179  0.651946  43328.0  43328.0  0.847119"
      ]
     },
     "metadata": {},
     "output_type": "display_data"
    }
   ],
   "source": [
    "perf_report = pd.DataFrame(class_report(y_test_1step, predictions_1step, y_score=xgb_model1.predict_proba(X_test_1step), average='micro'))\n",
    "display(perf_report)"
   ]
  },
  {
   "cell_type": "markdown",
   "metadata": {
    "colab_type": "text",
    "id": "M0YFTHult7NK"
   },
   "source": [
    "# Naive Prediction Model Departure"
   ]
  },
  {
   "cell_type": "code",
   "execution_count": 106,
   "metadata": {
    "colab": {
     "base_uri": "https://localhost:8080/",
     "height": 90
    },
    "colab_type": "code",
    "id": "2tKt0cidt7NK",
    "outputId": "fbb8913c-aa7c-40ab-ef9b-e2d8d9b177a5"
   },
   "outputs": [
    {
     "data": {
      "text/plain": [
       "1    0.629870\n",
       "2    0.323347\n",
       "0    0.046783\n",
       "Name: target_1step, dtype: float64"
      ]
     },
     "execution_count": 106,
     "metadata": {},
     "output_type": "execute_result"
    }
   ],
   "source": [
    "y_test_1step.value_counts()/len(y_test_1step)"
   ]
  },
  {
   "cell_type": "code",
   "execution_count": 107,
   "metadata": {},
   "outputs": [
    {
     "data": {
      "text/plain": [
       "1    36471\n",
       "0     4830\n",
       "Name: target_2step, dtype: int64"
      ]
     },
     "execution_count": 107,
     "metadata": {},
     "output_type": "execute_result"
    }
   ],
   "source": [
    "y_test_2step.value_counts()"
   ]
  },
  {
   "cell_type": "code",
   "execution_count": 108,
   "metadata": {
    "colab": {},
    "colab_type": "code",
    "id": "pXrEMk0Lt7NK"
   },
   "outputs": [
    {
     "data": {
      "text/plain": [
       "1    27291\n",
       "2    14010\n",
       "0     2027\n",
       "Name: target_1step, dtype: int64"
      ]
     },
     "execution_count": 108,
     "metadata": {},
     "output_type": "execute_result"
    }
   ],
   "source": [
    "y_test_1step.value_counts()\n"
   ]
  },
  {
   "cell_type": "code",
   "execution_count": 109,
   "metadata": {
    "colab": {
     "base_uri": "https://localhost:8080/",
     "height": 961
    },
    "colab_type": "code",
    "id": "p2WVNyjMjZSK",
    "outputId": "491ee243-35b3-4d53-f8cd-22776fb88f06"
   },
   "outputs": [
    {
     "name": "stderr",
     "output_type": "stream",
     "text": [
      "C:\\tools\\miniconda3\\envs\\agifors\\lib\\site-packages\\matplotlib\\font_manager.py:1241: UserWarning: findfont: Font family ['normal'] not found. Falling back to DejaVu Sans.\n",
      "  (prop.get_family(), self.defaultFamily[fontext]))\n"
     ]
    },
    {
     "data": {
      "image/png": "[encoded data removed]",
      "text/plain": [
       "<Figure size 1440x1080 with 1 Axes>"
      ]
     },
     "metadata": {
      "needs_background": "light"
     },
     "output_type": "display_data"
    }
   ],
   "source": [
    "font = {'family' : 'normal',\n",
    "        'weight' : 'normal',\n",
    "        'size'   : 22}\n",
    "plt.rc('font', **font)\n",
    "\n",
    "plt.rc('xtick', labelsize=20) \n",
    "plt.rc('ytick', labelsize=20) \n",
    "fig, ax = plt.subplots(figsize=(20,15))\n",
    "plot_importance(xgb_model1,ax=ax, show_values=True)\n",
    "\n",
    "plt.xlabel(\"Relative feature score\",fontsize=24)\n",
    "plt.ylabel('Feature name ', fontsize=24)\n",
    "plt.title('Feature importance', fontsize=24)\n",
    "\n",
    "plt.show()"
   ]
  },
  {
   "cell_type": "code",
   "execution_count": 110,
   "metadata": {
    "colab": {},
    "colab_type": "code",
    "id": "7NWUY62Ut7NM"
   },
   "outputs": [],
   "source": [
    "# xgb_model1.evals_result_\n",
    "\n"
   ]
  },
  {
   "cell_type": "code",
   "execution_count": 111,
   "metadata": {
    "colab": {},
    "colab_type": "code",
    "id": "NCTz0662t7NM",
    "scrolled": true
   },
   "outputs": [],
   "source": [
    "# pip install mlxtend"
   ]
  },
  {
   "cell_type": "code",
   "execution_count": 112,
   "metadata": {
    "colab": {},
    "colab_type": "code",
    "id": "WVx-sU2nKhD7",
    "scrolled": true
   },
   "outputs": [],
   "source": [
    "# from mlxtend.evaluate import confusion_matrix\n",
    "# from mlxtend.plotting import plot_confusion_matrix\n",
    "\n",
    "# # cm = confusion_matrix(y_target=y_test_1step, \n",
    "# #                       y_predicted= predictions_1step, \n",
    "# #                       binary=True)\n",
    "\n",
    "# # fig, ax = plot_confusion_matrix(conf_mat=cm)\n",
    "# # plt.rcParams[\"figure.figsize\"] = (4, 4)\n",
    "# # plt.show()"
   ]
  },
  {
   "cell_type": "markdown",
   "metadata": {
    "colab_type": "text",
    "id": "3AObsb0JA9CI"
   },
   "source": [
    "# Training step 2 (arrival delay **classification**)"
   ]
  },
  {
   "cell_type": "code",
   "execution_count": 113,
   "metadata": {
    "colab": {
     "base_uri": "https://localhost:8080/",
     "height": 35
    },
    "colab_type": "code",
    "id": "yWqSap-YBR_f",
    "outputId": "c4554217-1d73-463c-fd1a-0d1fe88f57bc"
   },
   "outputs": [
    {
     "name": "stdout",
     "output_type": "stream",
     "text": [
      "Validation accuracy: 0.8807432232917971\n"
     ]
    }
   ],
   "source": [
    "from xgboost import XGBClassifier\n",
    "from xgboost import plot_importance\n",
    "from sklearn.metrics import accuracy_score\n",
    "from sklearn.model_selection import StratifiedKFold\n",
    "\n",
    "kf = StratifiedKFold(n_splits = 10, shuffle = True)\n",
    "\n",
    "xgb_model2 = XGBClassifier(objective='multi:softprob', learning_rate=0.45, num_class=2, n_jobs=-2)\n",
    "xgb_val_pred = np.empty([len(y_train_2step),])\n",
    "\n",
    "for tr_ind, val_ind in kf.split(X_train_2step, y_train_2step):\n",
    "    X_tr, X_val, y_tr, y_val = X_train_2step.iloc[tr_ind], X_train_2step.iloc[val_ind], y_train_2step.iloc[tr_ind], y_train_2step.iloc[val_ind]\n",
    "    xgb_model2.fit(X_tr, y_tr, \n",
    "              eval_set = [(X_tr, y_tr), (X_val, y_val)], \n",
    "              verbose = False, \n",
    "              early_stopping_rounds = 10)\n",
    "    xgb_val_pred[val_ind] = xgb_model2.predict(X_val)\n",
    "\n",
    "print('Validation accuracy:', accuracy_score(y_train_2step, xgb_val_pred) )"
   ]
  },
  {
   "cell_type": "code",
   "execution_count": 114,
   "metadata": {
    "colab": {
     "base_uri": "https://localhost:8080/",
     "height": 145
    },
    "colab_type": "code",
    "id": "96v-zLx9t7NS",
    "outputId": "16669636-3228-41f7-e068-5c224d843b83"
   },
   "outputs": [
    {
     "data": {
      "text/plain": [
       "XGBClassifier(base_score=0.5, booster='gbtree', colsample_bylevel=1,\n",
       "              colsample_bynode=1, colsample_bytree=1, gamma=0,\n",
       "              learning_rate=0.45, max_delta_step=0, max_depth=3,\n",
       "              min_child_weight=1, missing=None, n_estimators=100, n_jobs=-2,\n",
       "              nthread=None, num_class=2, objective='multi:softprob',\n",
       "              random_state=0, reg_alpha=0, reg_lambda=1, scale_pos_weight=1,\n",
       "              seed=None, silent=None, subsample=1, verbosity=1)"
      ]
     },
     "execution_count": 114,
     "metadata": {},
     "output_type": "execute_result"
    }
   ],
   "source": [
    "xgb_model2"
   ]
  },
  {
   "cell_type": "code",
   "execution_count": 115,
   "metadata": {
    "colab": {
     "base_uri": "https://localhost:8080/",
     "height": 35
    },
    "colab_type": "code",
    "id": "RG4H9tWraMYP",
    "outputId": "5bfcf722-3f20-4fb7-bac2-da3100b2db3c"
   },
   "outputs": [
    {
     "name": "stdout",
     "output_type": "stream",
     "text": [
      "Training accuracy: 0.8815109549400578\n"
     ]
    }
   ],
   "source": [
    "# print('Validation accuracy:', accuracy_score(y_train_2step, xgb_val_pred) )\n",
    "Y_train_predict_2step = xgb_model2.predict(X_train_2step)\n",
    "print('Training accuracy:', accuracy_score(y_train_2step, Y_train_predict_2step) )\n",
    "predictions_2step = xgb_model2.predict(X_test_2step)"
   ]
  },
  {
   "cell_type": "code",
   "execution_count": 116,
   "metadata": {
    "colab": {
     "base_uri": "https://localhost:8080/",
     "height": 35
    },
    "colab_type": "code",
    "id": "a6TnRly4AS2f",
    "outputId": "26b49e10-2c6a-48e7-f164-cbc1b1ee8c8c"
   },
   "outputs": [
    {
     "name": "stdout",
     "output_type": "stream",
     "text": [
      "Test accuracy: 0.8792038933681993\n"
     ]
    }
   ],
   "source": [
    "print('Test accuracy:', accuracy_score(y_test_2step, predictions_2step) )"
   ]
  },
  {
   "cell_type": "code",
   "execution_count": 117,
   "metadata": {
    "colab": {
     "base_uri": "https://localhost:8080/",
     "height": 90
    },
    "colab_type": "code",
    "id": "P6aU_5gP2DcJ",
    "outputId": "fb0a9022-2975-4c01-fc24-18aaed60e1bb"
   },
   "outputs": [
    {
     "name": "stdout",
     "output_type": "stream",
     "text": [
      "             precision    recall  f1-score  support     pred   ROC-AUC\n",
      "0             0.490624  0.861284  0.625141   4830.0   8479.0  0.942481\n",
      "1             0.979587  0.881577  0.928001  36471.0  32822.0  0.942481\n",
      "avg / total   0.922404  0.879204  0.892583  41301.0  41301.0  0.942481\n"
     ]
    }
   ],
   "source": [
    "print(class_report(y_test_2step, predictions_2step, y_score=xgb_model2.predict_proba(X_test_2step), average='micro'))"
   ]
  },
  {
   "cell_type": "code",
   "execution_count": 118,
   "metadata": {},
   "outputs": [
    {
     "data": {
      "text/html": [
       "<div>\n",
       "<style scoped>\n",
       "    .dataframe tbody tr th:only-of-type {\n",
       "        vertical-align: middle;\n",
       "    }\n",
       "\n",
       "    .dataframe tbody tr th {\n",
       "        vertical-align: top;\n",
       "    }\n",
       "\n",
       "    .dataframe thead th {\n",
       "        text-align: right;\n",
       "    }\n",
       "</style>\n",
       "<table border=\"1\" class=\"dataframe\">\n",
       "  <thead>\n",
       "    <tr style=\"text-align: right;\">\n",
       "      <th></th>\n",
       "      <th>precision</th>\n",
       "      <th>recall</th>\n",
       "      <th>f1-score</th>\n",
       "      <th>support</th>\n",
       "      <th>pred</th>\n",
       "      <th>ROC-AUC</th>\n",
       "    </tr>\n",
       "  </thead>\n",
       "  <tbody>\n",
       "    <tr>\n",
       "      <th>0</th>\n",
       "      <td>0.490624</td>\n",
       "      <td>0.861284</td>\n",
       "      <td>0.625141</td>\n",
       "      <td>4830.0</td>\n",
       "      <td>8479.0</td>\n",
       "      <td>0.942481</td>\n",
       "    </tr>\n",
       "    <tr>\n",
       "      <th>1</th>\n",
       "      <td>0.979587</td>\n",
       "      <td>0.881577</td>\n",
       "      <td>0.928001</td>\n",
       "      <td>36471.0</td>\n",
       "      <td>32822.0</td>\n",
       "      <td>0.942481</td>\n",
       "    </tr>\n",
       "    <tr>\n",
       "      <th>avg / total</th>\n",
       "      <td>0.922404</td>\n",
       "      <td>0.879204</td>\n",
       "      <td>0.892583</td>\n",
       "      <td>41301.0</td>\n",
       "      <td>41301.0</td>\n",
       "      <td>0.942481</td>\n",
       "    </tr>\n",
       "  </tbody>\n",
       "</table>\n",
       "</div>"
      ],
      "text/plain": [
       "             precision    recall  f1-score  support     pred   ROC-AUC\n",
       "0             0.490624  0.861284  0.625141   4830.0   8479.0  0.942481\n",
       "1             0.979587  0.881577  0.928001  36471.0  32822.0  0.942481\n",
       "avg / total   0.922404  0.879204  0.892583  41301.0  41301.0  0.942481"
      ]
     },
     "metadata": {},
     "output_type": "display_data"
    }
   ],
   "source": [
    "perf_report = pd.DataFrame(class_report(y_test_2step, predictions_2step, y_score=xgb_model2.predict_proba(X_test_2step), average='micro'))\n",
    "display(perf_report)"
   ]
  },
  {
   "cell_type": "markdown",
   "metadata": {
    "colab_type": "text",
    "id": "AT2C3Nuxt7NW"
   },
   "source": [
    "# Naive prediction model Arrival"
   ]
  },
  {
   "cell_type": "code",
   "execution_count": 119,
   "metadata": {
    "colab": {
     "base_uri": "https://localhost:8080/",
     "height": 72
    },
    "colab_type": "code",
    "id": "NIeNpw-Ft7NW",
    "outputId": "4d17e7b8-d1a2-4bb5-9b5c-e2a56d9d56b8"
   },
   "outputs": [
    {
     "data": {
      "text/plain": [
       "1    0.883054\n",
       "0    0.116946\n",
       "Name: target_2step, dtype: float64"
      ]
     },
     "execution_count": 119,
     "metadata": {},
     "output_type": "execute_result"
    }
   ],
   "source": [
    "y_test_2step.value_counts()/len(y_test_2step)"
   ]
  },
  {
   "cell_type": "code",
   "execution_count": 120,
   "metadata": {},
   "outputs": [
    {
     "data": {
      "text/plain": [
       "1    36471\n",
       "0     4830\n",
       "Name: target_2step, dtype: int64"
      ]
     },
     "execution_count": 120,
     "metadata": {},
     "output_type": "execute_result"
    }
   ],
   "source": [
    "y_test_2step.value_counts()"
   ]
  },
  {
   "cell_type": "code",
   "execution_count": 121,
   "metadata": {
    "colab": {},
    "colab_type": "code",
    "id": "FvSlrcU1WydW"
   },
   "outputs": [],
   "source": [
    "# print(xgb_model2.feature_importances_)"
   ]
  },
  {
   "cell_type": "code",
   "execution_count": 122,
   "metadata": {
    "colab": {
     "base_uri": "https://localhost:8080/",
     "height": 925
    },
    "colab_type": "code",
    "id": "BdHwl96Riimr",
    "outputId": "2c6a67fe-ccb5-4dbe-d1b2-f76edbb6f377"
   },
   "outputs": [
    {
     "data": {
      "image/png": "[encoded data removed]",
      "text/plain": [
       "<Figure size 1440x1080 with 1 Axes>"
      ]
     },
     "metadata": {
      "needs_background": "light"
     },
     "output_type": "display_data"
    }
   ],
   "source": [
    "font = {'family' : 'normal',\n",
    "        'weight' : 'normal',\n",
    "        'size'   : 22}\n",
    "plt.rc('font', **font)\n",
    "\n",
    "plt.rc('xtick', labelsize=20) \n",
    "plt.rc('ytick', labelsize=20) \n",
    "fig, ax = plt.subplots(figsize=(20,15))\n",
    "plot_importance(xgb_model2,ax=ax, show_values=True)\n",
    "\n",
    "plt.xlabel(\"Relative feature score\",fontsize=24)\n",
    "plt.ylabel('Feature name ', fontsize=24)\n",
    "plt.title('Feature importance', fontsize=24)\n",
    "\n",
    "plt.show()"
   ]
  },
  {
   "cell_type": "code",
   "execution_count": null,
   "metadata": {
    "colab": {},
    "colab_type": "code",
    "id": "XHif6r5mt7Nb"
   },
   "outputs": [],
   "source": []
  },
  {
   "cell_type": "code",
   "execution_count": 123,
   "metadata": {
    "colab": {
     "base_uri": "https://localhost:8080/",
     "height": 419
    },
    "colab_type": "code",
    "id": "-PH1DojBt7Nc",
    "outputId": "303b58ff-5a73-4221-a829-afaee0f6a20e"
   },
   "outputs": [
    {
     "name": "stderr",
     "output_type": "stream",
     "text": [
      "C:\\tools\\miniconda3\\envs\\agifors\\lib\\site-packages\\matplotlib\\font_manager.py:1241: UserWarning: findfont: Font family ['normal'] not found. Falling back to DejaVu Sans.\n",
      "  (prop.get_family(), self.defaultFamily[fontext]))\n"
     ]
    },
    {
     "data": {
      "image/png": "[encoded data removed]",
      "text/plain": [
       "<Figure size 432x288 with 1 Axes>"
      ]
     },
     "metadata": {
      "needs_background": "light"
     },
     "output_type": "display_data"
    }
   ],
   "source": [
    "from sklearn.metrics import confusion_matrix\n",
    "cm = confusion_matrix(y_test_2step,predictions_2step)\n",
    "plt.clf()\n",
    "plt.imshow(cm, interpolation='nearest', cmap=plt.cm.Wistia)\n",
    "classNames = ['Negative','Positive']\n",
    "plt.title('Arrival disruptions - Test Data')\n",
    "plt.ylabel('True delay')\n",
    "plt.xlabel('Predicted delay')\n",
    "tick_marks = np.arange(len(classNames))\n",
    "plt.xticks(tick_marks, classNames, rotation=45)\n",
    "plt.yticks(tick_marks, classNames)\n",
    "s = [['TN','FP'], ['FN', 'TP']]\n",
    "for i in range(2):\n",
    "    for j in range(2):\n",
    "        plt.text(j,i, str(s[i][j])+\" = \"+str(cm[i][j]))\n",
    "plt.show()\n",
    "\n"
   ]
  },
  {
   "cell_type": "markdown",
   "metadata": {
    "colab_type": "text",
    "id": "JAso4b5ft7Nd"
   },
   "source": [
    "## Naive Models and comparison for both steps"
   ]
  },
  {
   "cell_type": "code",
   "execution_count": 158,
   "metadata": {
    "colab": {},
    "colab_type": "code",
    "id": "6-dEKkKkt7Nd"
   },
   "outputs": [],
   "source": [
    "import random\n",
    "def naive_labels_departure():\n",
    "    x=random.uniform(0,1)\n",
    "\n",
    "    w1 = 0.629870\n",
    "    w2 = 0.323347\n",
    "    if x<=w1:y=0 # Departure delay\n",
    "    elif x>w1 and x<=w1+w2:\n",
    "        y=1 # No Delay\n",
    "    else:\n",
    "        y=2 # Cancellation\n",
    "    return y\n",
    "\n",
    "def naive_labels_arrival():\n",
    "    x=random.uniform(0,1)\n",
    "    w1 = 0.888613197\n",
    "    if x<=w1:\n",
    "        y=0\n",
    "    else:\n",
    "        y=1\n",
    "    return y\n",
    "\n",
    "def naive_predictions(len_df,mode_idx):\n",
    " \n",
    "    if mode_idx == \"arr\":    \n",
    "        return pd.DataFrame([naive_labels_arrival() for x in range(len_df) ])\n",
    "    elif mode_idx == \"dep\":\n",
    "        return pd.DataFrame([naive_labels_departure() for x in range(len_df) ])\n",
    "  \n"
   ]
  },
  {
   "cell_type": "markdown",
   "metadata": {
    "colab_type": "text",
    "id": "Acv9m2yLt7Ne"
   },
   "source": [
    "# pre-extra eval info"
   ]
  },
  {
   "cell_type": "code",
   "execution_count": 125,
   "metadata": {
    "colab": {
     "base_uri": "https://localhost:8080/",
     "height": 90
    },
    "colab_type": "code",
    "id": "9cGput_jt7Ne",
    "outputId": "80bd6910-f717-4267-fc38-b5882f311eb4"
   },
   "outputs": [
    {
     "data": {
      "text/plain": [
       "1    0.629866\n",
       "2    0.323354\n",
       "0    0.046780\n",
       "Name: target_1step, dtype: float64"
      ]
     },
     "execution_count": 125,
     "metadata": {},
     "output_type": "execute_result"
    }
   ],
   "source": [
    "target_1step.value_counts()/len(target_1step)"
   ]
  },
  {
   "cell_type": "code",
   "execution_count": 126,
   "metadata": {
    "colab": {
     "base_uri": "https://localhost:8080/",
     "height": 72
    },
    "colab_type": "code",
    "id": "c1bCMh9Jt7Nf",
    "outputId": "2c099498-f596-4075-d801-52597e3a9048"
   },
   "outputs": [
    {
     "data": {
      "text/plain": [
       "1    0.888532\n",
       "0    0.111468\n",
       "Name: target_2step, dtype: float64"
      ]
     },
     "execution_count": 126,
     "metadata": {},
     "output_type": "execute_result"
    }
   ],
   "source": [
    "target_2step.value_counts()/len(target_2step)"
   ]
  },
  {
   "cell_type": "code",
   "execution_count": 127,
   "metadata": {
    "colab": {
     "base_uri": "https://localhost:8080/",
     "height": 35
    },
    "colab_type": "code",
    "id": "ohRUCbYEt7Ng",
    "outputId": "40b69b4b-0607-4009-b10d-2cb447f23d30"
   },
   "outputs": [
    {
     "data": {
      "text/plain": [
       "43328"
      ]
     },
     "execution_count": 127,
     "metadata": {},
     "output_type": "execute_result"
    }
   ],
   "source": [
    "len(y_test_1step)"
   ]
  },
  {
   "cell_type": "code",
   "execution_count": 128,
   "metadata": {
    "colab": {
     "base_uri": "https://localhost:8080/",
     "height": 72
    },
    "colab_type": "code",
    "id": "yGK9EcAvt7Nh",
    "outputId": "34bcc313-2634-4e60-8e3e-b34955f7a81c",
    "scrolled": true
   },
   "outputs": [
    {
     "data": {
      "text/plain": [
       "1    0.5\n",
       "0    0.5\n",
       "Name: target_2step, dtype: float64"
      ]
     },
     "execution_count": 128,
     "metadata": {},
     "output_type": "execute_result"
    }
   ],
   "source": [
    "y_train_2step.value_counts()/len(y_train_2step)"
   ]
  },
  {
   "cell_type": "code",
   "execution_count": 129,
   "metadata": {
    "colab": {
     "base_uri": "https://localhost:8080/",
     "height": 72
    },
    "colab_type": "code",
    "id": "hk6qT2yit7Nh",
    "outputId": "1bf6ab4f-9e14-4316-d0d9-1e56061405fe",
    "scrolled": true
   },
   "outputs": [
    {
     "data": {
      "text/plain": [
       "1    0.883054\n",
       "0    0.116946\n",
       "Name: target_2step, dtype: float64"
      ]
     },
     "execution_count": 129,
     "metadata": {},
     "output_type": "execute_result"
    }
   ],
   "source": [
    "y_test_2step.value_counts()/len(y_test_2step)"
   ]
  },
  {
   "cell_type": "code",
   "execution_count": 130,
   "metadata": {
    "colab": {
     "base_uri": "https://localhost:8080/",
     "height": 35
    },
    "colab_type": "code",
    "id": "2Ojv9xd1t7Ni",
    "outputId": "cf8c17a5-0671-4e8f-8f03-53804bfc77cb"
   },
   "outputs": [
    {
     "data": {
      "text/plain": [
       "41301"
      ]
     },
     "execution_count": 130,
     "metadata": {},
     "output_type": "execute_result"
    }
   ],
   "source": [
    "len(y_test_2step)"
   ]
  },
  {
   "cell_type": "markdown",
   "metadata": {
    "colab_type": "text",
    "id": "EQSiLttst7Nj"
   },
   "source": [
    "## Extra evaluation steps (naive model 1)"
   ]
  },
  {
   "cell_type": "markdown",
   "metadata": {
    "colab_type": "text",
    "id": "W5z9MVGJt7Nj"
   },
   "source": [
    "## departures case"
   ]
  },
  {
   "cell_type": "code",
   "execution_count": 131,
   "metadata": {
    "colab": {
     "base_uri": "https://localhost:8080/",
     "height": 90
    },
    "colab_type": "code",
    "id": "b1u5t2het7Nl",
    "outputId": "26d9a3fd-02b5-4977-ce8e-8d0d45ea1102"
   },
   "outputs": [
    {
     "data": {
      "text/plain": [
       "2    0.333333\n",
       "1    0.333333\n",
       "0    0.333333\n",
       "Name: target_1step, dtype: float64"
      ]
     },
     "execution_count": 131,
     "metadata": {},
     "output_type": "execute_result"
    }
   ],
   "source": [
    "# y_test_1step.unique().s\n",
    "y_train_1step.value_counts()/len(y_train_1step)"
   ]
  },
  {
   "cell_type": "markdown",
   "metadata": {},
   "source": [
    "# XGBoost model Departures (performance)"
   ]
  },
  {
   "cell_type": "code",
   "execution_count": 159,
   "metadata": {
    "colab": {},
    "colab_type": "code",
    "id": "2Nk-EJKdt7Nk"
   },
   "outputs": [],
   "source": [
    "naive_m1_train11 = naive_predictions(len(y_train_1step),\"dep\")\n",
    "naive_m1_test11 = naive_predictions(len(y_test_1step),\"dep\")"
   ]
  },
  {
   "cell_type": "code",
   "execution_count": 170,
   "metadata": {},
   "outputs": [
    {
     "data": {
      "text/html": [
       "<div>\n",
       "<style scoped>\n",
       "    .dataframe tbody tr th:only-of-type {\n",
       "        vertical-align: middle;\n",
       "    }\n",
       "\n",
       "    .dataframe tbody tr th {\n",
       "        vertical-align: top;\n",
       "    }\n",
       "\n",
       "    .dataframe thead th {\n",
       "        text-align: right;\n",
       "    }\n",
       "</style>\n",
       "<table border=\"1\" class=\"dataframe\">\n",
       "  <thead>\n",
       "    <tr style=\"text-align: right;\">\n",
       "      <th></th>\n",
       "      <th>precision</th>\n",
       "      <th>recall</th>\n",
       "      <th>f1-score</th>\n",
       "      <th>support</th>\n",
       "      <th>pred</th>\n",
       "      <th>ROC-AUC</th>\n",
       "    </tr>\n",
       "  </thead>\n",
       "  <tbody>\n",
       "    <tr>\n",
       "      <th>0</th>\n",
       "      <td>0.530394</td>\n",
       "      <td>0.830784</td>\n",
       "      <td>0.647443</td>\n",
       "      <td>2027.0</td>\n",
       "      <td>3175.0</td>\n",
       "      <td>0.952285</td>\n",
       "    </tr>\n",
       "    <tr>\n",
       "      <th>1</th>\n",
       "      <td>0.804972</td>\n",
       "      <td>0.602690</td>\n",
       "      <td>0.689297</td>\n",
       "      <td>27291.0</td>\n",
       "      <td>20433.0</td>\n",
       "      <td>0.741091</td>\n",
       "    </tr>\n",
       "    <tr>\n",
       "      <th>2</th>\n",
       "      <td>0.495892</td>\n",
       "      <td>0.698001</td>\n",
       "      <td>0.579840</td>\n",
       "      <td>14010.0</td>\n",
       "      <td>19720.0</td>\n",
       "      <td>0.740858</td>\n",
       "    </tr>\n",
       "    <tr>\n",
       "      <th>avg / total</th>\n",
       "      <td>0.692187</td>\n",
       "      <td>0.644179</td>\n",
       "      <td>0.651946</td>\n",
       "      <td>43328.0</td>\n",
       "      <td>43328.0</td>\n",
       "      <td>0.847119</td>\n",
       "    </tr>\n",
       "  </tbody>\n",
       "</table>\n",
       "</div>"
      ],
      "text/plain": [
       "             precision    recall  f1-score  support     pred   ROC-AUC\n",
       "0             0.530394  0.830784  0.647443   2027.0   3175.0  0.952285\n",
       "1             0.804972  0.602690  0.689297  27291.0  20433.0  0.741091\n",
       "2             0.495892  0.698001  0.579840  14010.0  19720.0  0.740858\n",
       "avg / total   0.692187  0.644179  0.651946  43328.0  43328.0  0.847119"
      ]
     },
     "metadata": {},
     "output_type": "display_data"
    }
   ],
   "source": [
    "perf_report = pd.DataFrame(class_report(y_test_1step, predictions_1step, y_score=xgb_model1.predict_proba(X_test_1step), average='micro'))\n",
    "display(perf_report)"
   ]
  },
  {
   "cell_type": "markdown",
   "metadata": {},
   "source": [
    "# Naive model Departures (performance)"
   ]
  },
  {
   "cell_type": "code",
   "execution_count": 171,
   "metadata": {},
   "outputs": [],
   "source": [
    "df_ =np.array(pd.get_dummies(naive_m1_test11,columns = [0]).values.tolist())"
   ]
  },
  {
   "cell_type": "code",
   "execution_count": 172,
   "metadata": {},
   "outputs": [
    {
     "data": {
      "text/html": [
       "<div>\n",
       "<style scoped>\n",
       "    .dataframe tbody tr th:only-of-type {\n",
       "        vertical-align: middle;\n",
       "    }\n",
       "\n",
       "    .dataframe tbody tr th {\n",
       "        vertical-align: top;\n",
       "    }\n",
       "\n",
       "    .dataframe thead th {\n",
       "        text-align: right;\n",
       "    }\n",
       "</style>\n",
       "<table border=\"1\" class=\"dataframe\">\n",
       "  <thead>\n",
       "    <tr style=\"text-align: right;\">\n",
       "      <th></th>\n",
       "      <th>precision</th>\n",
       "      <th>recall</th>\n",
       "      <th>f1-score</th>\n",
       "      <th>support</th>\n",
       "      <th>pred</th>\n",
       "      <th>ROC-AUC</th>\n",
       "    </tr>\n",
       "  </thead>\n",
       "  <tbody>\n",
       "    <tr>\n",
       "      <th>0</th>\n",
       "      <td>0.046606</td>\n",
       "      <td>0.625555</td>\n",
       "      <td>0.086748</td>\n",
       "      <td>2027.0</td>\n",
       "      <td>27207.0</td>\n",
       "      <td>0.498754</td>\n",
       "    </tr>\n",
       "    <tr>\n",
       "      <th>1</th>\n",
       "      <td>0.630661</td>\n",
       "      <td>0.326042</td>\n",
       "      <td>0.429855</td>\n",
       "      <td>27291.0</td>\n",
       "      <td>14109.0</td>\n",
       "      <td>0.500553</td>\n",
       "    </tr>\n",
       "    <tr>\n",
       "      <th>2</th>\n",
       "      <td>0.326541</td>\n",
       "      <td>0.046895</td>\n",
       "      <td>0.082012</td>\n",
       "      <td>14010.0</td>\n",
       "      <td>2012.0</td>\n",
       "      <td>0.500339</td>\n",
       "    </tr>\n",
       "    <tr>\n",
       "      <th>avg / total</th>\n",
       "      <td>0.505001</td>\n",
       "      <td>0.249792</td>\n",
       "      <td>0.301330</td>\n",
       "      <td>43328.0</td>\n",
       "      <td>43328.0</td>\n",
       "      <td>0.437344</td>\n",
       "    </tr>\n",
       "  </tbody>\n",
       "</table>\n",
       "</div>"
      ],
      "text/plain": [
       "             precision    recall  f1-score  support     pred   ROC-AUC\n",
       "0             0.046606  0.625555  0.086748   2027.0  27207.0  0.498754\n",
       "1             0.630661  0.326042  0.429855  27291.0  14109.0  0.500553\n",
       "2             0.326541  0.046895  0.082012  14010.0   2012.0  0.500339\n",
       "avg / total   0.505001  0.249792  0.301330  43328.0  43328.0  0.437344"
      ]
     },
     "metadata": {},
     "output_type": "display_data"
    }
   ],
   "source": [
    "perf_report = pd.DataFrame(class_report(y_test_1step, np.array(list(naive_m1_test11[0])), y_score=df_, average='micro'))\n",
    "display(perf_report)"
   ]
  },
  {
   "cell_type": "code",
   "execution_count": null,
   "metadata": {},
   "outputs": [],
   "source": [
    "predictions_1step"
   ]
  },
  {
   "cell_type": "code",
   "execution_count": null,
   "metadata": {
    "colab": {
     "base_uri": "https://localhost:8080/",
     "height": 54
    },
    "colab_type": "code",
    "id": "ftnHmlett7Nn",
    "outputId": "c3227be4-617f-49e6-9109-1bd66c01bc5c"
   },
   "outputs": [],
   "source": [
    "accu_train11 = accuracy_score(naive_m1_train11,y_train_1step)\n",
    "accu_test11 = accuracy_score(naive_m1_test11,y_test_1step)\n",
    "print(\"accuracy for departure in training set is: \",accu_train11)\n",
    "print(\"accuracy for departure in test set is: \",accu_test11)"
   ]
  },
  {
   "cell_type": "markdown",
   "metadata": {
    "colab_type": "text",
    "id": "AxWbQ5_lt7No"
   },
   "source": [
    "## arrivals case"
   ]
  },
  {
   "cell_type": "markdown",
   "metadata": {},
   "source": [
    "# XGBoost model Arrivals (performance)"
   ]
  },
  {
   "cell_type": "code",
   "execution_count": 185,
   "metadata": {
    "colab": {},
    "colab_type": "code",
    "id": "xg0BUH5st7No"
   },
   "outputs": [],
   "source": [
    "naive_m1_train12 = naive_predictions(len(y_train_2step),\"arr\")\n",
    "naive_m1_test12 = naive_predictions(len(y_test_2step),\"arr\")"
   ]
  },
  {
   "cell_type": "code",
   "execution_count": 186,
   "metadata": {},
   "outputs": [
    {
     "data": {
      "text/html": [
       "<div>\n",
       "<style scoped>\n",
       "    .dataframe tbody tr th:only-of-type {\n",
       "        vertical-align: middle;\n",
       "    }\n",
       "\n",
       "    .dataframe tbody tr th {\n",
       "        vertical-align: top;\n",
       "    }\n",
       "\n",
       "    .dataframe thead th {\n",
       "        text-align: right;\n",
       "    }\n",
       "</style>\n",
       "<table border=\"1\" class=\"dataframe\">\n",
       "  <thead>\n",
       "    <tr style=\"text-align: right;\">\n",
       "      <th></th>\n",
       "      <th>precision</th>\n",
       "      <th>recall</th>\n",
       "      <th>f1-score</th>\n",
       "      <th>support</th>\n",
       "      <th>pred</th>\n",
       "      <th>ROC-AUC</th>\n",
       "    </tr>\n",
       "  </thead>\n",
       "  <tbody>\n",
       "    <tr>\n",
       "      <th>0</th>\n",
       "      <td>0.490624</td>\n",
       "      <td>0.861284</td>\n",
       "      <td>0.625141</td>\n",
       "      <td>4830.0</td>\n",
       "      <td>8479.0</td>\n",
       "      <td>0.942481</td>\n",
       "    </tr>\n",
       "    <tr>\n",
       "      <th>1</th>\n",
       "      <td>0.979587</td>\n",
       "      <td>0.881577</td>\n",
       "      <td>0.928001</td>\n",
       "      <td>36471.0</td>\n",
       "      <td>32822.0</td>\n",
       "      <td>0.942481</td>\n",
       "    </tr>\n",
       "    <tr>\n",
       "      <th>avg / total</th>\n",
       "      <td>0.922404</td>\n",
       "      <td>0.879204</td>\n",
       "      <td>0.892583</td>\n",
       "      <td>41301.0</td>\n",
       "      <td>41301.0</td>\n",
       "      <td>0.942481</td>\n",
       "    </tr>\n",
       "  </tbody>\n",
       "</table>\n",
       "</div>"
      ],
      "text/plain": [
       "             precision    recall  f1-score  support     pred   ROC-AUC\n",
       "0             0.490624  0.861284  0.625141   4830.0   8479.0  0.942481\n",
       "1             0.979587  0.881577  0.928001  36471.0  32822.0  0.942481\n",
       "avg / total   0.922404  0.879204  0.892583  41301.0  41301.0  0.942481"
      ]
     },
     "metadata": {},
     "output_type": "display_data"
    }
   ],
   "source": [
    "perf_report = pd.DataFrame(class_report(y_test_2step, predictions_2step, y_score=xgb_model2.predict_proba(X_test_2step), average='micro'))\n",
    "display(perf_report)"
   ]
  },
  {
   "cell_type": "code",
   "execution_count": null,
   "metadata": {},
   "outputs": [],
   "source": []
  },
  {
   "cell_type": "markdown",
   "metadata": {},
   "source": [
    "# Naive model Arrivals (performance)"
   ]
  },
  {
   "cell_type": "code",
   "execution_count": 187,
   "metadata": {},
   "outputs": [],
   "source": [
    "df_ =np.array(pd.get_dummies(naive_m1_test12,columns = [0]).values.tolist())"
   ]
  },
  {
   "cell_type": "code",
   "execution_count": 188,
   "metadata": {},
   "outputs": [
    {
     "data": {
      "text/html": [
       "<div>\n",
       "<style scoped>\n",
       "    .dataframe tbody tr th:only-of-type {\n",
       "        vertical-align: middle;\n",
       "    }\n",
       "\n",
       "    .dataframe tbody tr th {\n",
       "        vertical-align: top;\n",
       "    }\n",
       "\n",
       "    .dataframe thead th {\n",
       "        text-align: right;\n",
       "    }\n",
       "</style>\n",
       "<table border=\"1\" class=\"dataframe\">\n",
       "  <thead>\n",
       "    <tr style=\"text-align: right;\">\n",
       "      <th></th>\n",
       "      <th>precision</th>\n",
       "      <th>recall</th>\n",
       "      <th>f1-score</th>\n",
       "      <th>support</th>\n",
       "      <th>pred</th>\n",
       "      <th>ROC-AUC</th>\n",
       "    </tr>\n",
       "  </thead>\n",
       "  <tbody>\n",
       "    <tr>\n",
       "      <th>0</th>\n",
       "      <td>0.117500</td>\n",
       "      <td>0.894410</td>\n",
       "      <td>0.207712</td>\n",
       "      <td>4830.0</td>\n",
       "      <td>36766.0</td>\n",
       "      <td>0.502386</td>\n",
       "    </tr>\n",
       "    <tr>\n",
       "      <th>1</th>\n",
       "      <td>0.887541</td>\n",
       "      <td>0.110362</td>\n",
       "      <td>0.196313</td>\n",
       "      <td>36471.0</td>\n",
       "      <td>4535.0</td>\n",
       "      <td>0.502386</td>\n",
       "    </tr>\n",
       "    <tr>\n",
       "      <th>avg / total</th>\n",
       "      <td>0.797488</td>\n",
       "      <td>0.202053</td>\n",
       "      <td>0.197646</td>\n",
       "      <td>41301.0</td>\n",
       "      <td>41301.0</td>\n",
       "      <td>0.502386</td>\n",
       "    </tr>\n",
       "  </tbody>\n",
       "</table>\n",
       "</div>"
      ],
      "text/plain": [
       "             precision    recall  f1-score  support     pred   ROC-AUC\n",
       "0             0.117500  0.894410  0.207712   4830.0  36766.0  0.502386\n",
       "1             0.887541  0.110362  0.196313  36471.0   4535.0  0.502386\n",
       "avg / total   0.797488  0.202053  0.197646  41301.0  41301.0  0.502386"
      ]
     },
     "metadata": {},
     "output_type": "display_data"
    }
   ],
   "source": [
    "perf_report = pd.DataFrame(class_report(y_test_2step, np.array(list(naive_m1_test12[0])), y_score=df_, average='micro'))\n",
    "display(perf_report)"
   ]
  },
  {
   "cell_type": "code",
   "execution_count": null,
   "metadata": {
    "colab": {
     "base_uri": "https://localhost:8080/",
     "height": 54
    },
    "colab_type": "code",
    "id": "oLY3SkBit7Np",
    "outputId": "c90407ff-0ffa-41ee-d07b-055d2294601c"
   },
   "outputs": [],
   "source": [
    "accu_train12 = accuracy_score(naive_m2_train12,y_train_2step)\n",
    "accu_test12 = accuracy_score(naive_m2_test12,y_test_2step)\n",
    "print(\"accuracy for arrival in training set is: \",accu_train12)\n",
    "print(\"accuracy for arrival in test set is: \",accu_test12)"
   ]
  },
  {
   "cell_type": "markdown",
   "metadata": {
    "colab_type": "text",
    "id": "AdG-QCDht7Np"
   },
   "source": [
    "## Extra evaluation steps (naive model 2)"
   ]
  },
  {
   "cell_type": "code",
   "execution_count": null,
   "metadata": {
    "colab": {},
    "colab_type": "code",
    "id": "oVsysesKt7Nq"
   },
   "outputs": [],
   "source": [
    "def naive_predictions1(len_df):\n",
    "    return pd.DataFrame([0 for x in range(len_df) ])"
   ]
  },
  {
   "cell_type": "markdown",
   "metadata": {
    "colab_type": "text",
    "id": "xVs7ed5Pt7Nq"
   },
   "source": [
    "## departures case"
   ]
  },
  {
   "cell_type": "code",
   "execution_count": null,
   "metadata": {
    "colab": {},
    "colab_type": "code",
    "id": "SrJaDEVAt7Nq"
   },
   "outputs": [],
   "source": [
    "# naive_m1_train"
   ]
  },
  {
   "cell_type": "code",
   "execution_count": null,
   "metadata": {
    "colab": {},
    "colab_type": "code",
    "id": "XpgfxwAdt7Ns"
   },
   "outputs": [],
   "source": [
    "naive_m2_train21 = naive_predictions1(len(y_train_1step))\n",
    "naive_m2_test21 = naive_predictions1(len(y_test_1step))\n"
   ]
  },
  {
   "cell_type": "code",
   "execution_count": null,
   "metadata": {
    "colab": {
     "base_uri": "https://localhost:8080/",
     "height": 54
    },
    "colab_type": "code",
    "id": "3d8YAwE8t7Nt",
    "outputId": "df1bd995-ba41-4642-c358-a4c4a99efd4b"
   },
   "outputs": [],
   "source": [
    "accu_train21 = accuracy_score(naive_m2_train21,y_train_1step)\n",
    "accu_test21 = accuracy_score(naive_m2_test21,y_test_1step)\n",
    "print(\"accuracy for departure in training set is: \",accu_train21)\n",
    "print(\"accuracy for departure in test set is: \",accu_test21)"
   ]
  },
  {
   "cell_type": "markdown",
   "metadata": {
    "colab_type": "text",
    "id": "9kOK72vFt7Nt"
   },
   "source": [
    "## arrivals case"
   ]
  },
  {
   "cell_type": "code",
   "execution_count": null,
   "metadata": {
    "colab": {},
    "colab_type": "code",
    "id": "UvwPTRMkt7Nt"
   },
   "outputs": [],
   "source": [
    "naive_m2_train22 = naive_predictions1(len(y_train_2step))\n",
    "naive_m2_test22 = naive_predictions1(len(y_test_2step))\n"
   ]
  },
  {
   "cell_type": "code",
   "execution_count": 137,
   "metadata": {
    "colab": {},
    "colab_type": "code",
    "id": "2Nk-EJKdt7Nk"
   },
   "outputs": [],
   "source": [
    "naive_m1_train12 = naive_predictions(len(y_train_2step),\"dep\")\n",
    "naive_m1_test12 = naive_predictions(len(y_test_2step),\"dep\")"
   ]
  },
  {
   "cell_type": "code",
   "execution_count": null,
   "metadata": {
    "colab": {
     "base_uri": "https://localhost:8080/",
     "height": 54
    },
    "colab_type": "code",
    "id": "EkE16RVmt7Nv",
    "outputId": "590ad4bf-9040-40dd-8a4b-89bb756e5c72"
   },
   "outputs": [],
   "source": [
    "accu_train22 = accuracy_score(naive_m2_train22,y_train_2step)\n",
    "accu_test22 = accuracy_score(naive_m2_test22,y_test_2step)\n",
    "print(\"accuracy for departure in training set is: \",accu_train22)\n",
    "print(\"accuracy for departure in test set is: \",accu_test22)"
   ]
  },
  {
   "cell_type": "markdown",
   "metadata": {
    "colab_type": "text",
    "id": "VrdQTq2BNsu_"
   },
   "source": [
    "# Tests"
   ]
  },
  {
   "cell_type": "code",
   "execution_count": null,
   "metadata": {
    "colab": {},
    "colab_type": "code",
    "id": "FVPzOrfQMhpO"
   },
   "outputs": [],
   "source": [
    "\n",
    "no_cancelations_df = flight_data[flight_data['flight_departure_real'] != -1 ]\n",
    "delay_time = no_cancelations_df['flight_departure_real'] - no_cancelations_df['flight_departure_scheduled']\n",
    "sched_duration = no_cancelations_df['flight_arrival_scheduled'] - no_cancelations_df['flight_departure_scheduled']"
   ]
  },
  {
   "cell_type": "code",
   "execution_count": null,
   "metadata": {
    "colab": {
     "base_uri": "https://localhost:8080/",
     "height": 35
    },
    "colab_type": "code",
    "id": "9HXeWpBqt7Nx",
    "outputId": "b55b4ce1-2327-408a-c523-29cd9a7360d8"
   },
   "outputs": [],
   "source": [
    "len(y_test_1step)"
   ]
  },
  {
   "cell_type": "code",
   "execution_count": null,
   "metadata": {
    "colab": {
     "base_uri": "https://localhost:8080/",
     "height": 278
    },
    "colab_type": "code",
    "id": "UtEYloNDlYoN",
    "outputId": "431a6a29-4fc5-4e8b-a01d-8525cae74491"
   },
   "outputs": [],
   "source": [
    "import matplotlib.pyplot as plt\n",
    "plt.plot(sched_duration, delay_time, 'ro')\n",
    "plt.show()"
   ]
  },
  {
   "cell_type": "code",
   "execution_count": null,
   "metadata": {
    "colab": {
     "base_uri": "https://localhost:8080/",
     "height": 90
    },
    "colab_type": "code",
    "id": "06CUDwb-t7Nz",
    "outputId": "78428815-14c3-4c85-dc0a-270368f9d1c8"
   },
   "outputs": [],
   "source": [
    "# y_test_1step.unique().s\n",
    "y_train_1step.value_counts()/len(y_train_1step)\n"
   ]
  },
  {
   "cell_type": "code",
   "execution_count": null,
   "metadata": {
    "colab": {
     "base_uri": "https://localhost:8080/",
     "height": 54
    },
    "colab_type": "code",
    "id": "WUTngq4SnwXL",
    "outputId": "261f8115-123a-4e3a-f214-2bf897a6683c"
   },
   "outputs": [],
   "source": [
    "np.corrcoef(sched_duration,delay_time)"
   ]
  },
  {
   "cell_type": "code",
   "execution_count": null,
   "metadata": {
    "colab": {
     "base_uri": "https://localhost:8080/",
     "height": 35
    },
    "colab_type": "code",
    "id": "tPNhatzHZq_W",
    "outputId": "af6c19a5-fef3-46f8-e8fc-b6e710804c7a"
   },
   "outputs": [],
   "source": [
    "print(len(delay_time), len(delay_time[delay_time.between(-1431,4209)]))"
   ]
  },
  {
   "cell_type": "code",
   "execution_count": null,
   "metadata": {
    "colab": {
     "base_uri": "https://localhost:8080/",
     "height": 622
    },
    "colab_type": "code",
    "id": "MZTZ7RziNkE2",
    "outputId": "be5cdc40-324d-4d3f-cfa1-b318ab585669"
   },
   "outputs": [],
   "source": [
    "delay_time[delay_time.between(-1431,4209)].hist(bins=100, figsize=(10,10))"
   ]
  },
  {
   "cell_type": "code",
   "execution_count": null,
   "metadata": {
    "colab": {
     "base_uri": "https://localhost:8080/",
     "height": 622
    },
    "colab_type": "code",
    "id": "c4Ku5pmgNy42",
    "outputId": "40f5065e-8e9d-4101-b343-f42e1e1d7d27"
   },
   "outputs": [],
   "source": [
    "delay_time.plot.box(figsize=(10,10))"
   ]
  },
  {
   "cell_type": "code",
   "execution_count": null,
   "metadata": {
    "colab": {
     "base_uri": "https://localhost:8080/",
     "height": 181
    },
    "colab_type": "code",
    "id": "C8In0s5POxqK",
    "outputId": "6e7a3570-081d-4932-efec-37fe97078e3d"
   },
   "outputs": [],
   "source": [
    "delay_time.describe()"
   ]
  },
  {
   "cell_type": "code",
   "execution_count": null,
   "metadata": {
    "colab": {
     "base_uri": "https://localhost:8080/",
     "height": 296
    },
    "colab_type": "code",
    "id": "EctfFBsYPd5O",
    "outputId": "f6a86103-a3e1-4204-8c0d-ce02ffc89d55"
   },
   "outputs": [],
   "source": [
    "import seaborn as sns\n",
    "sns.boxplot(x=delay_time)"
   ]
  },
  {
   "cell_type": "code",
   "execution_count": null,
   "metadata": {
    "colab": {},
    "colab_type": "code",
    "id": "Dou5oC2wP9nM"
   },
   "outputs": [],
   "source": [
    "step1=[62049,31687,4602]\n",
    "step1[:] = [x / sum(step1) for x in step1]"
   ]
  },
  {
   "cell_type": "code",
   "execution_count": null,
   "metadata": {
    "colab": {
     "base_uri": "https://localhost:8080/",
     "height": 90
    },
    "colab_type": "code",
    "id": "ay5bOdqft7N7",
    "outputId": "eac742c5-d93a-437c-ce09-e1cd7997612a"
   },
   "outputs": [],
   "source": [
    "target_1step.value_counts()"
   ]
  },
  {
   "cell_type": "code",
   "execution_count": null,
   "metadata": {
    "colab": {},
    "colab_type": "code",
    "id": "Zm22l6wdt7N8"
   },
   "outputs": [],
   "source": []
  },
  {
   "cell_type": "markdown",
   "metadata": {
    "colab_type": "text",
    "id": "caT9tnYJt7N9"
   },
   "source": [
    "0 Departure delay 77562\n",
    "1 No delay No cancelation 39609\n",
    "2 Cancelation 5752\n",
    "\n",
    "1    62049\n",
    "2    31687\n",
    "0     4602"
   ]
  }
 ],
 "metadata": {
  "colab": {
   "collapsed_sections": [],
   "name": "IATA_final_for_Javier (1).ipynb",
   "provenance": [],
   "toc_visible": true,
   "version": "0.3.2"
  },
  "kernelspec": {
   "display_name": "py35_AGF",
   "language": "python",
   "name": "py35_agf"
  },
  "language_info": {
   "codemirror_mode": {
    "name": "ipython",
    "version": 3
   },
   "file_extension": ".py",
   "mimetype": "text/x-python",
   "name": "python",
   "nbconvert_exporter": "python",
   "pygments_lexer": "ipython3",
   "version": "3.5.6"
  }
 },
 "nbformat": 4,
 "nbformat_minor": 1
}
